{
  "cells": [
    {
      "cell_type": "markdown",
      "metadata": {
        "id": "e5S_-797E99p"
      },
      "source": [
        "# Questions\n"
      ]
    },
    {
      "cell_type": "markdown",
      "metadata": {
        "id": "FqGofR5sWHH9"
      },
      "source": [
        "**Q1) Why Data Mining is a misnomer? What is another preferred name?**\n",
        " > The phrase \"data mining\" is misnomer because the goal is to extract patterns and knowledge from massive amounts of data rather than data extraction (mining).\n",
        "It is largely concerned with detecting patterns and sounds inside datasets, although it has nothing to do with data extraction.\n",
        "\n",
        "\n",
        "> data mining also called knowledge discovery in databases. "
      ]
    },
    {
      "cell_type": "markdown",
      "metadata": {
        "id": "utItp3NqZ_WG"
      },
      "source": [
        "**Q2) What is the general knowledge discovery process? What is the difference between a data engineer and data scientist/AI engineer?**\n",
        "> Although KDD can have anywhere from 5 to 7 steps, many significant and authoritative voices on the subject see it as a 5-step process:\\\n",
        "**1- Selection**: \\\n",
        "The targeted data and variables that will be utilised to evaluate for knowledge discovery are determined by acting on a database of compiled data. \\\n",
        "**2- Pre-processing**:\\\n",
        "This stage is all about making the data you're working with better, and it includes the idea of data cleaning. Predictive models for unreliable data are created in order to forecast similarly faulty, missing, and attributionally mismatched data in the future, and then work it out of future processes. \\\n",
        "**3- Transformation**:  \n",
        "This step focuses on transforming the pre-processed data into a completely usable format. The material is categorised and sorted here, and it is frequently grouped into a single type. \\\n",
        "**4- Data mining**:  \n",
        "The data mining state is concerned with sifting through the modified data in order to find interesting patterns. These patterns are graphed, trended, and charted in a way that is particularly beneficial to the KDD process. \\\n",
        "**5- Interpretation/evaluation**: \\\n",
        "The data has been cleaned, translated, segmented into important criteria, and framed into visual representations to assist people in evaluating the curated result.\n",
        "\n",
        "\\\n",
        "\n",
        "> Data engineers are concerned with constructing and maintaining data infrastructures, while data scientists are concerned with analysing and interpreting data. Computer scientists, statisticians, and mathematicians are among the most common technical backgrounds for data scientists. \\\n",
        "\\\n",
        "An AI engineer produces a deployable version of the model developed by data scientists and integrates these models with the end product, while a data scientist builds machine learning models on IDEs. If necessary, AI developers are also in charge of developing secure web service APIs for delivering models."
      ]
    },
    {
      "cell_type": "markdown",
      "metadata": {
        "id": "nmKeUjQ4ZAKG"
      },
      "source": [
        "**Q3) In data mining, what is the difference between prediction and categorization?**\n",
        "> Classification is the process of determining which category or class label a new observation belongs to, and it is primarily based on our present or previous assumptions. Prediction is the process of determining the numerical data that is absent or unavailable for a new observation, and it is primarily based on our future assumptions."
      ]
    },
    {
      "cell_type": "markdown",
      "metadata": {
        "id": "hhPwt3re1oDI"
      },
      "source": [
        "**Q4) Why data science/machine learning is a bad idea in the context of information security?**\n",
        "> * Increased risk of data breach and fine \n",
        "* Increased uncertainty \n",
        "* Difficult to evaluate change in AI \n",
        "* Difficult to verify against compliance \n",
        "* Responsibility, accountability, liability \n",
        "* Should be part of the risk management framework\n",
        "\n"
      ]
    },
    {
      "cell_type": "markdown",
      "metadata": {
        "id": "D1mXP6151oS4"
      },
      "source": [
        "**Q5) What is CIA principle and how can we use it to access the security/privacy aspect of the AI system/pipelines?**\n",
        "\n",
        "> The CIA trio is a concept for guiding information security policy within an organisation. To prevent confusion with the Central Intelligence Agency, the paradigm is often known as the AIC triad (availability, integrity, and confidentiality).\n",
        "\n",
        ">  *   **Confidentiality**:  \n",
        "* Personal information  (authentication)\n",
        "* Proprietary information  (authorization)\n",
        "* Government classified information (encryption) \\\n",
        " * **Integrity**: \n",
        "* Unauthorized transactions \n",
        "* Wrong execution of software \n",
        "  * Corruption of data \\\n",
        " * **Availability**: \n",
        "*    Denial of Service \n",
        "* Loss of Data \n",
        "\n",
        "\n"
      ]
    },
    {
      "cell_type": "markdown",
      "metadata": {
        "id": "geUJWbeaFF_A"
      },
      "source": [
        "# The Challenge"
      ]
    },
    {
      "cell_type": "markdown",
      "metadata": {
        "id": "BfvZXjYprCrA"
      },
      "source": [
        "**The problem**"
      ]
    },
    {
      "cell_type": "markdown",
      "metadata": {
        "id": "OpMXUkpM9x3D"
      },
      "source": [
        "There are many products in the world, so when a person needs to buy or sell a specific  product, he needs to know the evaluation of the product and based on some of the characteristics it want it and also when using it, he must evaluate this product.\n",
        "\n",
        "The goal: when I have a new product to be put it on website, I can predict how likely people will like my product, without actually listing out there.\n",
        "\n",
        "\n",
        "The problem: The wish.com product dataset is the source of the data. We gathered the information and blended it with some previously received information. A few new nosies have been added to the dataset.\n"
      ]
    },
    {
      "cell_type": "markdown",
      "metadata": {
        "id": "DuYZZDrVCQZ7"
      },
      "source": [
        "**The Data**"
      ]
    },
    {
      "cell_type": "markdown",
      "metadata": {
        "id": "-et8Rk-lEprU"
      },
      "source": [
        "The dataset is the wish.com product dataset. the dataset is not cleaning and it has noise data\n",
        "\n",
        "\\\n",
        "**The Input data:**\n",
        "\n",
        "*  Price is the price of product.\n",
        "*  Retail Price is the prices that the customers buying goods at retail outlets pay.\n",
        "*  Currency Buyer is categorical value. it is EUR\n",
        "*  Units Sold is the numbers of a product that have been sold\n",
        "*  Uses Ad Boosts has numeric values. 1 is Ad and 0 isn't Ad.\n",
        "*  Rating Count is the total numbers of rating.\n",
        "*  Badges Count is the total numbers of badges.\n",
        "*  Badge Local Product has numeric values. 1 is local and 0 isn't local.\n",
        "*  Badge Product Quality has numeric values. 1 is quality and 0 isn't quality.\n",
        "*  Badge Fast Shipping has numeric values. 1 is fast and 0 isn't fast.\n",
        "*  Tags are informations of product.\n",
        "*  Product Color is categorical value. it is the color of product.\n",
        "*  Product Variation Size Id is the size of product.\n",
        "*  Product Variation Inventory\n",
        "*  Shipping Option Name\n",
        "*  Shipping Option Price\n",
        "*  Shipping Is Express\n",
        "*  Countries Shipped To\n",
        "*  Inventory Total\n",
        "*  Has Urgency Banner\n",
        "*  Urgency Text\n",
        "*  Origin Country\n",
        "*  Merchant Title\n",
        "*  Merchant Name\n",
        "*  Merchant Info Subtitle\n",
        "*  Merchant Rating Count\n",
        "*  Merchant Rating\n",
        "*  Merchant Id\n",
        "*  Merchant Has Profile Picture\n",
        "*  Merchant Profile Picture\n",
        "*  Theme \n",
        "*  Crawl Month\n",
        "*  Id\n",
        "\n",
        "\n",
        "\\\n",
        "**The Output data:**\n",
        "\n",
        "*  Rating has numeric values. it is from 1 to 5.\n"
      ]
    },
    {
      "cell_type": "markdown",
      "metadata": {
        "id": "fFWUMw5WeMnV"
      },
      "source": [
        "**What data mining function is required?**"
      ]
    },
    {
      "cell_type": "markdown",
      "source": [
        "\n",
        "Classification is the function that I require in order to achieve my objective. it separates data points into different classes. This technique often involves the use of algorithms that can be easily adapted to improve the quality of data."
      ],
      "metadata": {
        "id": "PZEH4oPG2xtr"
      }
    },
    {
      "cell_type": "markdown",
      "metadata": {
        "id": "LmrK_6ybCQ1F"
      },
      "source": [
        "**The Challenge**"
      ]
    },
    {
      "cell_type": "markdown",
      "metadata": {
        "id": "Dcv3RLeg2tdY"
      },
      "source": [
        "The dataset isn't perfect; it contains noise and null values.\n",
        "So, to train this dataset and predict the rating, I'll use the classiffication data mining funtions.\n",
        "\n",
        "\n",
        "I need to find the best hyperparameter tuning to give me the best prediction"
      ]
    },
    {
      "cell_type": "markdown",
      "metadata": {
        "id": "6fVuT2Rjf2_-"
      },
      "source": [
        "**What is the impact** ?\n",
        "\n"
      ]
    },
    {
      "cell_type": "markdown",
      "source": [
        "I can forecast how people will evaluate new things before they are evaluated, and this will enhance the products before they are used."
      ],
      "metadata": {
        "id": "4G8470-Z3zD4"
      }
    },
    {
      "cell_type": "markdown",
      "metadata": {
        "id": "rdMyF4_9gSnv"
      },
      "source": [
        "**What is an ideal solution**?"
      ]
    },
    {
      "cell_type": "markdown",
      "source": [
        "I'll clean my data and segregate my training data into training and validation data, after which the model will educate itself and predict the rating when I give it new data."
      ],
      "metadata": {
        "id": "bu9j6L8B4SXB"
      }
    },
    {
      "cell_type": "markdown",
      "metadata": {
        "id": "2if5SC0jgUuc"
      },
      "source": [
        "**What is the experimental protocol used and how was it carried out**?"
      ]
    },
    {
      "cell_type": "markdown",
      "source": [
        "\n",
        "\n",
        "1.   Import a few libraries that I'm going to need.\n",
        "2.   Read the data using the function \"*read_csv*\"\n",
        "3.   Cleaning the dataset by I'll check for null values, duplicated values, and other issues.\n",
        "4.   convert the categorical values to numerical values using \"*LabelEncoder*\"\n",
        "5.   Holdout method is split the training dataset to training data and validation data using \"*train_test_split*\"\n",
        "6.   Transform features by scaling each feature to a given range using \"*MinMaxScaler*\"\n",
        "7.   I will use some model \"decision tree, SVM and Naive Bayes\""
      ],
      "metadata": {
        "id": "D9w1YxDO8KPV"
      }
    },
    {
      "cell_type": "markdown",
      "metadata": {
        "id": "7rJ9xbihgmC-"
      },
      "source": [
        "**What preprocessing steps are used**?"
      ]
    },
    {
      "cell_type": "markdown",
      "metadata": {
        "id": "-YuDh14ihnTO"
      },
      "source": [
        "\n",
        "*   The Label\n",
        " *   I'll check for null values.\n",
        " *   I'll show the unique value. \n",
        " *   Drop row with the label value is 6.\n",
        "* The Features\n",
        " *   show sum of duplicate values (if any)\n",
        " *   I'll check for null values.\n",
        " *   I'll show the unique value. \n",
        " *   Drop some columns which have 1 value\n",
        " *   I'll fill the null values\n",
        " *   Replace The product_color and product_variation_size_id values using constant values.\n",
        " *   Replace The shipping_option_name values using Translator\n",
        " *   Drop some columns\n",
        "\n"
      ]
    },
    {
      "cell_type": "markdown",
      "source": [
        "**how & why you adjust your design to improve the performance**?"
      ],
      "metadata": {
        "id": "iI-b_0h0Kw-P"
      }
    },
    {
      "cell_type": "markdown",
      "source": [
        "To achieve high performance, I will use the models and adjust the hyperparameter.\n",
        "\n",
        "I enhance my performance since the model predicts the exact rating when it tests new data to anticipate exactly the rating."
      ],
      "metadata": {
        "id": "x-cD5m6oK3fq"
      }
    },
    {
      "cell_type": "markdown",
      "metadata": {
        "id": "XGxoSONNIX5y"
      },
      "source": [
        "# Code"
      ]
    },
    {
      "cell_type": "markdown",
      "metadata": {
        "id": "YPUNLNn0IveK"
      },
      "source": [
        "## Important libraries"
      ]
    },
    {
      "cell_type": "markdown",
      "metadata": {
        "id": "ezKLx0REjFPV"
      },
      "source": [
        "To aid in the solution of the problem, I will import numpy, pandas, and sklearn from Python.\n",
        "\n",
        "\\\n",
        "*NumPy* I can be used to perform a wide variety of mathematical operations on arrays.\n",
        "\n",
        "*Pandas* is a Python library for data analysis.\n",
        "\n",
        "*Matplotlib* is a python library used for Data Visualization.\n",
        "\n",
        "*seaborn* used for making statistical graphics.\n",
        "\n",
        "*Sklearn* provides a selection of efficient tools for machine learning and statistical modeling ."
      ]
    },
    {
      "cell_type": "code",
      "execution_count": null,
      "metadata": {
        "id": "2IUWK6wdIlhI"
      },
      "outputs": [],
      "source": [
        "# For uploading and accessing the data\n",
        "import numpy as np\n",
        "import pandas as pd\n",
        "\n",
        "# for Data Visualization\n",
        "import matplotlib.pyplot as plt\n",
        "\n",
        "# for making statistical graphics.\n",
        "import seaborn as sns\n",
        "\n",
        "# for Encode categorical features as a numeric values\n",
        "from sklearn.preprocessing import LabelEncoder\n",
        "\n",
        "# for scaling the data\n",
        "from sklearn.preprocessing import StandardScaler , MinMaxScaler\n",
        "\n",
        "# for split data\n",
        "from sklearn.model_selection import train_test_split\n",
        "\n",
        "\n",
        "# for fitting Models\n",
        "from sklearn.tree import DecisionTreeClassifier\n",
        "from sklearn.svm import SVC\n",
        "from sklearn.naive_bayes import GaussianNB\n",
        "from sklearn.model_selection import GridSearchCV\n",
        "\n",
        "# for calculate accuracy_score, f1_score\n",
        "from sklearn.metrics import f1_score, accuracy_score, classification_report "
      ]
    },
    {
      "cell_type": "markdown",
      "metadata": {
        "id": "Uc9POM21NaLz"
      },
      "source": [
        "## Read Data\n",
        "\n",
        "I'll use the read csv function to read the data. It may read any delimited text file and change the delimiter by using the sep option.\n",
        "\n",
        "I'm going to read the training and testing datasets."
      ]
    },
    {
      "cell_type": "code",
      "execution_count": null,
      "metadata": {
        "id": "lk-zf26PNWV9"
      },
      "outputs": [],
      "source": [
        "# reading the training dataset \n",
        "df_train = pd.read_csv('train_new.csv') \n",
        "# reading the testing dataset \n",
        "df_test = pd.read_csv('test_new.csv') "
      ]
    },
    {
      "cell_type": "code",
      "execution_count": null,
      "metadata": {
        "colab": {
          "base_uri": "https://localhost:8080/"
        },
        "id": "edMYjAD2V-sE",
        "outputId": "102e95d1-8d41-4a33-f4f1-9aa6fb911ce8"
      },
      "outputs": [
        {
          "output_type": "execute_result",
          "data": {
            "text/html": [
              "\n",
              "  <div id=\"df-d5fef84b-444b-4748-be9b-eac310039c5a\">\n",
              "    <div class=\"colab-df-container\">\n",
              "      <div>\n",
              "<style scoped>\n",
              "    .dataframe tbody tr th:only-of-type {\n",
              "        vertical-align: middle;\n",
              "    }\n",
              "\n",
              "    .dataframe tbody tr th {\n",
              "        vertical-align: top;\n",
              "    }\n",
              "\n",
              "    .dataframe thead th {\n",
              "        text-align: right;\n",
              "    }\n",
              "</style>\n",
              "<table border=\"1\" class=\"dataframe\">\n",
              "  <thead>\n",
              "    <tr style=\"text-align: right;\">\n",
              "      <th></th>\n",
              "      <th>price</th>\n",
              "      <th>retail_price</th>\n",
              "      <th>currency_buyer</th>\n",
              "      <th>units_sold</th>\n",
              "      <th>uses_ad_boosts</th>\n",
              "      <th>rating</th>\n",
              "      <th>rating_count</th>\n",
              "      <th>badges_count</th>\n",
              "      <th>badge_local_product</th>\n",
              "      <th>badge_product_quality</th>\n",
              "      <th>badge_fast_shipping</th>\n",
              "      <th>tags</th>\n",
              "      <th>product_color</th>\n",
              "      <th>product_variation_size_id</th>\n",
              "      <th>product_variation_inventory</th>\n",
              "      <th>shipping_option_name</th>\n",
              "      <th>shipping_option_price</th>\n",
              "      <th>shipping_is_express</th>\n",
              "      <th>countries_shipped_to</th>\n",
              "      <th>inventory_total</th>\n",
              "      <th>has_urgency_banner</th>\n",
              "      <th>urgency_text</th>\n",
              "      <th>origin_country</th>\n",
              "      <th>merchant_title</th>\n",
              "      <th>merchant_name</th>\n",
              "      <th>merchant_info_subtitle</th>\n",
              "      <th>merchant_rating_count</th>\n",
              "      <th>merchant_rating</th>\n",
              "      <th>merchant_id</th>\n",
              "      <th>merchant_has_profile_picture</th>\n",
              "      <th>merchant_profile_picture</th>\n",
              "      <th>theme</th>\n",
              "      <th>crawl_month</th>\n",
              "      <th>id</th>\n",
              "    </tr>\n",
              "  </thead>\n",
              "  <tbody>\n",
              "    <tr>\n",
              "      <th>0</th>\n",
              "      <td>8.00</td>\n",
              "      <td>7</td>\n",
              "      <td>EUR</td>\n",
              "      <td>10000</td>\n",
              "      <td>1</td>\n",
              "      <td>4.0</td>\n",
              "      <td>1670</td>\n",
              "      <td>0</td>\n",
              "      <td>0</td>\n",
              "      <td>0</td>\n",
              "      <td>0</td>\n",
              "      <td>Summer,soildcolor,Plus Size,Tank,camisole,Tops...</td>\n",
              "      <td>yellow</td>\n",
              "      <td>M</td>\n",
              "      <td>50</td>\n",
              "      <td>Livraison standard</td>\n",
              "      <td>3</td>\n",
              "      <td>0</td>\n",
              "      <td>30</td>\n",
              "      <td>50</td>\n",
              "      <td>NaN</td>\n",
              "      <td>NaN</td>\n",
              "      <td>CN</td>\n",
              "      <td>keepahorse</td>\n",
              "      <td>keepahorse</td>\n",
              "      <td>88 % avis positifs (66,644 notes)</td>\n",
              "      <td>66644</td>\n",
              "      <td>4.137582</td>\n",
              "      <td>577fb2b368116418674befd9</td>\n",
              "      <td>1</td>\n",
              "      <td>https://s3-us-west-1.amazonaws.com/sweeper-pro...</td>\n",
              "      <td>summer</td>\n",
              "      <td>2020-08</td>\n",
              "      <td>272</td>\n",
              "    </tr>\n",
              "    <tr>\n",
              "      <th>1</th>\n",
              "      <td>8.00</td>\n",
              "      <td>7</td>\n",
              "      <td>EUR</td>\n",
              "      <td>1000</td>\n",
              "      <td>0</td>\n",
              "      <td>4.0</td>\n",
              "      <td>843</td>\n",
              "      <td>1</td>\n",
              "      <td>1</td>\n",
              "      <td>0</td>\n",
              "      <td>0</td>\n",
              "      <td>bathing suit,Plus Size,bikini set,sexy swimsui...</td>\n",
              "      <td>black</td>\n",
              "      <td>L</td>\n",
              "      <td>50</td>\n",
              "      <td>Livraison standard</td>\n",
              "      <td>3</td>\n",
              "      <td>0</td>\n",
              "      <td>37</td>\n",
              "      <td>50</td>\n",
              "      <td>NaN</td>\n",
              "      <td>NaN</td>\n",
              "      <td>CN</td>\n",
              "      <td>shanghaimingqidianqikejiyouxiangongsi</td>\n",
              "      <td>上海铭启电气科技有限公司</td>\n",
              "      <td>91 % avis positifs (25,752 notes)</td>\n",
              "      <td>25752</td>\n",
              "      <td>4.256873</td>\n",
              "      <td>566a3ef17233ff2686443082</td>\n",
              "      <td>0</td>\n",
              "      <td>NaN</td>\n",
              "      <td>summer</td>\n",
              "      <td>2020-08</td>\n",
              "      <td>1515</td>\n",
              "    </tr>\n",
              "    <tr>\n",
              "      <th>2</th>\n",
              "      <td>6.00</td>\n",
              "      <td>34</td>\n",
              "      <td>EUR</td>\n",
              "      <td>100</td>\n",
              "      <td>0</td>\n",
              "      <td>4.0</td>\n",
              "      <td>10</td>\n",
              "      <td>0</td>\n",
              "      <td>0</td>\n",
              "      <td>0</td>\n",
              "      <td>0</td>\n",
              "      <td>Summer,Vest,momshirt,Get,summer t-shirts,funny...</td>\n",
              "      <td>white</td>\n",
              "      <td>L</td>\n",
              "      <td>50</td>\n",
              "      <td>Livraison standard</td>\n",
              "      <td>2</td>\n",
              "      <td>0</td>\n",
              "      <td>41</td>\n",
              "      <td>50</td>\n",
              "      <td>NaN</td>\n",
              "      <td>NaN</td>\n",
              "      <td>CN</td>\n",
              "      <td>zhaodongmei</td>\n",
              "      <td>zhaodongmei</td>\n",
              "      <td>83 % avis positifs (3,897 notes)</td>\n",
              "      <td>3897</td>\n",
              "      <td>3.928920</td>\n",
              "      <td>5aacd6c1ccf0c83e5a6f3de0</td>\n",
              "      <td>0</td>\n",
              "      <td>NaN</td>\n",
              "      <td>summer</td>\n",
              "      <td>2020-08</td>\n",
              "      <td>940</td>\n",
              "    </tr>\n",
              "    <tr>\n",
              "      <th>3</th>\n",
              "      <td>4.67</td>\n",
              "      <td>4</td>\n",
              "      <td>EUR</td>\n",
              "      <td>100</td>\n",
              "      <td>1</td>\n",
              "      <td>3.0</td>\n",
              "      <td>82</td>\n",
              "      <td>0</td>\n",
              "      <td>0</td>\n",
              "      <td>0</td>\n",
              "      <td>0</td>\n",
              "      <td>Summer,Shorts,pants,Beach,Plus Size,beachpant,...</td>\n",
              "      <td>lakeblue</td>\n",
              "      <td>XS</td>\n",
              "      <td>5</td>\n",
              "      <td>Livraison standard</td>\n",
              "      <td>1</td>\n",
              "      <td>0</td>\n",
              "      <td>25</td>\n",
              "      <td>50</td>\n",
              "      <td>NaN</td>\n",
              "      <td>NaN</td>\n",
              "      <td>CN</td>\n",
              "      <td>pookie0331</td>\n",
              "      <td>pookie0331</td>\n",
              "      <td>87 % avis positifs (7,497 notes)</td>\n",
              "      <td>7497</td>\n",
              "      <td>4.079365</td>\n",
              "      <td>583141fbfef4094e51453d9b</td>\n",
              "      <td>0</td>\n",
              "      <td>NaN</td>\n",
              "      <td>summer</td>\n",
              "      <td>2020-08</td>\n",
              "      <td>309</td>\n",
              "    </tr>\n",
              "    <tr>\n",
              "      <th>4</th>\n",
              "      <td>8.00</td>\n",
              "      <td>11</td>\n",
              "      <td>EUR</td>\n",
              "      <td>1000</td>\n",
              "      <td>0</td>\n",
              "      <td>4.0</td>\n",
              "      <td>127</td>\n",
              "      <td>0</td>\n",
              "      <td>0</td>\n",
              "      <td>0</td>\n",
              "      <td>0</td>\n",
              "      <td>Summer,Floral print,women dresses,fashion dres...</td>\n",
              "      <td>apricot</td>\n",
              "      <td>S</td>\n",
              "      <td>50</td>\n",
              "      <td>Livraison standard</td>\n",
              "      <td>3</td>\n",
              "      <td>0</td>\n",
              "      <td>15</td>\n",
              "      <td>50</td>\n",
              "      <td>1.0</td>\n",
              "      <td>Quantité limitée !</td>\n",
              "      <td>CN</td>\n",
              "      <td>shitongyi12683626</td>\n",
              "      <td>shitongyi12683626</td>\n",
              "      <td>91 % avis positifs (173 notes)</td>\n",
              "      <td>173</td>\n",
              "      <td>4.306358</td>\n",
              "      <td>5d3bc9f8e13a7e654424a4cb</td>\n",
              "      <td>0</td>\n",
              "      <td>NaN</td>\n",
              "      <td>summer</td>\n",
              "      <td>2020-08</td>\n",
              "      <td>226</td>\n",
              "    </tr>\n",
              "  </tbody>\n",
              "</table>\n",
              "</div>\n",
              "      <button class=\"colab-df-convert\" onclick=\"convertToInteractive('df-d5fef84b-444b-4748-be9b-eac310039c5a')\"\n",
              "              title=\"Convert this dataframe to an interactive table.\"\n",
              "              style=\"display:none;\">\n",
              "        \n",
              "  <svg xmlns=\"http://www.w3.org/2000/svg\" height=\"24px\"viewBox=\"0 0 24 24\"\n",
              "       width=\"24px\">\n",
              "    <path d=\"M0 0h24v24H0V0z\" fill=\"none\"/>\n",
              "    <path d=\"M18.56 5.44l.94 2.06.94-2.06 2.06-.94-2.06-.94-.94-2.06-.94 2.06-2.06.94zm-11 1L8.5 8.5l.94-2.06 2.06-.94-2.06-.94L8.5 2.5l-.94 2.06-2.06.94zm10 10l.94 2.06.94-2.06 2.06-.94-2.06-.94-.94-2.06-.94 2.06-2.06.94z\"/><path d=\"M17.41 7.96l-1.37-1.37c-.4-.4-.92-.59-1.43-.59-.52 0-1.04.2-1.43.59L10.3 9.45l-7.72 7.72c-.78.78-.78 2.05 0 2.83L4 21.41c.39.39.9.59 1.41.59.51 0 1.02-.2 1.41-.59l7.78-7.78 2.81-2.81c.8-.78.8-2.07 0-2.86zM5.41 20L4 18.59l7.72-7.72 1.47 1.35L5.41 20z\"/>\n",
              "  </svg>\n",
              "      </button>\n",
              "      \n",
              "  <style>\n",
              "    .colab-df-container {\n",
              "      display:flex;\n",
              "      flex-wrap:wrap;\n",
              "      gap: 12px;\n",
              "    }\n",
              "\n",
              "    .colab-df-convert {\n",
              "      background-color: #E8F0FE;\n",
              "      border: none;\n",
              "      border-radius: 50%;\n",
              "      cursor: pointer;\n",
              "      display: none;\n",
              "      fill: #1967D2;\n",
              "      height: 32px;\n",
              "      padding: 0 0 0 0;\n",
              "      width: 32px;\n",
              "    }\n",
              "\n",
              "    .colab-df-convert:hover {\n",
              "      background-color: #E2EBFA;\n",
              "      box-shadow: 0px 1px 2px rgba(60, 64, 67, 0.3), 0px 1px 3px 1px rgba(60, 64, 67, 0.15);\n",
              "      fill: #174EA6;\n",
              "    }\n",
              "\n",
              "    [theme=dark] .colab-df-convert {\n",
              "      background-color: #3B4455;\n",
              "      fill: #D2E3FC;\n",
              "    }\n",
              "\n",
              "    [theme=dark] .colab-df-convert:hover {\n",
              "      background-color: #434B5C;\n",
              "      box-shadow: 0px 1px 3px 1px rgba(0, 0, 0, 0.15);\n",
              "      filter: drop-shadow(0px 1px 2px rgba(0, 0, 0, 0.3));\n",
              "      fill: #FFFFFF;\n",
              "    }\n",
              "  </style>\n",
              "\n",
              "      <script>\n",
              "        const buttonEl =\n",
              "          document.querySelector('#df-d5fef84b-444b-4748-be9b-eac310039c5a button.colab-df-convert');\n",
              "        buttonEl.style.display =\n",
              "          google.colab.kernel.accessAllowed ? 'block' : 'none';\n",
              "\n",
              "        async function convertToInteractive(key) {\n",
              "          const element = document.querySelector('#df-d5fef84b-444b-4748-be9b-eac310039c5a');\n",
              "          const dataTable =\n",
              "            await google.colab.kernel.invokeFunction('convertToInteractive',\n",
              "                                                     [key], {});\n",
              "          if (!dataTable) return;\n",
              "\n",
              "          const docLinkHtml = 'Like what you see? Visit the ' +\n",
              "            '<a target=\"_blank\" href=https://colab.research.google.com/notebooks/data_table.ipynb>data table notebook</a>'\n",
              "            + ' to learn more about interactive tables.';\n",
              "          element.innerHTML = '';\n",
              "          dataTable['output_type'] = 'display_data';\n",
              "          await google.colab.output.renderOutput(dataTable, element);\n",
              "          const docLink = document.createElement('div');\n",
              "          docLink.innerHTML = docLinkHtml;\n",
              "          element.appendChild(docLink);\n",
              "        }\n",
              "      </script>\n",
              "    </div>\n",
              "  </div>\n",
              "  "
            ],
            "text/plain": [
              "   price  retail_price currency_buyer  ...   theme  crawl_month    id\n",
              "0   8.00             7            EUR  ...  summer      2020-08   272\n",
              "1   8.00             7            EUR  ...  summer      2020-08  1515\n",
              "2   6.00            34            EUR  ...  summer      2020-08   940\n",
              "3   4.67             4            EUR  ...  summer      2020-08   309\n",
              "4   8.00            11            EUR  ...  summer      2020-08   226\n",
              "\n",
              "[5 rows x 34 columns]"
            ]
          },
          "metadata": {},
          "execution_count": 351
        }
      ],
      "source": [
        "#show heading of columns in trainig data\n",
        "df_train.head()"
      ]
    },
    {
      "cell_type": "code",
      "execution_count": null,
      "metadata": {
        "colab": {
          "base_uri": "https://localhost:8080/"
        },
        "id": "HjRL2GVGWRVk",
        "outputId": "cb313962-bbaf-4d9e-9f96-05b13824e86b"
      },
      "outputs": [
        {
          "output_type": "execute_result",
          "data": {
            "text/html": [
              "\n",
              "  <div id=\"df-c4048135-dc87-4f3e-9f3d-5a01292dc81b\">\n",
              "    <div class=\"colab-df-container\">\n",
              "      <div>\n",
              "<style scoped>\n",
              "    .dataframe tbody tr th:only-of-type {\n",
              "        vertical-align: middle;\n",
              "    }\n",
              "\n",
              "    .dataframe tbody tr th {\n",
              "        vertical-align: top;\n",
              "    }\n",
              "\n",
              "    .dataframe thead th {\n",
              "        text-align: right;\n",
              "    }\n",
              "</style>\n",
              "<table border=\"1\" class=\"dataframe\">\n",
              "  <thead>\n",
              "    <tr style=\"text-align: right;\">\n",
              "      <th></th>\n",
              "      <th>price</th>\n",
              "      <th>retail_price</th>\n",
              "      <th>currency_buyer</th>\n",
              "      <th>units_sold</th>\n",
              "      <th>uses_ad_boosts</th>\n",
              "      <th>rating_count</th>\n",
              "      <th>badges_count</th>\n",
              "      <th>badge_local_product</th>\n",
              "      <th>badge_product_quality</th>\n",
              "      <th>badge_fast_shipping</th>\n",
              "      <th>tags</th>\n",
              "      <th>product_color</th>\n",
              "      <th>product_variation_size_id</th>\n",
              "      <th>product_variation_inventory</th>\n",
              "      <th>shipping_option_name</th>\n",
              "      <th>shipping_option_price</th>\n",
              "      <th>shipping_is_express</th>\n",
              "      <th>countries_shipped_to</th>\n",
              "      <th>inventory_total</th>\n",
              "      <th>has_urgency_banner</th>\n",
              "      <th>urgency_text</th>\n",
              "      <th>origin_country</th>\n",
              "      <th>merchant_title</th>\n",
              "      <th>merchant_name</th>\n",
              "      <th>merchant_info_subtitle</th>\n",
              "      <th>merchant_rating_count</th>\n",
              "      <th>merchant_rating</th>\n",
              "      <th>merchant_id</th>\n",
              "      <th>merchant_has_profile_picture</th>\n",
              "      <th>merchant_profile_picture</th>\n",
              "      <th>theme</th>\n",
              "      <th>crawl_month</th>\n",
              "      <th>id</th>\n",
              "    </tr>\n",
              "  </thead>\n",
              "  <tbody>\n",
              "    <tr>\n",
              "      <th>0</th>\n",
              "      <td>5.75</td>\n",
              "      <td>5</td>\n",
              "      <td>EUR</td>\n",
              "      <td>10</td>\n",
              "      <td>1</td>\n",
              "      <td>0</td>\n",
              "      <td>0</td>\n",
              "      <td>0</td>\n",
              "      <td>0</td>\n",
              "      <td>0</td>\n",
              "      <td>Funny,letter print,Fashion,Shirt,Sleeve,Summer...</td>\n",
              "      <td>white</td>\n",
              "      <td>XS</td>\n",
              "      <td>5</td>\n",
              "      <td>Livraison standard</td>\n",
              "      <td>2</td>\n",
              "      <td>0</td>\n",
              "      <td>139</td>\n",
              "      <td>50</td>\n",
              "      <td>NaN</td>\n",
              "      <td>NaN</td>\n",
              "      <td>CN</td>\n",
              "      <td>liyang163</td>\n",
              "      <td>liyang163</td>\n",
              "      <td>33 % avis positifs (3 notes)</td>\n",
              "      <td>3</td>\n",
              "      <td>2.333333</td>\n",
              "      <td>5e63469b2fdc774466e15dd5</td>\n",
              "      <td>0</td>\n",
              "      <td>NaN</td>\n",
              "      <td>summer</td>\n",
              "      <td>2020-08</td>\n",
              "      <td>937</td>\n",
              "    </tr>\n",
              "    <tr>\n",
              "      <th>1</th>\n",
              "      <td>7.00</td>\n",
              "      <td>7</td>\n",
              "      <td>EUR</td>\n",
              "      <td>5000</td>\n",
              "      <td>0</td>\n",
              "      <td>579</td>\n",
              "      <td>0</td>\n",
              "      <td>0</td>\n",
              "      <td>0</td>\n",
              "      <td>0</td>\n",
              "      <td>Women Vest,Vest,Fashion,Women Blouse,long dres...</td>\n",
              "      <td>black</td>\n",
              "      <td>XS</td>\n",
              "      <td>50</td>\n",
              "      <td>Livraison standard</td>\n",
              "      <td>2</td>\n",
              "      <td>0</td>\n",
              "      <td>31</td>\n",
              "      <td>50</td>\n",
              "      <td>NaN</td>\n",
              "      <td>NaN</td>\n",
              "      <td>CN</td>\n",
              "      <td>singing  the  song</td>\n",
              "      <td>singingthesong</td>\n",
              "      <td>86 % avis positifs (4,213 notes)</td>\n",
              "      <td>4213</td>\n",
              "      <td>4.058391</td>\n",
              "      <td>583547f417dc6224cb464117</td>\n",
              "      <td>0</td>\n",
              "      <td>NaN</td>\n",
              "      <td>summer</td>\n",
              "      <td>2020-08</td>\n",
              "      <td>270</td>\n",
              "    </tr>\n",
              "    <tr>\n",
              "      <th>2</th>\n",
              "      <td>5.00</td>\n",
              "      <td>16</td>\n",
              "      <td>EUR</td>\n",
              "      <td>1000</td>\n",
              "      <td>1</td>\n",
              "      <td>62</td>\n",
              "      <td>0</td>\n",
              "      <td>0</td>\n",
              "      <td>0</td>\n",
              "      <td>0</td>\n",
              "      <td>hollowouttanktop,Tanktops for women,Plus Size,...</td>\n",
              "      <td>blue</td>\n",
              "      <td>XS</td>\n",
              "      <td>20</td>\n",
              "      <td>Livraison standard</td>\n",
              "      <td>2</td>\n",
              "      <td>0</td>\n",
              "      <td>41</td>\n",
              "      <td>50</td>\n",
              "      <td>NaN</td>\n",
              "      <td>NaN</td>\n",
              "      <td>CN</td>\n",
              "      <td>Surper boutique</td>\n",
              "      <td>surperboutique</td>\n",
              "      <td>85 % avis positifs (10,501 notes)</td>\n",
              "      <td>10501</td>\n",
              "      <td>4.029235</td>\n",
              "      <td>57086fd7fa6bee434d0e5852</td>\n",
              "      <td>0</td>\n",
              "      <td>NaN</td>\n",
              "      <td>summer</td>\n",
              "      <td>2020-08</td>\n",
              "      <td>308</td>\n",
              "    </tr>\n",
              "    <tr>\n",
              "      <th>3</th>\n",
              "      <td>18.00</td>\n",
              "      <td>27</td>\n",
              "      <td>EUR</td>\n",
              "      <td>5000</td>\n",
              "      <td>1</td>\n",
              "      <td>1903</td>\n",
              "      <td>0</td>\n",
              "      <td>0</td>\n",
              "      <td>0</td>\n",
              "      <td>0</td>\n",
              "      <td>men jeans,Shorts,Summer,Vintage,Denim,Men,casu...</td>\n",
              "      <td>blue</td>\n",
              "      <td>M</td>\n",
              "      <td>50</td>\n",
              "      <td>Livraison standard</td>\n",
              "      <td>5</td>\n",
              "      <td>0</td>\n",
              "      <td>42</td>\n",
              "      <td>50</td>\n",
              "      <td>NaN</td>\n",
              "      <td>NaN</td>\n",
              "      <td>CN</td>\n",
              "      <td>postonny</td>\n",
              "      <td>postonny</td>\n",
              "      <td>86 % avis positifs (15,855 notes)</td>\n",
              "      <td>15855</td>\n",
              "      <td>4.052917</td>\n",
              "      <td>5a17b55d1f4d8c4f0b44b0ce</td>\n",
              "      <td>0</td>\n",
              "      <td>NaN</td>\n",
              "      <td>summer</td>\n",
              "      <td>2020-08</td>\n",
              "      <td>913</td>\n",
              "    </tr>\n",
              "    <tr>\n",
              "      <th>4</th>\n",
              "      <td>12.00</td>\n",
              "      <td>81</td>\n",
              "      <td>EUR</td>\n",
              "      <td>20000</td>\n",
              "      <td>0</td>\n",
              "      <td>1799</td>\n",
              "      <td>0</td>\n",
              "      <td>0</td>\n",
              "      <td>0</td>\n",
              "      <td>0</td>\n",
              "      <td>Shorts,Lace,pants,Dress,Women Leggings,Hot pan...</td>\n",
              "      <td>white</td>\n",
              "      <td>M</td>\n",
              "      <td>50</td>\n",
              "      <td>Livraison standard</td>\n",
              "      <td>3</td>\n",
              "      <td>0</td>\n",
              "      <td>38</td>\n",
              "      <td>50</td>\n",
              "      <td>NaN</td>\n",
              "      <td>NaN</td>\n",
              "      <td>CN</td>\n",
              "      <td>fashionforgirls</td>\n",
              "      <td>guangzhouchanny</td>\n",
              "      <td>88 % avis positifs (151,914 notes)</td>\n",
              "      <td>151914</td>\n",
              "      <td>4.127921</td>\n",
              "      <td>53aa664438d3046ee44a5024</td>\n",
              "      <td>0</td>\n",
              "      <td>NaN</td>\n",
              "      <td>summer</td>\n",
              "      <td>2020-08</td>\n",
              "      <td>403</td>\n",
              "    </tr>\n",
              "  </tbody>\n",
              "</table>\n",
              "</div>\n",
              "      <button class=\"colab-df-convert\" onclick=\"convertToInteractive('df-c4048135-dc87-4f3e-9f3d-5a01292dc81b')\"\n",
              "              title=\"Convert this dataframe to an interactive table.\"\n",
              "              style=\"display:none;\">\n",
              "        \n",
              "  <svg xmlns=\"http://www.w3.org/2000/svg\" height=\"24px\"viewBox=\"0 0 24 24\"\n",
              "       width=\"24px\">\n",
              "    <path d=\"M0 0h24v24H0V0z\" fill=\"none\"/>\n",
              "    <path d=\"M18.56 5.44l.94 2.06.94-2.06 2.06-.94-2.06-.94-.94-2.06-.94 2.06-2.06.94zm-11 1L8.5 8.5l.94-2.06 2.06-.94-2.06-.94L8.5 2.5l-.94 2.06-2.06.94zm10 10l.94 2.06.94-2.06 2.06-.94-2.06-.94-.94-2.06-.94 2.06-2.06.94z\"/><path d=\"M17.41 7.96l-1.37-1.37c-.4-.4-.92-.59-1.43-.59-.52 0-1.04.2-1.43.59L10.3 9.45l-7.72 7.72c-.78.78-.78 2.05 0 2.83L4 21.41c.39.39.9.59 1.41.59.51 0 1.02-.2 1.41-.59l7.78-7.78 2.81-2.81c.8-.78.8-2.07 0-2.86zM5.41 20L4 18.59l7.72-7.72 1.47 1.35L5.41 20z\"/>\n",
              "  </svg>\n",
              "      </button>\n",
              "      \n",
              "  <style>\n",
              "    .colab-df-container {\n",
              "      display:flex;\n",
              "      flex-wrap:wrap;\n",
              "      gap: 12px;\n",
              "    }\n",
              "\n",
              "    .colab-df-convert {\n",
              "      background-color: #E8F0FE;\n",
              "      border: none;\n",
              "      border-radius: 50%;\n",
              "      cursor: pointer;\n",
              "      display: none;\n",
              "      fill: #1967D2;\n",
              "      height: 32px;\n",
              "      padding: 0 0 0 0;\n",
              "      width: 32px;\n",
              "    }\n",
              "\n",
              "    .colab-df-convert:hover {\n",
              "      background-color: #E2EBFA;\n",
              "      box-shadow: 0px 1px 2px rgba(60, 64, 67, 0.3), 0px 1px 3px 1px rgba(60, 64, 67, 0.15);\n",
              "      fill: #174EA6;\n",
              "    }\n",
              "\n",
              "    [theme=dark] .colab-df-convert {\n",
              "      background-color: #3B4455;\n",
              "      fill: #D2E3FC;\n",
              "    }\n",
              "\n",
              "    [theme=dark] .colab-df-convert:hover {\n",
              "      background-color: #434B5C;\n",
              "      box-shadow: 0px 1px 3px 1px rgba(0, 0, 0, 0.15);\n",
              "      filter: drop-shadow(0px 1px 2px rgba(0, 0, 0, 0.3));\n",
              "      fill: #FFFFFF;\n",
              "    }\n",
              "  </style>\n",
              "\n",
              "      <script>\n",
              "        const buttonEl =\n",
              "          document.querySelector('#df-c4048135-dc87-4f3e-9f3d-5a01292dc81b button.colab-df-convert');\n",
              "        buttonEl.style.display =\n",
              "          google.colab.kernel.accessAllowed ? 'block' : 'none';\n",
              "\n",
              "        async function convertToInteractive(key) {\n",
              "          const element = document.querySelector('#df-c4048135-dc87-4f3e-9f3d-5a01292dc81b');\n",
              "          const dataTable =\n",
              "            await google.colab.kernel.invokeFunction('convertToInteractive',\n",
              "                                                     [key], {});\n",
              "          if (!dataTable) return;\n",
              "\n",
              "          const docLinkHtml = 'Like what you see? Visit the ' +\n",
              "            '<a target=\"_blank\" href=https://colab.research.google.com/notebooks/data_table.ipynb>data table notebook</a>'\n",
              "            + ' to learn more about interactive tables.';\n",
              "          element.innerHTML = '';\n",
              "          dataTable['output_type'] = 'display_data';\n",
              "          await google.colab.output.renderOutput(dataTable, element);\n",
              "          const docLink = document.createElement('div');\n",
              "          docLink.innerHTML = docLinkHtml;\n",
              "          element.appendChild(docLink);\n",
              "        }\n",
              "      </script>\n",
              "    </div>\n",
              "  </div>\n",
              "  "
            ],
            "text/plain": [
              "   price  retail_price currency_buyer  ...   theme  crawl_month   id\n",
              "0   5.75             5            EUR  ...  summer      2020-08  937\n",
              "1   7.00             7            EUR  ...  summer      2020-08  270\n",
              "2   5.00            16            EUR  ...  summer      2020-08  308\n",
              "3  18.00            27            EUR  ...  summer      2020-08  913\n",
              "4  12.00            81            EUR  ...  summer      2020-08  403\n",
              "\n",
              "[5 rows x 33 columns]"
            ]
          },
          "metadata": {},
          "execution_count": 352
        }
      ],
      "source": [
        "#show heading of columns in testing data\n",
        "df_test.head()"
      ]
    },
    {
      "cell_type": "code",
      "execution_count": null,
      "metadata": {
        "colab": {
          "base_uri": "https://localhost:8080/"
        },
        "id": "hzVr8EMTiLVT",
        "outputId": "145e8789-b2b6-4861-d6df-a54a456b49e3"
      },
      "outputs": [
        {
          "output_type": "stream",
          "name": "stdout",
          "text": [
            "Shape to traing :  (1094, 34)\n",
            "Shape to testing :  (479, 33)\n"
          ]
        }
      ],
      "source": [
        "# show the training data shape\n",
        "print('Shape to traing : ', df_train.shape)\n",
        "# show the testing data shape\n",
        "print('Shape to testing : ', df_test.shape)"
      ]
    },
    {
      "cell_type": "code",
      "execution_count": null,
      "metadata": {
        "id": "WTz5di1Bhapq"
      },
      "outputs": [],
      "source": [
        "# multiple columns can be assigned as multi-index.\n",
        "df_train = df_train.set_index([df_train.id, df_train.merchant_id], drop=True)\n",
        "df_test = df_test.set_index([df_test.id, df_test.merchant_id], drop=True)"
      ]
    },
    {
      "cell_type": "code",
      "execution_count": null,
      "metadata": {
        "colab": {
          "base_uri": "https://localhost:8080/"
        },
        "id": "xYBdDgpgTqs7",
        "outputId": "e617cb1b-9663-4fa8-d9eb-c4fc1b091305"
      },
      "outputs": [
        {
          "output_type": "stream",
          "name": "stdout",
          "text": [
            "<class 'pandas.core.frame.DataFrame'>\n",
            "MultiIndex: 1094 entries, (272, '577fb2b368116418674befd9') to (1536, '5acaf29d5ebcfd72403106a8')\n",
            "Data columns (total 34 columns):\n",
            " #   Column                        Non-Null Count  Dtype  \n",
            "---  ------                        --------------  -----  \n",
            " 0   price                         1094 non-null   float64\n",
            " 1   retail_price                  1094 non-null   int64  \n",
            " 2   currency_buyer                1094 non-null   object \n",
            " 3   units_sold                    1094 non-null   int64  \n",
            " 4   uses_ad_boosts                1094 non-null   int64  \n",
            " 5   rating                        1094 non-null   float64\n",
            " 6   rating_count                  1094 non-null   int64  \n",
            " 7   badges_count                  1094 non-null   int64  \n",
            " 8   badge_local_product           1094 non-null   int64  \n",
            " 9   badge_product_quality         1094 non-null   int64  \n",
            " 10  badge_fast_shipping           1094 non-null   int64  \n",
            " 11  tags                          1094 non-null   object \n",
            " 12  product_color                 1065 non-null   object \n",
            " 13  product_variation_size_id     1082 non-null   object \n",
            " 14  product_variation_inventory   1094 non-null   int64  \n",
            " 15  shipping_option_name          1094 non-null   object \n",
            " 16  shipping_option_price         1094 non-null   int64  \n",
            " 17  shipping_is_express           1094 non-null   int64  \n",
            " 18  countries_shipped_to          1094 non-null   int64  \n",
            " 19  inventory_total               1094 non-null   int64  \n",
            " 20  has_urgency_banner            349 non-null    float64\n",
            " 21  urgency_text                  349 non-null    object \n",
            " 22  origin_country                1082 non-null   object \n",
            " 23  merchant_title                1094 non-null   object \n",
            " 24  merchant_name                 1090 non-null   object \n",
            " 25  merchant_info_subtitle        1094 non-null   object \n",
            " 26  merchant_rating_count         1094 non-null   int64  \n",
            " 27  merchant_rating               1094 non-null   float64\n",
            " 28  merchant_id                   1094 non-null   object \n",
            " 29  merchant_has_profile_picture  1094 non-null   int64  \n",
            " 30  merchant_profile_picture      170 non-null    object \n",
            " 31  theme                         1094 non-null   object \n",
            " 32  crawl_month                   1094 non-null   object \n",
            " 33  id                            1094 non-null   int64  \n",
            "dtypes: float64(4), int64(16), object(14)\n",
            "memory usage: 357.8+ KB\n",
            "None\n",
            "*********************************************************** \n",
            " \n",
            "\n",
            "<class 'pandas.core.frame.DataFrame'>\n",
            "MultiIndex: 479 entries, (937, '5e63469b2fdc774466e15dd5') to (196, '5836e38728f25753fe6af6a8')\n",
            "Data columns (total 33 columns):\n",
            " #   Column                        Non-Null Count  Dtype  \n",
            "---  ------                        --------------  -----  \n",
            " 0   price                         479 non-null    float64\n",
            " 1   retail_price                  479 non-null    int64  \n",
            " 2   currency_buyer                479 non-null    object \n",
            " 3   units_sold                    479 non-null    int64  \n",
            " 4   uses_ad_boosts                479 non-null    int64  \n",
            " 5   rating_count                  479 non-null    int64  \n",
            " 6   badges_count                  479 non-null    int64  \n",
            " 7   badge_local_product           479 non-null    int64  \n",
            " 8   badge_product_quality         479 non-null    int64  \n",
            " 9   badge_fast_shipping           479 non-null    int64  \n",
            " 10  tags                          479 non-null    object \n",
            " 11  product_color                 467 non-null    object \n",
            " 12  product_variation_size_id     477 non-null    object \n",
            " 13  product_variation_inventory   479 non-null    int64  \n",
            " 14  shipping_option_name          479 non-null    object \n",
            " 15  shipping_option_price         479 non-null    int64  \n",
            " 16  shipping_is_express           479 non-null    int64  \n",
            " 17  countries_shipped_to          479 non-null    int64  \n",
            " 18  inventory_total               479 non-null    int64  \n",
            " 19  has_urgency_banner            124 non-null    float64\n",
            " 20  urgency_text                  124 non-null    object \n",
            " 21  origin_country                474 non-null    object \n",
            " 22  merchant_title                479 non-null    object \n",
            " 23  merchant_name                 479 non-null    object \n",
            " 24  merchant_info_subtitle        478 non-null    object \n",
            " 25  merchant_rating_count         479 non-null    int64  \n",
            " 26  merchant_rating               479 non-null    float64\n",
            " 27  merchant_id                   479 non-null    object \n",
            " 28  merchant_has_profile_picture  479 non-null    int64  \n",
            " 29  merchant_profile_picture      56 non-null     object \n",
            " 30  theme                         479 non-null    object \n",
            " 31  crawl_month                   479 non-null    object \n",
            " 32  id                            479 non-null    int64  \n",
            "dtypes: float64(3), int64(16), object(14)\n",
            "memory usage: 164.7+ KB\n",
            "None\n"
          ]
        }
      ],
      "source": [
        "#show information about training data\n",
        "print(df_train.info())\n",
        "print('*********************************************************** \\n \\n')\n",
        "#show information about testing data\n",
        "print(df_test.info())"
      ]
    },
    {
      "cell_type": "code",
      "execution_count": null,
      "metadata": {
        "colab": {
          "base_uri": "https://localhost:8080/"
        },
        "id": "iuKgXErcTLBO",
        "outputId": "3914c895-6841-421a-b601-debef73acfa0"
      },
      "outputs": [
        {
          "output_type": "stream",
          "name": "stdout",
          "text": [
            "Shape to traing :  (1094, 34)\n",
            "Shape to testing :  (479, 33)\n"
          ]
        }
      ],
      "source": [
        "# show the training data shape\n",
        "print('Shape to traing : ', df_train.shape)\n",
        "# show the testing data shape\n",
        "print('Shape to testing : ', df_test.shape)"
      ]
    },
    {
      "cell_type": "code",
      "execution_count": null,
      "metadata": {
        "colab": {
          "base_uri": "https://localhost:8080/"
        },
        "id": "QduULfm-W-Mb",
        "outputId": "e3265375-22bd-497d-ae1e-55068ddb2574"
      },
      "outputs": [
        {
          "output_type": "stream",
          "name": "stdout",
          "text": [
            "check Null values in training data  : \n",
            " price                             0\n",
            "retail_price                      0\n",
            "currency_buyer                    0\n",
            "units_sold                        0\n",
            "uses_ad_boosts                    0\n",
            "rating                            0\n",
            "rating_count                      0\n",
            "badges_count                      0\n",
            "badge_local_product               0\n",
            "badge_product_quality             0\n",
            "badge_fast_shipping               0\n",
            "tags                              0\n",
            "product_color                    29\n",
            "product_variation_size_id        12\n",
            "product_variation_inventory       0\n",
            "shipping_option_name              0\n",
            "shipping_option_price             0\n",
            "shipping_is_express               0\n",
            "countries_shipped_to              0\n",
            "inventory_total                   0\n",
            "has_urgency_banner              745\n",
            "urgency_text                    745\n",
            "origin_country                   12\n",
            "merchant_title                    0\n",
            "merchant_name                     4\n",
            "merchant_info_subtitle            0\n",
            "merchant_rating_count             0\n",
            "merchant_rating                   0\n",
            "merchant_id                       0\n",
            "merchant_has_profile_picture      0\n",
            "merchant_profile_picture        924\n",
            "theme                             0\n",
            "crawl_month                       0\n",
            "id                                0\n",
            "dtype: int64  \n",
            " \n",
            " \n",
            "\n",
            "check Null values in testing data  : \n",
            " price                             0\n",
            "retail_price                      0\n",
            "currency_buyer                    0\n",
            "units_sold                        0\n",
            "uses_ad_boosts                    0\n",
            "rating_count                      0\n",
            "badges_count                      0\n",
            "badge_local_product               0\n",
            "badge_product_quality             0\n",
            "badge_fast_shipping               0\n",
            "tags                              0\n",
            "product_color                    12\n",
            "product_variation_size_id         2\n",
            "product_variation_inventory       0\n",
            "shipping_option_name              0\n",
            "shipping_option_price             0\n",
            "shipping_is_express               0\n",
            "countries_shipped_to              0\n",
            "inventory_total                   0\n",
            "has_urgency_banner              355\n",
            "urgency_text                    355\n",
            "origin_country                    5\n",
            "merchant_title                    0\n",
            "merchant_name                     0\n",
            "merchant_info_subtitle            1\n",
            "merchant_rating_count             0\n",
            "merchant_rating                   0\n",
            "merchant_id                       0\n",
            "merchant_has_profile_picture      0\n",
            "merchant_profile_picture        423\n",
            "theme                             0\n",
            "crawl_month                       0\n",
            "id                                0\n",
            "dtype: int64\n"
          ]
        }
      ],
      "source": [
        "# show sum of Null values in training data \n",
        "print('check Null values in training data  : \\n', df_train.isnull().sum(), ' \\n \\n \\n')\n",
        "# show sum of Null values in testing data \n",
        "print('check Null values in testing data  : \\n', df_test.isnull().sum())"
      ]
    },
    {
      "cell_type": "markdown",
      "metadata": {
        "id": "qSMA9cPfU7DL"
      },
      "source": [
        "**Notses**\n",
        "\n",
        "* Training data \n",
        " * Data Containing of 1094 row and 34 columns(features)\n",
        " * Found Null values\n",
        " * it has 3 data type. (int64 , float64, object)\n",
        "* Testing data \n",
        " * Data Containing of 479 row and 33 columns(features)\n",
        " * Found Null values\n",
        " * it has 3 data type. (int64 , float64, object)\n",
        "\n"
      ]
    },
    {
      "cell_type": "code",
      "execution_count": null,
      "metadata": {
        "colab": {
          "base_uri": "https://localhost:8080/"
        },
        "id": "6VPiAKp9UEyD",
        "outputId": "9c30e026-edc2-432c-a73c-e3aa13cc9fb7"
      },
      "outputs": [
        {
          "output_type": "execute_result",
          "data": {
            "text/html": [
              "\n",
              "  <div id=\"df-c39bbcae-b29e-4e47-ac27-15b0d8310ccc\">\n",
              "    <div class=\"colab-df-container\">\n",
              "      <div>\n",
              "<style scoped>\n",
              "    .dataframe tbody tr th:only-of-type {\n",
              "        vertical-align: middle;\n",
              "    }\n",
              "\n",
              "    .dataframe tbody tr th {\n",
              "        vertical-align: top;\n",
              "    }\n",
              "\n",
              "    .dataframe thead th {\n",
              "        text-align: right;\n",
              "    }\n",
              "</style>\n",
              "<table border=\"1\" class=\"dataframe\">\n",
              "  <thead>\n",
              "    <tr style=\"text-align: right;\">\n",
              "      <th></th>\n",
              "      <th>price</th>\n",
              "      <th>retail_price</th>\n",
              "      <th>currency_buyer</th>\n",
              "      <th>units_sold</th>\n",
              "      <th>uses_ad_boosts</th>\n",
              "      <th>rating</th>\n",
              "      <th>rating_count</th>\n",
              "      <th>badges_count</th>\n",
              "      <th>badge_local_product</th>\n",
              "      <th>badge_product_quality</th>\n",
              "      <th>badge_fast_shipping</th>\n",
              "      <th>tags</th>\n",
              "      <th>product_color</th>\n",
              "      <th>product_variation_size_id</th>\n",
              "      <th>product_variation_inventory</th>\n",
              "      <th>shipping_option_name</th>\n",
              "      <th>shipping_option_price</th>\n",
              "      <th>shipping_is_express</th>\n",
              "      <th>countries_shipped_to</th>\n",
              "      <th>inventory_total</th>\n",
              "      <th>has_urgency_banner</th>\n",
              "      <th>urgency_text</th>\n",
              "      <th>origin_country</th>\n",
              "      <th>merchant_title</th>\n",
              "      <th>merchant_name</th>\n",
              "      <th>merchant_info_subtitle</th>\n",
              "      <th>merchant_rating_count</th>\n",
              "      <th>merchant_rating</th>\n",
              "      <th>merchant_id</th>\n",
              "      <th>merchant_has_profile_picture</th>\n",
              "      <th>merchant_profile_picture</th>\n",
              "      <th>theme</th>\n",
              "      <th>crawl_month</th>\n",
              "      <th>id</th>\n",
              "    </tr>\n",
              "  </thead>\n",
              "  <tbody>\n",
              "    <tr>\n",
              "      <th>count</th>\n",
              "      <td>1094.000000</td>\n",
              "      <td>1094.000000</td>\n",
              "      <td>1094</td>\n",
              "      <td>1094.000000</td>\n",
              "      <td>1094.000000</td>\n",
              "      <td>1094.000000</td>\n",
              "      <td>1094.000000</td>\n",
              "      <td>1094.000000</td>\n",
              "      <td>1094.000000</td>\n",
              "      <td>1094.000000</td>\n",
              "      <td>1094.000000</td>\n",
              "      <td>1094</td>\n",
              "      <td>1065</td>\n",
              "      <td>1082</td>\n",
              "      <td>1094.000000</td>\n",
              "      <td>1094</td>\n",
              "      <td>1094.000000</td>\n",
              "      <td>1094.000000</td>\n",
              "      <td>1094.000000</td>\n",
              "      <td>1094.000000</td>\n",
              "      <td>349.0</td>\n",
              "      <td>349</td>\n",
              "      <td>1082</td>\n",
              "      <td>1094</td>\n",
              "      <td>1090</td>\n",
              "      <td>1094</td>\n",
              "      <td>1.094000e+03</td>\n",
              "      <td>1094.000000</td>\n",
              "      <td>1094</td>\n",
              "      <td>1094.000000</td>\n",
              "      <td>170</td>\n",
              "      <td>1094</td>\n",
              "      <td>1094</td>\n",
              "      <td>1094.000000</td>\n",
              "    </tr>\n",
              "    <tr>\n",
              "      <th>unique</th>\n",
              "      <td>NaN</td>\n",
              "      <td>NaN</td>\n",
              "      <td>1</td>\n",
              "      <td>NaN</td>\n",
              "      <td>NaN</td>\n",
              "      <td>NaN</td>\n",
              "      <td>NaN</td>\n",
              "      <td>NaN</td>\n",
              "      <td>NaN</td>\n",
              "      <td>NaN</td>\n",
              "      <td>NaN</td>\n",
              "      <td>895</td>\n",
              "      <td>87</td>\n",
              "      <td>83</td>\n",
              "      <td>NaN</td>\n",
              "      <td>13</td>\n",
              "      <td>NaN</td>\n",
              "      <td>NaN</td>\n",
              "      <td>NaN</td>\n",
              "      <td>NaN</td>\n",
              "      <td>NaN</td>\n",
              "      <td>2</td>\n",
              "      <td>5</td>\n",
              "      <td>747</td>\n",
              "      <td>746</td>\n",
              "      <td>808</td>\n",
              "      <td>NaN</td>\n",
              "      <td>NaN</td>\n",
              "      <td>747</td>\n",
              "      <td>NaN</td>\n",
              "      <td>100</td>\n",
              "      <td>1</td>\n",
              "      <td>1</td>\n",
              "      <td>NaN</td>\n",
              "    </tr>\n",
              "    <tr>\n",
              "      <th>top</th>\n",
              "      <td>NaN</td>\n",
              "      <td>NaN</td>\n",
              "      <td>EUR</td>\n",
              "      <td>NaN</td>\n",
              "      <td>NaN</td>\n",
              "      <td>NaN</td>\n",
              "      <td>NaN</td>\n",
              "      <td>NaN</td>\n",
              "      <td>NaN</td>\n",
              "      <td>NaN</td>\n",
              "      <td>NaN</td>\n",
              "      <td>Summer,Fashion,Necks,Skirts,Dress,Loose,Women'...</td>\n",
              "      <td>black</td>\n",
              "      <td>S</td>\n",
              "      <td>NaN</td>\n",
              "      <td>Livraison standard</td>\n",
              "      <td>NaN</td>\n",
              "      <td>NaN</td>\n",
              "      <td>NaN</td>\n",
              "      <td>NaN</td>\n",
              "      <td>NaN</td>\n",
              "      <td>Quantité limitée !</td>\n",
              "      <td>CN</td>\n",
              "      <td>Suyi Technology</td>\n",
              "      <td>greatexpectationstechnology</td>\n",
              "      <td>86 % avis positifs (12,309 notes)</td>\n",
              "      <td>NaN</td>\n",
              "      <td>NaN</td>\n",
              "      <td>5acaf29d5ebcfd72403106a8</td>\n",
              "      <td>NaN</td>\n",
              "      <td>https://s3-us-west-1.amazonaws.com/sweeper-pro...</td>\n",
              "      <td>summer</td>\n",
              "      <td>2020-08</td>\n",
              "      <td>NaN</td>\n",
              "    </tr>\n",
              "    <tr>\n",
              "      <th>freq</th>\n",
              "      <td>NaN</td>\n",
              "      <td>NaN</td>\n",
              "      <td>1094</td>\n",
              "      <td>NaN</td>\n",
              "      <td>NaN</td>\n",
              "      <td>NaN</td>\n",
              "      <td>NaN</td>\n",
              "      <td>NaN</td>\n",
              "      <td>NaN</td>\n",
              "      <td>NaN</td>\n",
              "      <td>NaN</td>\n",
              "      <td>13</td>\n",
              "      <td>219</td>\n",
              "      <td>444</td>\n",
              "      <td>NaN</td>\n",
              "      <td>1047</td>\n",
              "      <td>NaN</td>\n",
              "      <td>NaN</td>\n",
              "      <td>NaN</td>\n",
              "      <td>NaN</td>\n",
              "      <td>NaN</td>\n",
              "      <td>348</td>\n",
              "      <td>1054</td>\n",
              "      <td>8</td>\n",
              "      <td>8</td>\n",
              "      <td>8</td>\n",
              "      <td>NaN</td>\n",
              "      <td>NaN</td>\n",
              "      <td>8</td>\n",
              "      <td>NaN</td>\n",
              "      <td>8</td>\n",
              "      <td>1094</td>\n",
              "      <td>1094</td>\n",
              "      <td>NaN</td>\n",
              "    </tr>\n",
              "    <tr>\n",
              "      <th>mean</th>\n",
              "      <td>8.320786</td>\n",
              "      <td>23.712066</td>\n",
              "      <td>NaN</td>\n",
              "      <td>4518.661792</td>\n",
              "      <td>0.432358</td>\n",
              "      <td>4.006399</td>\n",
              "      <td>915.523766</td>\n",
              "      <td>0.114260</td>\n",
              "      <td>0.019196</td>\n",
              "      <td>0.083181</td>\n",
              "      <td>0.011883</td>\n",
              "      <td>NaN</td>\n",
              "      <td>NaN</td>\n",
              "      <td>NaN</td>\n",
              "      <td>32.807130</td>\n",
              "      <td>NaN</td>\n",
              "      <td>2.344607</td>\n",
              "      <td>0.002742</td>\n",
              "      <td>40.484461</td>\n",
              "      <td>49.849177</td>\n",
              "      <td>1.0</td>\n",
              "      <td>NaN</td>\n",
              "      <td>NaN</td>\n",
              "      <td>NaN</td>\n",
              "      <td>NaN</td>\n",
              "      <td>NaN</td>\n",
              "      <td>2.678399e+04</td>\n",
              "      <td>4.036191</td>\n",
              "      <td>NaN</td>\n",
              "      <td>0.155393</td>\n",
              "      <td>NaN</td>\n",
              "      <td>NaN</td>\n",
              "      <td>NaN</td>\n",
              "      <td>772.207495</td>\n",
              "    </tr>\n",
              "    <tr>\n",
              "      <th>std</th>\n",
              "      <td>4.027448</td>\n",
              "      <td>31.802661</td>\n",
              "      <td>NaN</td>\n",
              "      <td>9825.608568</td>\n",
              "      <td>0.495630</td>\n",
              "      <td>0.585706</td>\n",
              "      <td>2037.561158</td>\n",
              "      <td>0.348461</td>\n",
              "      <td>0.137275</td>\n",
              "      <td>0.276282</td>\n",
              "      <td>0.108409</td>\n",
              "      <td>NaN</td>\n",
              "      <td>NaN</td>\n",
              "      <td>NaN</td>\n",
              "      <td>21.454655</td>\n",
              "      <td>NaN</td>\n",
              "      <td>1.044781</td>\n",
              "      <td>0.052318</td>\n",
              "      <td>20.196229</td>\n",
              "      <td>2.480687</td>\n",
              "      <td>0.0</td>\n",
              "      <td>NaN</td>\n",
              "      <td>NaN</td>\n",
              "      <td>NaN</td>\n",
              "      <td>NaN</td>\n",
              "      <td>NaN</td>\n",
              "      <td>8.616171e+04</td>\n",
              "      <td>0.200397</td>\n",
              "      <td>NaN</td>\n",
              "      <td>0.362445</td>\n",
              "      <td>NaN</td>\n",
              "      <td>NaN</td>\n",
              "      <td>NaN</td>\n",
              "      <td>453.784430</td>\n",
              "    </tr>\n",
              "    <tr>\n",
              "      <th>min</th>\n",
              "      <td>1.000000</td>\n",
              "      <td>2.000000</td>\n",
              "      <td>NaN</td>\n",
              "      <td>1.000000</td>\n",
              "      <td>0.000000</td>\n",
              "      <td>1.000000</td>\n",
              "      <td>0.000000</td>\n",
              "      <td>0.000000</td>\n",
              "      <td>0.000000</td>\n",
              "      <td>0.000000</td>\n",
              "      <td>0.000000</td>\n",
              "      <td>NaN</td>\n",
              "      <td>NaN</td>\n",
              "      <td>NaN</td>\n",
              "      <td>1.000000</td>\n",
              "      <td>NaN</td>\n",
              "      <td>1.000000</td>\n",
              "      <td>0.000000</td>\n",
              "      <td>8.000000</td>\n",
              "      <td>1.000000</td>\n",
              "      <td>1.0</td>\n",
              "      <td>NaN</td>\n",
              "      <td>NaN</td>\n",
              "      <td>NaN</td>\n",
              "      <td>NaN</td>\n",
              "      <td>NaN</td>\n",
              "      <td>4.000000e+00</td>\n",
              "      <td>2.941176</td>\n",
              "      <td>NaN</td>\n",
              "      <td>0.000000</td>\n",
              "      <td>NaN</td>\n",
              "      <td>NaN</td>\n",
              "      <td>NaN</td>\n",
              "      <td>2.000000</td>\n",
              "    </tr>\n",
              "    <tr>\n",
              "      <th>25%</th>\n",
              "      <td>5.830000</td>\n",
              "      <td>7.000000</td>\n",
              "      <td>NaN</td>\n",
              "      <td>100.000000</td>\n",
              "      <td>0.000000</td>\n",
              "      <td>4.000000</td>\n",
              "      <td>24.000000</td>\n",
              "      <td>0.000000</td>\n",
              "      <td>0.000000</td>\n",
              "      <td>0.000000</td>\n",
              "      <td>0.000000</td>\n",
              "      <td>NaN</td>\n",
              "      <td>NaN</td>\n",
              "      <td>NaN</td>\n",
              "      <td>6.000000</td>\n",
              "      <td>NaN</td>\n",
              "      <td>2.000000</td>\n",
              "      <td>0.000000</td>\n",
              "      <td>31.000000</td>\n",
              "      <td>50.000000</td>\n",
              "      <td>1.0</td>\n",
              "      <td>NaN</td>\n",
              "      <td>NaN</td>\n",
              "      <td>NaN</td>\n",
              "      <td>NaN</td>\n",
              "      <td>NaN</td>\n",
              "      <td>1.926000e+03</td>\n",
              "      <td>3.918464</td>\n",
              "      <td>NaN</td>\n",
              "      <td>0.000000</td>\n",
              "      <td>NaN</td>\n",
              "      <td>NaN</td>\n",
              "      <td>NaN</td>\n",
              "      <td>382.250000</td>\n",
              "    </tr>\n",
              "    <tr>\n",
              "      <th>50%</th>\n",
              "      <td>8.000000</td>\n",
              "      <td>10.000000</td>\n",
              "      <td>NaN</td>\n",
              "      <td>1000.000000</td>\n",
              "      <td>0.000000</td>\n",
              "      <td>4.000000</td>\n",
              "      <td>143.500000</td>\n",
              "      <td>0.000000</td>\n",
              "      <td>0.000000</td>\n",
              "      <td>0.000000</td>\n",
              "      <td>0.000000</td>\n",
              "      <td>NaN</td>\n",
              "      <td>NaN</td>\n",
              "      <td>NaN</td>\n",
              "      <td>50.000000</td>\n",
              "      <td>NaN</td>\n",
              "      <td>2.000000</td>\n",
              "      <td>0.000000</td>\n",
              "      <td>40.000000</td>\n",
              "      <td>50.000000</td>\n",
              "      <td>1.0</td>\n",
              "      <td>NaN</td>\n",
              "      <td>NaN</td>\n",
              "      <td>NaN</td>\n",
              "      <td>NaN</td>\n",
              "      <td>NaN</td>\n",
              "      <td>8.225000e+03</td>\n",
              "      <td>4.045170</td>\n",
              "      <td>NaN</td>\n",
              "      <td>0.000000</td>\n",
              "      <td>NaN</td>\n",
              "      <td>NaN</td>\n",
              "      <td>NaN</td>\n",
              "      <td>752.500000</td>\n",
              "    </tr>\n",
              "    <tr>\n",
              "      <th>75%</th>\n",
              "      <td>11.000000</td>\n",
              "      <td>26.000000</td>\n",
              "      <td>NaN</td>\n",
              "      <td>5000.000000</td>\n",
              "      <td>1.000000</td>\n",
              "      <td>4.000000</td>\n",
              "      <td>845.500000</td>\n",
              "      <td>0.000000</td>\n",
              "      <td>0.000000</td>\n",
              "      <td>0.000000</td>\n",
              "      <td>0.000000</td>\n",
              "      <td>NaN</td>\n",
              "      <td>NaN</td>\n",
              "      <td>NaN</td>\n",
              "      <td>50.000000</td>\n",
              "      <td>NaN</td>\n",
              "      <td>3.000000</td>\n",
              "      <td>0.000000</td>\n",
              "      <td>43.000000</td>\n",
              "      <td>50.000000</td>\n",
              "      <td>1.0</td>\n",
              "      <td>NaN</td>\n",
              "      <td>NaN</td>\n",
              "      <td>NaN</td>\n",
              "      <td>NaN</td>\n",
              "      <td>NaN</td>\n",
              "      <td>2.306200e+04</td>\n",
              "      <td>4.166826</td>\n",
              "      <td>NaN</td>\n",
              "      <td>0.000000</td>\n",
              "      <td>NaN</td>\n",
              "      <td>NaN</td>\n",
              "      <td>NaN</td>\n",
              "      <td>1166.500000</td>\n",
              "    </tr>\n",
              "    <tr>\n",
              "      <th>max</th>\n",
              "      <td>49.000000</td>\n",
              "      <td>252.000000</td>\n",
              "      <td>NaN</td>\n",
              "      <td>100000.000000</td>\n",
              "      <td>1.000000</td>\n",
              "      <td>6.000000</td>\n",
              "      <td>20744.000000</td>\n",
              "      <td>3.000000</td>\n",
              "      <td>1.000000</td>\n",
              "      <td>1.000000</td>\n",
              "      <td>1.000000</td>\n",
              "      <td>NaN</td>\n",
              "      <td>NaN</td>\n",
              "      <td>NaN</td>\n",
              "      <td>50.000000</td>\n",
              "      <td>NaN</td>\n",
              "      <td>12.000000</td>\n",
              "      <td>1.000000</td>\n",
              "      <td>140.000000</td>\n",
              "      <td>50.000000</td>\n",
              "      <td>1.0</td>\n",
              "      <td>NaN</td>\n",
              "      <td>NaN</td>\n",
              "      <td>NaN</td>\n",
              "      <td>NaN</td>\n",
              "      <td>NaN</td>\n",
              "      <td>2.174765e+06</td>\n",
              "      <td>4.577519</td>\n",
              "      <td>NaN</td>\n",
              "      <td>1.000000</td>\n",
              "      <td>NaN</td>\n",
              "      <td>NaN</td>\n",
              "      <td>NaN</td>\n",
              "      <td>1572.000000</td>\n",
              "    </tr>\n",
              "  </tbody>\n",
              "</table>\n",
              "</div>\n",
              "      <button class=\"colab-df-convert\" onclick=\"convertToInteractive('df-c39bbcae-b29e-4e47-ac27-15b0d8310ccc')\"\n",
              "              title=\"Convert this dataframe to an interactive table.\"\n",
              "              style=\"display:none;\">\n",
              "        \n",
              "  <svg xmlns=\"http://www.w3.org/2000/svg\" height=\"24px\"viewBox=\"0 0 24 24\"\n",
              "       width=\"24px\">\n",
              "    <path d=\"M0 0h24v24H0V0z\" fill=\"none\"/>\n",
              "    <path d=\"M18.56 5.44l.94 2.06.94-2.06 2.06-.94-2.06-.94-.94-2.06-.94 2.06-2.06.94zm-11 1L8.5 8.5l.94-2.06 2.06-.94-2.06-.94L8.5 2.5l-.94 2.06-2.06.94zm10 10l.94 2.06.94-2.06 2.06-.94-2.06-.94-.94-2.06-.94 2.06-2.06.94z\"/><path d=\"M17.41 7.96l-1.37-1.37c-.4-.4-.92-.59-1.43-.59-.52 0-1.04.2-1.43.59L10.3 9.45l-7.72 7.72c-.78.78-.78 2.05 0 2.83L4 21.41c.39.39.9.59 1.41.59.51 0 1.02-.2 1.41-.59l7.78-7.78 2.81-2.81c.8-.78.8-2.07 0-2.86zM5.41 20L4 18.59l7.72-7.72 1.47 1.35L5.41 20z\"/>\n",
              "  </svg>\n",
              "      </button>\n",
              "      \n",
              "  <style>\n",
              "    .colab-df-container {\n",
              "      display:flex;\n",
              "      flex-wrap:wrap;\n",
              "      gap: 12px;\n",
              "    }\n",
              "\n",
              "    .colab-df-convert {\n",
              "      background-color: #E8F0FE;\n",
              "      border: none;\n",
              "      border-radius: 50%;\n",
              "      cursor: pointer;\n",
              "      display: none;\n",
              "      fill: #1967D2;\n",
              "      height: 32px;\n",
              "      padding: 0 0 0 0;\n",
              "      width: 32px;\n",
              "    }\n",
              "\n",
              "    .colab-df-convert:hover {\n",
              "      background-color: #E2EBFA;\n",
              "      box-shadow: 0px 1px 2px rgba(60, 64, 67, 0.3), 0px 1px 3px 1px rgba(60, 64, 67, 0.15);\n",
              "      fill: #174EA6;\n",
              "    }\n",
              "\n",
              "    [theme=dark] .colab-df-convert {\n",
              "      background-color: #3B4455;\n",
              "      fill: #D2E3FC;\n",
              "    }\n",
              "\n",
              "    [theme=dark] .colab-df-convert:hover {\n",
              "      background-color: #434B5C;\n",
              "      box-shadow: 0px 1px 3px 1px rgba(0, 0, 0, 0.15);\n",
              "      filter: drop-shadow(0px 1px 2px rgba(0, 0, 0, 0.3));\n",
              "      fill: #FFFFFF;\n",
              "    }\n",
              "  </style>\n",
              "\n",
              "      <script>\n",
              "        const buttonEl =\n",
              "          document.querySelector('#df-c39bbcae-b29e-4e47-ac27-15b0d8310ccc button.colab-df-convert');\n",
              "        buttonEl.style.display =\n",
              "          google.colab.kernel.accessAllowed ? 'block' : 'none';\n",
              "\n",
              "        async function convertToInteractive(key) {\n",
              "          const element = document.querySelector('#df-c39bbcae-b29e-4e47-ac27-15b0d8310ccc');\n",
              "          const dataTable =\n",
              "            await google.colab.kernel.invokeFunction('convertToInteractive',\n",
              "                                                     [key], {});\n",
              "          if (!dataTable) return;\n",
              "\n",
              "          const docLinkHtml = 'Like what you see? Visit the ' +\n",
              "            '<a target=\"_blank\" href=https://colab.research.google.com/notebooks/data_table.ipynb>data table notebook</a>'\n",
              "            + ' to learn more about interactive tables.';\n",
              "          element.innerHTML = '';\n",
              "          dataTable['output_type'] = 'display_data';\n",
              "          await google.colab.output.renderOutput(dataTable, element);\n",
              "          const docLink = document.createElement('div');\n",
              "          docLink.innerHTML = docLinkHtml;\n",
              "          element.appendChild(docLink);\n",
              "        }\n",
              "      </script>\n",
              "    </div>\n",
              "  </div>\n",
              "  "
            ],
            "text/plain": [
              "              price  retail_price  ... crawl_month           id\n",
              "count   1094.000000   1094.000000  ...        1094  1094.000000\n",
              "unique          NaN           NaN  ...           1          NaN\n",
              "top             NaN           NaN  ...     2020-08          NaN\n",
              "freq            NaN           NaN  ...        1094          NaN\n",
              "mean       8.320786     23.712066  ...         NaN   772.207495\n",
              "std        4.027448     31.802661  ...         NaN   453.784430\n",
              "min        1.000000      2.000000  ...         NaN     2.000000\n",
              "25%        5.830000      7.000000  ...         NaN   382.250000\n",
              "50%        8.000000     10.000000  ...         NaN   752.500000\n",
              "75%       11.000000     26.000000  ...         NaN  1166.500000\n",
              "max       49.000000    252.000000  ...         NaN  1572.000000\n",
              "\n",
              "[11 rows x 34 columns]"
            ]
          },
          "metadata": {},
          "execution_count": 358
        }
      ],
      "source": [
        "# show all statistics in training data\n",
        "df_train.describe(include='all')"
      ]
    },
    {
      "cell_type": "code",
      "execution_count": null,
      "metadata": {
        "colab": {
          "base_uri": "https://localhost:8080/"
        },
        "id": "xQkP0Kd0bEMV",
        "outputId": "ee7625d1-2685-4126-cd1d-46a639f75b98"
      },
      "outputs": [
        {
          "output_type": "execute_result",
          "data": {
            "text/html": [
              "\n",
              "  <div id=\"df-9f785df7-4be3-4633-af2c-447281d8e474\">\n",
              "    <div class=\"colab-df-container\">\n",
              "      <div>\n",
              "<style scoped>\n",
              "    .dataframe tbody tr th:only-of-type {\n",
              "        vertical-align: middle;\n",
              "    }\n",
              "\n",
              "    .dataframe tbody tr th {\n",
              "        vertical-align: top;\n",
              "    }\n",
              "\n",
              "    .dataframe thead th {\n",
              "        text-align: right;\n",
              "    }\n",
              "</style>\n",
              "<table border=\"1\" class=\"dataframe\">\n",
              "  <thead>\n",
              "    <tr style=\"text-align: right;\">\n",
              "      <th></th>\n",
              "      <th>price</th>\n",
              "      <th>retail_price</th>\n",
              "      <th>currency_buyer</th>\n",
              "      <th>units_sold</th>\n",
              "      <th>uses_ad_boosts</th>\n",
              "      <th>rating_count</th>\n",
              "      <th>badges_count</th>\n",
              "      <th>badge_local_product</th>\n",
              "      <th>badge_product_quality</th>\n",
              "      <th>badge_fast_shipping</th>\n",
              "      <th>tags</th>\n",
              "      <th>product_color</th>\n",
              "      <th>product_variation_size_id</th>\n",
              "      <th>product_variation_inventory</th>\n",
              "      <th>shipping_option_name</th>\n",
              "      <th>shipping_option_price</th>\n",
              "      <th>shipping_is_express</th>\n",
              "      <th>countries_shipped_to</th>\n",
              "      <th>inventory_total</th>\n",
              "      <th>has_urgency_banner</th>\n",
              "      <th>urgency_text</th>\n",
              "      <th>origin_country</th>\n",
              "      <th>merchant_title</th>\n",
              "      <th>merchant_name</th>\n",
              "      <th>merchant_info_subtitle</th>\n",
              "      <th>merchant_rating_count</th>\n",
              "      <th>merchant_rating</th>\n",
              "      <th>merchant_id</th>\n",
              "      <th>merchant_has_profile_picture</th>\n",
              "      <th>merchant_profile_picture</th>\n",
              "      <th>theme</th>\n",
              "      <th>crawl_month</th>\n",
              "      <th>id</th>\n",
              "    </tr>\n",
              "  </thead>\n",
              "  <tbody>\n",
              "    <tr>\n",
              "      <th>count</th>\n",
              "      <td>479.000000</td>\n",
              "      <td>479.000000</td>\n",
              "      <td>479</td>\n",
              "      <td>479.000000</td>\n",
              "      <td>479.000000</td>\n",
              "      <td>479.000000</td>\n",
              "      <td>479.000000</td>\n",
              "      <td>479.000000</td>\n",
              "      <td>479.000000</td>\n",
              "      <td>479.000000</td>\n",
              "      <td>479</td>\n",
              "      <td>467</td>\n",
              "      <td>477</td>\n",
              "      <td>479.000000</td>\n",
              "      <td>479</td>\n",
              "      <td>479.000000</td>\n",
              "      <td>479.000000</td>\n",
              "      <td>479.000000</td>\n",
              "      <td>479.000000</td>\n",
              "      <td>124.0</td>\n",
              "      <td>124</td>\n",
              "      <td>474</td>\n",
              "      <td>479</td>\n",
              "      <td>479</td>\n",
              "      <td>478</td>\n",
              "      <td>479.000000</td>\n",
              "      <td>479.000000</td>\n",
              "      <td>479</td>\n",
              "      <td>479.000000</td>\n",
              "      <td>56</td>\n",
              "      <td>479</td>\n",
              "      <td>479</td>\n",
              "      <td>479.000000</td>\n",
              "    </tr>\n",
              "    <tr>\n",
              "      <th>unique</th>\n",
              "      <td>NaN</td>\n",
              "      <td>NaN</td>\n",
              "      <td>1</td>\n",
              "      <td>NaN</td>\n",
              "      <td>NaN</td>\n",
              "      <td>NaN</td>\n",
              "      <td>NaN</td>\n",
              "      <td>NaN</td>\n",
              "      <td>NaN</td>\n",
              "      <td>NaN</td>\n",
              "      <td>450</td>\n",
              "      <td>56</td>\n",
              "      <td>52</td>\n",
              "      <td>NaN</td>\n",
              "      <td>10</td>\n",
              "      <td>NaN</td>\n",
              "      <td>NaN</td>\n",
              "      <td>NaN</td>\n",
              "      <td>NaN</td>\n",
              "      <td>NaN</td>\n",
              "      <td>1</td>\n",
              "      <td>4</td>\n",
              "      <td>398</td>\n",
              "      <td>398</td>\n",
              "      <td>419</td>\n",
              "      <td>NaN</td>\n",
              "      <td>NaN</td>\n",
              "      <td>398</td>\n",
              "      <td>NaN</td>\n",
              "      <td>49</td>\n",
              "      <td>1</td>\n",
              "      <td>1</td>\n",
              "      <td>NaN</td>\n",
              "    </tr>\n",
              "    <tr>\n",
              "      <th>top</th>\n",
              "      <td>NaN</td>\n",
              "      <td>NaN</td>\n",
              "      <td>EUR</td>\n",
              "      <td>NaN</td>\n",
              "      <td>NaN</td>\n",
              "      <td>NaN</td>\n",
              "      <td>NaN</td>\n",
              "      <td>NaN</td>\n",
              "      <td>NaN</td>\n",
              "      <td>NaN</td>\n",
              "      <td>Summer,Fashion,Necks,Skirts,Dress,Loose,Women'...</td>\n",
              "      <td>black</td>\n",
              "      <td>S</td>\n",
              "      <td>NaN</td>\n",
              "      <td>Livraison standard</td>\n",
              "      <td>NaN</td>\n",
              "      <td>NaN</td>\n",
              "      <td>NaN</td>\n",
              "      <td>NaN</td>\n",
              "      <td>NaN</td>\n",
              "      <td>Quantité limitée !</td>\n",
              "      <td>CN</td>\n",
              "      <td>guangzhouweishiweifushiyouxiangongsi</td>\n",
              "      <td>广州唯适唯服饰有限公司</td>\n",
              "      <td>83 % avis positifs (32,168 notes)</td>\n",
              "      <td>NaN</td>\n",
              "      <td>NaN</td>\n",
              "      <td>558c2cdc89d53c4005ea2920</td>\n",
              "      <td>NaN</td>\n",
              "      <td>https://s3-us-west-1.amazonaws.com/sweeper-pro...</td>\n",
              "      <td>summer</td>\n",
              "      <td>2020-08</td>\n",
              "      <td>NaN</td>\n",
              "    </tr>\n",
              "    <tr>\n",
              "      <th>freq</th>\n",
              "      <td>NaN</td>\n",
              "      <td>NaN</td>\n",
              "      <td>479</td>\n",
              "      <td>NaN</td>\n",
              "      <td>NaN</td>\n",
              "      <td>NaN</td>\n",
              "      <td>NaN</td>\n",
              "      <td>NaN</td>\n",
              "      <td>NaN</td>\n",
              "      <td>NaN</td>\n",
              "      <td>4</td>\n",
              "      <td>83</td>\n",
              "      <td>197</td>\n",
              "      <td>NaN</td>\n",
              "      <td>461</td>\n",
              "      <td>NaN</td>\n",
              "      <td>NaN</td>\n",
              "      <td>NaN</td>\n",
              "      <td>NaN</td>\n",
              "      <td>NaN</td>\n",
              "      <td>124</td>\n",
              "      <td>462</td>\n",
              "      <td>8</td>\n",
              "      <td>8</td>\n",
              "      <td>7</td>\n",
              "      <td>NaN</td>\n",
              "      <td>NaN</td>\n",
              "      <td>8</td>\n",
              "      <td>NaN</td>\n",
              "      <td>4</td>\n",
              "      <td>479</td>\n",
              "      <td>479</td>\n",
              "      <td>NaN</td>\n",
              "    </tr>\n",
              "    <tr>\n",
              "      <th>mean</th>\n",
              "      <td>8.335846</td>\n",
              "      <td>22.321503</td>\n",
              "      <td>NaN</td>\n",
              "      <td>3928.682672</td>\n",
              "      <td>0.434238</td>\n",
              "      <td>830.586639</td>\n",
              "      <td>0.085595</td>\n",
              "      <td>0.016701</td>\n",
              "      <td>0.054280</td>\n",
              "      <td>0.014614</td>\n",
              "      <td>NaN</td>\n",
              "      <td>NaN</td>\n",
              "      <td>NaN</td>\n",
              "      <td>33.707724</td>\n",
              "      <td>NaN</td>\n",
              "      <td>2.346555</td>\n",
              "      <td>0.002088</td>\n",
              "      <td>40.392484</td>\n",
              "      <td>49.757829</td>\n",
              "      <td>1.0</td>\n",
              "      <td>NaN</td>\n",
              "      <td>NaN</td>\n",
              "      <td>NaN</td>\n",
              "      <td>NaN</td>\n",
              "      <td>NaN</td>\n",
              "      <td>25837.699374</td>\n",
              "      <td>4.023561</td>\n",
              "      <td>NaN</td>\n",
              "      <td>0.116910</td>\n",
              "      <td>NaN</td>\n",
              "      <td>NaN</td>\n",
              "      <td>NaN</td>\n",
              "      <td>817.501044</td>\n",
              "    </tr>\n",
              "    <tr>\n",
              "      <th>std</th>\n",
              "      <td>3.708964</td>\n",
              "      <td>26.773515</td>\n",
              "      <td>NaN</td>\n",
              "      <td>8179.915708</td>\n",
              "      <td>0.496175</td>\n",
              "      <td>1856.340336</td>\n",
              "      <td>0.321771</td>\n",
              "      <td>0.128284</td>\n",
              "      <td>0.226806</td>\n",
              "      <td>0.120126</td>\n",
              "      <td>NaN</td>\n",
              "      <td>NaN</td>\n",
              "      <td>NaN</td>\n",
              "      <td>21.128372</td>\n",
              "      <td>NaN</td>\n",
              "      <td>0.977222</td>\n",
              "      <td>0.045691</td>\n",
              "      <td>20.560057</td>\n",
              "      <td>2.742776</td>\n",
              "      <td>0.0</td>\n",
              "      <td>NaN</td>\n",
              "      <td>NaN</td>\n",
              "      <td>NaN</td>\n",
              "      <td>NaN</td>\n",
              "      <td>NaN</td>\n",
              "      <td>57241.300129</td>\n",
              "      <td>0.214374</td>\n",
              "      <td>NaN</td>\n",
              "      <td>0.321649</td>\n",
              "      <td>NaN</td>\n",
              "      <td>NaN</td>\n",
              "      <td>NaN</td>\n",
              "      <td>454.150616</td>\n",
              "    </tr>\n",
              "    <tr>\n",
              "      <th>min</th>\n",
              "      <td>1.000000</td>\n",
              "      <td>1.000000</td>\n",
              "      <td>NaN</td>\n",
              "      <td>3.000000</td>\n",
              "      <td>0.000000</td>\n",
              "      <td>0.000000</td>\n",
              "      <td>0.000000</td>\n",
              "      <td>0.000000</td>\n",
              "      <td>0.000000</td>\n",
              "      <td>0.000000</td>\n",
              "      <td>NaN</td>\n",
              "      <td>NaN</td>\n",
              "      <td>NaN</td>\n",
              "      <td>1.000000</td>\n",
              "      <td>NaN</td>\n",
              "      <td>1.000000</td>\n",
              "      <td>0.000000</td>\n",
              "      <td>6.000000</td>\n",
              "      <td>2.000000</td>\n",
              "      <td>1.0</td>\n",
              "      <td>NaN</td>\n",
              "      <td>NaN</td>\n",
              "      <td>NaN</td>\n",
              "      <td>NaN</td>\n",
              "      <td>NaN</td>\n",
              "      <td>0.000000</td>\n",
              "      <td>2.333333</td>\n",
              "      <td>NaN</td>\n",
              "      <td>0.000000</td>\n",
              "      <td>NaN</td>\n",
              "      <td>NaN</td>\n",
              "      <td>NaN</td>\n",
              "      <td>0.000000</td>\n",
              "    </tr>\n",
              "    <tr>\n",
              "      <th>25%</th>\n",
              "      <td>5.790000</td>\n",
              "      <td>7.000000</td>\n",
              "      <td>NaN</td>\n",
              "      <td>100.000000</td>\n",
              "      <td>0.000000</td>\n",
              "      <td>24.000000</td>\n",
              "      <td>0.000000</td>\n",
              "      <td>0.000000</td>\n",
              "      <td>0.000000</td>\n",
              "      <td>0.000000</td>\n",
              "      <td>NaN</td>\n",
              "      <td>NaN</td>\n",
              "      <td>NaN</td>\n",
              "      <td>7.000000</td>\n",
              "      <td>NaN</td>\n",
              "      <td>2.000000</td>\n",
              "      <td>0.000000</td>\n",
              "      <td>31.000000</td>\n",
              "      <td>50.000000</td>\n",
              "      <td>1.0</td>\n",
              "      <td>NaN</td>\n",
              "      <td>NaN</td>\n",
              "      <td>NaN</td>\n",
              "      <td>NaN</td>\n",
              "      <td>NaN</td>\n",
              "      <td>2091.000000</td>\n",
              "      <td>3.914894</td>\n",
              "      <td>NaN</td>\n",
              "      <td>0.000000</td>\n",
              "      <td>NaN</td>\n",
              "      <td>NaN</td>\n",
              "      <td>NaN</td>\n",
              "      <td>410.500000</td>\n",
              "    </tr>\n",
              "    <tr>\n",
              "      <th>50%</th>\n",
              "      <td>8.000000</td>\n",
              "      <td>10.000000</td>\n",
              "      <td>NaN</td>\n",
              "      <td>1000.000000</td>\n",
              "      <td>0.000000</td>\n",
              "      <td>158.000000</td>\n",
              "      <td>0.000000</td>\n",
              "      <td>0.000000</td>\n",
              "      <td>0.000000</td>\n",
              "      <td>0.000000</td>\n",
              "      <td>NaN</td>\n",
              "      <td>NaN</td>\n",
              "      <td>NaN</td>\n",
              "      <td>50.000000</td>\n",
              "      <td>NaN</td>\n",
              "      <td>2.000000</td>\n",
              "      <td>0.000000</td>\n",
              "      <td>40.000000</td>\n",
              "      <td>50.000000</td>\n",
              "      <td>1.0</td>\n",
              "      <td>NaN</td>\n",
              "      <td>NaN</td>\n",
              "      <td>NaN</td>\n",
              "      <td>NaN</td>\n",
              "      <td>NaN</td>\n",
              "      <td>7363.000000</td>\n",
              "      <td>4.032956</td>\n",
              "      <td>NaN</td>\n",
              "      <td>0.000000</td>\n",
              "      <td>NaN</td>\n",
              "      <td>NaN</td>\n",
              "      <td>NaN</td>\n",
              "      <td>863.000000</td>\n",
              "    </tr>\n",
              "    <tr>\n",
              "      <th>75%</th>\n",
              "      <td>11.000000</td>\n",
              "      <td>26.000000</td>\n",
              "      <td>NaN</td>\n",
              "      <td>5000.000000</td>\n",
              "      <td>1.000000</td>\n",
              "      <td>856.000000</td>\n",
              "      <td>0.000000</td>\n",
              "      <td>0.000000</td>\n",
              "      <td>0.000000</td>\n",
              "      <td>0.000000</td>\n",
              "      <td>NaN</td>\n",
              "      <td>NaN</td>\n",
              "      <td>NaN</td>\n",
              "      <td>50.000000</td>\n",
              "      <td>NaN</td>\n",
              "      <td>3.000000</td>\n",
              "      <td>0.000000</td>\n",
              "      <td>43.000000</td>\n",
              "      <td>50.000000</td>\n",
              "      <td>1.0</td>\n",
              "      <td>NaN</td>\n",
              "      <td>NaN</td>\n",
              "      <td>NaN</td>\n",
              "      <td>NaN</td>\n",
              "      <td>NaN</td>\n",
              "      <td>27175.000000</td>\n",
              "      <td>4.155606</td>\n",
              "      <td>NaN</td>\n",
              "      <td>0.000000</td>\n",
              "      <td>NaN</td>\n",
              "      <td>NaN</td>\n",
              "      <td>NaN</td>\n",
              "      <td>1214.500000</td>\n",
              "    </tr>\n",
              "    <tr>\n",
              "      <th>max</th>\n",
              "      <td>20.000000</td>\n",
              "      <td>168.000000</td>\n",
              "      <td>NaN</td>\n",
              "      <td>100000.000000</td>\n",
              "      <td>1.000000</td>\n",
              "      <td>17980.000000</td>\n",
              "      <td>3.000000</td>\n",
              "      <td>1.000000</td>\n",
              "      <td>1.000000</td>\n",
              "      <td>1.000000</td>\n",
              "      <td>NaN</td>\n",
              "      <td>NaN</td>\n",
              "      <td>NaN</td>\n",
              "      <td>50.000000</td>\n",
              "      <td>NaN</td>\n",
              "      <td>7.000000</td>\n",
              "      <td>1.000000</td>\n",
              "      <td>140.000000</td>\n",
              "      <td>50.000000</td>\n",
              "      <td>1.0</td>\n",
              "      <td>NaN</td>\n",
              "      <td>NaN</td>\n",
              "      <td>NaN</td>\n",
              "      <td>NaN</td>\n",
              "      <td>NaN</td>\n",
              "      <td>839882.000000</td>\n",
              "      <td>5.000000</td>\n",
              "      <td>NaN</td>\n",
              "      <td>1.000000</td>\n",
              "      <td>NaN</td>\n",
              "      <td>NaN</td>\n",
              "      <td>NaN</td>\n",
              "      <td>1568.000000</td>\n",
              "    </tr>\n",
              "  </tbody>\n",
              "</table>\n",
              "</div>\n",
              "      <button class=\"colab-df-convert\" onclick=\"convertToInteractive('df-9f785df7-4be3-4633-af2c-447281d8e474')\"\n",
              "              title=\"Convert this dataframe to an interactive table.\"\n",
              "              style=\"display:none;\">\n",
              "        \n",
              "  <svg xmlns=\"http://www.w3.org/2000/svg\" height=\"24px\"viewBox=\"0 0 24 24\"\n",
              "       width=\"24px\">\n",
              "    <path d=\"M0 0h24v24H0V0z\" fill=\"none\"/>\n",
              "    <path d=\"M18.56 5.44l.94 2.06.94-2.06 2.06-.94-2.06-.94-.94-2.06-.94 2.06-2.06.94zm-11 1L8.5 8.5l.94-2.06 2.06-.94-2.06-.94L8.5 2.5l-.94 2.06-2.06.94zm10 10l.94 2.06.94-2.06 2.06-.94-2.06-.94-.94-2.06-.94 2.06-2.06.94z\"/><path d=\"M17.41 7.96l-1.37-1.37c-.4-.4-.92-.59-1.43-.59-.52 0-1.04.2-1.43.59L10.3 9.45l-7.72 7.72c-.78.78-.78 2.05 0 2.83L4 21.41c.39.39.9.59 1.41.59.51 0 1.02-.2 1.41-.59l7.78-7.78 2.81-2.81c.8-.78.8-2.07 0-2.86zM5.41 20L4 18.59l7.72-7.72 1.47 1.35L5.41 20z\"/>\n",
              "  </svg>\n",
              "      </button>\n",
              "      \n",
              "  <style>\n",
              "    .colab-df-container {\n",
              "      display:flex;\n",
              "      flex-wrap:wrap;\n",
              "      gap: 12px;\n",
              "    }\n",
              "\n",
              "    .colab-df-convert {\n",
              "      background-color: #E8F0FE;\n",
              "      border: none;\n",
              "      border-radius: 50%;\n",
              "      cursor: pointer;\n",
              "      display: none;\n",
              "      fill: #1967D2;\n",
              "      height: 32px;\n",
              "      padding: 0 0 0 0;\n",
              "      width: 32px;\n",
              "    }\n",
              "\n",
              "    .colab-df-convert:hover {\n",
              "      background-color: #E2EBFA;\n",
              "      box-shadow: 0px 1px 2px rgba(60, 64, 67, 0.3), 0px 1px 3px 1px rgba(60, 64, 67, 0.15);\n",
              "      fill: #174EA6;\n",
              "    }\n",
              "\n",
              "    [theme=dark] .colab-df-convert {\n",
              "      background-color: #3B4455;\n",
              "      fill: #D2E3FC;\n",
              "    }\n",
              "\n",
              "    [theme=dark] .colab-df-convert:hover {\n",
              "      background-color: #434B5C;\n",
              "      box-shadow: 0px 1px 3px 1px rgba(0, 0, 0, 0.15);\n",
              "      filter: drop-shadow(0px 1px 2px rgba(0, 0, 0, 0.3));\n",
              "      fill: #FFFFFF;\n",
              "    }\n",
              "  </style>\n",
              "\n",
              "      <script>\n",
              "        const buttonEl =\n",
              "          document.querySelector('#df-9f785df7-4be3-4633-af2c-447281d8e474 button.colab-df-convert');\n",
              "        buttonEl.style.display =\n",
              "          google.colab.kernel.accessAllowed ? 'block' : 'none';\n",
              "\n",
              "        async function convertToInteractive(key) {\n",
              "          const element = document.querySelector('#df-9f785df7-4be3-4633-af2c-447281d8e474');\n",
              "          const dataTable =\n",
              "            await google.colab.kernel.invokeFunction('convertToInteractive',\n",
              "                                                     [key], {});\n",
              "          if (!dataTable) return;\n",
              "\n",
              "          const docLinkHtml = 'Like what you see? Visit the ' +\n",
              "            '<a target=\"_blank\" href=https://colab.research.google.com/notebooks/data_table.ipynb>data table notebook</a>'\n",
              "            + ' to learn more about interactive tables.';\n",
              "          element.innerHTML = '';\n",
              "          dataTable['output_type'] = 'display_data';\n",
              "          await google.colab.output.renderOutput(dataTable, element);\n",
              "          const docLink = document.createElement('div');\n",
              "          docLink.innerHTML = docLinkHtml;\n",
              "          element.appendChild(docLink);\n",
              "        }\n",
              "      </script>\n",
              "    </div>\n",
              "  </div>\n",
              "  "
            ],
            "text/plain": [
              "             price  retail_price  ... crawl_month           id\n",
              "count   479.000000    479.000000  ...         479   479.000000\n",
              "unique         NaN           NaN  ...           1          NaN\n",
              "top            NaN           NaN  ...     2020-08          NaN\n",
              "freq           NaN           NaN  ...         479          NaN\n",
              "mean      8.335846     22.321503  ...         NaN   817.501044\n",
              "std       3.708964     26.773515  ...         NaN   454.150616\n",
              "min       1.000000      1.000000  ...         NaN     0.000000\n",
              "25%       5.790000      7.000000  ...         NaN   410.500000\n",
              "50%       8.000000     10.000000  ...         NaN   863.000000\n",
              "75%      11.000000     26.000000  ...         NaN  1214.500000\n",
              "max      20.000000    168.000000  ...         NaN  1568.000000\n",
              "\n",
              "[11 rows x 33 columns]"
            ]
          },
          "metadata": {},
          "execution_count": 359
        }
      ],
      "source": [
        "# show all statistics in testing data\n",
        "df_test.describe(include='all')"
      ]
    },
    {
      "cell_type": "markdown",
      "source": [
        "## Missing Values in Data"
      ],
      "metadata": {
        "id": "I9NGu6RjHhRD"
      }
    },
    {
      "cell_type": "markdown",
      "metadata": {
        "id": "Jz4fxYykT1VB"
      },
      "source": [
        "### In The Label"
      ]
    },
    {
      "cell_type": "markdown",
      "metadata": {
        "id": "kpiQuHl4mr6k"
      },
      "source": [
        "#### Understanding what is missing in Label"
      ]
    },
    {
      "cell_type": "code",
      "execution_count": null,
      "metadata": {
        "colab": {
          "base_uri": "https://localhost:8080/"
        },
        "id": "5t6gmsWjOVS6",
        "outputId": "e295c91f-b3b6-46d5-f049-ec237d7c070d"
      },
      "outputs": [
        {
          "output_type": "execute_result",
          "data": {
            "text/plain": [
              "0"
            ]
          },
          "metadata": {},
          "execution_count": 360
        }
      ],
      "source": [
        "# show the sum of null values in rating \n",
        "df_train.rating.isna().sum()"
      ]
    },
    {
      "cell_type": "code",
      "execution_count": null,
      "metadata": {
        "colab": {
          "base_uri": "https://localhost:8080/"
        },
        "id": "9I3wcdadOVS7",
        "outputId": "229c8358-6186-49f8-c997-c9efff304175"
      },
      "outputs": [
        {
          "output_type": "execute_result",
          "data": {
            "text/plain": [
              "array([4., 3., 5., 2., 1., 6.])"
            ]
          },
          "metadata": {},
          "execution_count": 361
        }
      ],
      "source": [
        "# show the unique value to rating \n",
        "df_train.rating.unique()"
      ]
    },
    {
      "cell_type": "markdown",
      "metadata": {
        "id": "3kNBQ6WSOVS7"
      },
      "source": [
        "The rating data \n",
        "\n",
        "*   No found Null value\n",
        "*   It has noise value Because the rating values from 1 to 5, but here it has 6 \n",
        "\n",
        "so i will handle it by drop this row \n"
      ]
    },
    {
      "cell_type": "markdown",
      "metadata": {
        "id": "P2iqep3xU7dT"
      },
      "source": [
        "#### Handling the Lable(rating Columns)"
      ]
    },
    {
      "cell_type": "code",
      "execution_count": null,
      "metadata": {
        "colab": {
          "base_uri": "https://localhost:8080/"
        },
        "id": "grPsmrXQOVS7",
        "outputId": "42963f47-e912-4e68-be13-d1bb02d48811"
      },
      "outputs": [
        {
          "output_type": "execute_result",
          "data": {
            "text/html": [
              "\n",
              "  <div id=\"df-1321b96a-c50f-4f79-aaa0-06147b32b7a4\">\n",
              "    <div class=\"colab-df-container\">\n",
              "      <div>\n",
              "<style scoped>\n",
              "    .dataframe tbody tr th:only-of-type {\n",
              "        vertical-align: middle;\n",
              "    }\n",
              "\n",
              "    .dataframe tbody tr th {\n",
              "        vertical-align: top;\n",
              "    }\n",
              "\n",
              "    .dataframe thead th {\n",
              "        text-align: right;\n",
              "    }\n",
              "</style>\n",
              "<table border=\"1\" class=\"dataframe\">\n",
              "  <thead>\n",
              "    <tr style=\"text-align: right;\">\n",
              "      <th></th>\n",
              "      <th></th>\n",
              "      <th>price</th>\n",
              "      <th>retail_price</th>\n",
              "      <th>currency_buyer</th>\n",
              "      <th>units_sold</th>\n",
              "      <th>uses_ad_boosts</th>\n",
              "      <th>rating</th>\n",
              "      <th>rating_count</th>\n",
              "      <th>badges_count</th>\n",
              "      <th>badge_local_product</th>\n",
              "      <th>badge_product_quality</th>\n",
              "      <th>badge_fast_shipping</th>\n",
              "      <th>tags</th>\n",
              "      <th>product_color</th>\n",
              "      <th>product_variation_size_id</th>\n",
              "      <th>product_variation_inventory</th>\n",
              "      <th>shipping_option_name</th>\n",
              "      <th>shipping_option_price</th>\n",
              "      <th>shipping_is_express</th>\n",
              "      <th>countries_shipped_to</th>\n",
              "      <th>inventory_total</th>\n",
              "      <th>has_urgency_banner</th>\n",
              "      <th>urgency_text</th>\n",
              "      <th>origin_country</th>\n",
              "      <th>merchant_title</th>\n",
              "      <th>merchant_name</th>\n",
              "      <th>merchant_info_subtitle</th>\n",
              "      <th>merchant_rating_count</th>\n",
              "      <th>merchant_rating</th>\n",
              "      <th>merchant_id</th>\n",
              "      <th>merchant_has_profile_picture</th>\n",
              "      <th>merchant_profile_picture</th>\n",
              "      <th>theme</th>\n",
              "      <th>crawl_month</th>\n",
              "      <th>id</th>\n",
              "    </tr>\n",
              "    <tr>\n",
              "      <th>id</th>\n",
              "      <th>merchant_id</th>\n",
              "      <th></th>\n",
              "      <th></th>\n",
              "      <th></th>\n",
              "      <th></th>\n",
              "      <th></th>\n",
              "      <th></th>\n",
              "      <th></th>\n",
              "      <th></th>\n",
              "      <th></th>\n",
              "      <th></th>\n",
              "      <th></th>\n",
              "      <th></th>\n",
              "      <th></th>\n",
              "      <th></th>\n",
              "      <th></th>\n",
              "      <th></th>\n",
              "      <th></th>\n",
              "      <th></th>\n",
              "      <th></th>\n",
              "      <th></th>\n",
              "      <th></th>\n",
              "      <th></th>\n",
              "      <th></th>\n",
              "      <th></th>\n",
              "      <th></th>\n",
              "      <th></th>\n",
              "      <th></th>\n",
              "      <th></th>\n",
              "      <th></th>\n",
              "      <th></th>\n",
              "      <th></th>\n",
              "      <th></th>\n",
              "      <th></th>\n",
              "      <th></th>\n",
              "    </tr>\n",
              "  </thead>\n",
              "  <tbody>\n",
              "    <tr>\n",
              "      <th>272</th>\n",
              "      <th>577fb2b368116418674befd9</th>\n",
              "      <td>8.00</td>\n",
              "      <td>7</td>\n",
              "      <td>EUR</td>\n",
              "      <td>10000</td>\n",
              "      <td>1</td>\n",
              "      <td>4.0</td>\n",
              "      <td>1670</td>\n",
              "      <td>0</td>\n",
              "      <td>0</td>\n",
              "      <td>0</td>\n",
              "      <td>0</td>\n",
              "      <td>Summer,soildcolor,Plus Size,Tank,camisole,Tops...</td>\n",
              "      <td>yellow</td>\n",
              "      <td>M</td>\n",
              "      <td>50</td>\n",
              "      <td>Livraison standard</td>\n",
              "      <td>3</td>\n",
              "      <td>0</td>\n",
              "      <td>30</td>\n",
              "      <td>50</td>\n",
              "      <td>NaN</td>\n",
              "      <td>NaN</td>\n",
              "      <td>CN</td>\n",
              "      <td>keepahorse</td>\n",
              "      <td>keepahorse</td>\n",
              "      <td>88 % avis positifs (66,644 notes)</td>\n",
              "      <td>66644</td>\n",
              "      <td>4.137582</td>\n",
              "      <td>577fb2b368116418674befd9</td>\n",
              "      <td>1</td>\n",
              "      <td>https://s3-us-west-1.amazonaws.com/sweeper-pro...</td>\n",
              "      <td>summer</td>\n",
              "      <td>2020-08</td>\n",
              "      <td>272</td>\n",
              "    </tr>\n",
              "    <tr>\n",
              "      <th>1515</th>\n",
              "      <th>566a3ef17233ff2686443082</th>\n",
              "      <td>8.00</td>\n",
              "      <td>7</td>\n",
              "      <td>EUR</td>\n",
              "      <td>1000</td>\n",
              "      <td>0</td>\n",
              "      <td>4.0</td>\n",
              "      <td>843</td>\n",
              "      <td>1</td>\n",
              "      <td>1</td>\n",
              "      <td>0</td>\n",
              "      <td>0</td>\n",
              "      <td>bathing suit,Plus Size,bikini set,sexy swimsui...</td>\n",
              "      <td>black</td>\n",
              "      <td>L</td>\n",
              "      <td>50</td>\n",
              "      <td>Livraison standard</td>\n",
              "      <td>3</td>\n",
              "      <td>0</td>\n",
              "      <td>37</td>\n",
              "      <td>50</td>\n",
              "      <td>NaN</td>\n",
              "      <td>NaN</td>\n",
              "      <td>CN</td>\n",
              "      <td>shanghaimingqidianqikejiyouxiangongsi</td>\n",
              "      <td>上海铭启电气科技有限公司</td>\n",
              "      <td>91 % avis positifs (25,752 notes)</td>\n",
              "      <td>25752</td>\n",
              "      <td>4.256873</td>\n",
              "      <td>566a3ef17233ff2686443082</td>\n",
              "      <td>0</td>\n",
              "      <td>NaN</td>\n",
              "      <td>summer</td>\n",
              "      <td>2020-08</td>\n",
              "      <td>1515</td>\n",
              "    </tr>\n",
              "    <tr>\n",
              "      <th>940</th>\n",
              "      <th>5aacd6c1ccf0c83e5a6f3de0</th>\n",
              "      <td>6.00</td>\n",
              "      <td>34</td>\n",
              "      <td>EUR</td>\n",
              "      <td>100</td>\n",
              "      <td>0</td>\n",
              "      <td>4.0</td>\n",
              "      <td>10</td>\n",
              "      <td>0</td>\n",
              "      <td>0</td>\n",
              "      <td>0</td>\n",
              "      <td>0</td>\n",
              "      <td>Summer,Vest,momshirt,Get,summer t-shirts,funny...</td>\n",
              "      <td>white</td>\n",
              "      <td>L</td>\n",
              "      <td>50</td>\n",
              "      <td>Livraison standard</td>\n",
              "      <td>2</td>\n",
              "      <td>0</td>\n",
              "      <td>41</td>\n",
              "      <td>50</td>\n",
              "      <td>NaN</td>\n",
              "      <td>NaN</td>\n",
              "      <td>CN</td>\n",
              "      <td>zhaodongmei</td>\n",
              "      <td>zhaodongmei</td>\n",
              "      <td>83 % avis positifs (3,897 notes)</td>\n",
              "      <td>3897</td>\n",
              "      <td>3.928920</td>\n",
              "      <td>5aacd6c1ccf0c83e5a6f3de0</td>\n",
              "      <td>0</td>\n",
              "      <td>NaN</td>\n",
              "      <td>summer</td>\n",
              "      <td>2020-08</td>\n",
              "      <td>940</td>\n",
              "    </tr>\n",
              "    <tr>\n",
              "      <th>309</th>\n",
              "      <th>583141fbfef4094e51453d9b</th>\n",
              "      <td>4.67</td>\n",
              "      <td>4</td>\n",
              "      <td>EUR</td>\n",
              "      <td>100</td>\n",
              "      <td>1</td>\n",
              "      <td>3.0</td>\n",
              "      <td>82</td>\n",
              "      <td>0</td>\n",
              "      <td>0</td>\n",
              "      <td>0</td>\n",
              "      <td>0</td>\n",
              "      <td>Summer,Shorts,pants,Beach,Plus Size,beachpant,...</td>\n",
              "      <td>lakeblue</td>\n",
              "      <td>XS</td>\n",
              "      <td>5</td>\n",
              "      <td>Livraison standard</td>\n",
              "      <td>1</td>\n",
              "      <td>0</td>\n",
              "      <td>25</td>\n",
              "      <td>50</td>\n",
              "      <td>NaN</td>\n",
              "      <td>NaN</td>\n",
              "      <td>CN</td>\n",
              "      <td>pookie0331</td>\n",
              "      <td>pookie0331</td>\n",
              "      <td>87 % avis positifs (7,497 notes)</td>\n",
              "      <td>7497</td>\n",
              "      <td>4.079365</td>\n",
              "      <td>583141fbfef4094e51453d9b</td>\n",
              "      <td>0</td>\n",
              "      <td>NaN</td>\n",
              "      <td>summer</td>\n",
              "      <td>2020-08</td>\n",
              "      <td>309</td>\n",
              "    </tr>\n",
              "    <tr>\n",
              "      <th>226</th>\n",
              "      <th>5d3bc9f8e13a7e654424a4cb</th>\n",
              "      <td>8.00</td>\n",
              "      <td>11</td>\n",
              "      <td>EUR</td>\n",
              "      <td>1000</td>\n",
              "      <td>0</td>\n",
              "      <td>4.0</td>\n",
              "      <td>127</td>\n",
              "      <td>0</td>\n",
              "      <td>0</td>\n",
              "      <td>0</td>\n",
              "      <td>0</td>\n",
              "      <td>Summer,Floral print,women dresses,fashion dres...</td>\n",
              "      <td>apricot</td>\n",
              "      <td>S</td>\n",
              "      <td>50</td>\n",
              "      <td>Livraison standard</td>\n",
              "      <td>3</td>\n",
              "      <td>0</td>\n",
              "      <td>15</td>\n",
              "      <td>50</td>\n",
              "      <td>1.0</td>\n",
              "      <td>Quantité limitée !</td>\n",
              "      <td>CN</td>\n",
              "      <td>shitongyi12683626</td>\n",
              "      <td>shitongyi12683626</td>\n",
              "      <td>91 % avis positifs (173 notes)</td>\n",
              "      <td>173</td>\n",
              "      <td>4.306358</td>\n",
              "      <td>5d3bc9f8e13a7e654424a4cb</td>\n",
              "      <td>0</td>\n",
              "      <td>NaN</td>\n",
              "      <td>summer</td>\n",
              "      <td>2020-08</td>\n",
              "      <td>226</td>\n",
              "    </tr>\n",
              "    <tr>\n",
              "      <th>...</th>\n",
              "      <th>...</th>\n",
              "      <td>...</td>\n",
              "      <td>...</td>\n",
              "      <td>...</td>\n",
              "      <td>...</td>\n",
              "      <td>...</td>\n",
              "      <td>...</td>\n",
              "      <td>...</td>\n",
              "      <td>...</td>\n",
              "      <td>...</td>\n",
              "      <td>...</td>\n",
              "      <td>...</td>\n",
              "      <td>...</td>\n",
              "      <td>...</td>\n",
              "      <td>...</td>\n",
              "      <td>...</td>\n",
              "      <td>...</td>\n",
              "      <td>...</td>\n",
              "      <td>...</td>\n",
              "      <td>...</td>\n",
              "      <td>...</td>\n",
              "      <td>...</td>\n",
              "      <td>...</td>\n",
              "      <td>...</td>\n",
              "      <td>...</td>\n",
              "      <td>...</td>\n",
              "      <td>...</td>\n",
              "      <td>...</td>\n",
              "      <td>...</td>\n",
              "      <td>...</td>\n",
              "      <td>...</td>\n",
              "      <td>...</td>\n",
              "      <td>...</td>\n",
              "      <td>...</td>\n",
              "      <td>...</td>\n",
              "    </tr>\n",
              "    <tr>\n",
              "      <th>1381</th>\n",
              "      <th>53f2db3c104dae6bcae0c271</th>\n",
              "      <td>4.00</td>\n",
              "      <td>4</td>\n",
              "      <td>EUR</td>\n",
              "      <td>10000</td>\n",
              "      <td>0</td>\n",
              "      <td>4.0</td>\n",
              "      <td>2150</td>\n",
              "      <td>0</td>\n",
              "      <td>0</td>\n",
              "      <td>0</td>\n",
              "      <td>0</td>\n",
              "      <td>corset top,Fashion,crop top,camisole,knittop,T...</td>\n",
              "      <td>red</td>\n",
              "      <td>S</td>\n",
              "      <td>50</td>\n",
              "      <td>Livraison standard</td>\n",
              "      <td>1</td>\n",
              "      <td>0</td>\n",
              "      <td>41</td>\n",
              "      <td>50</td>\n",
              "      <td>NaN</td>\n",
              "      <td>NaN</td>\n",
              "      <td>CN</td>\n",
              "      <td>fantastic_tune</td>\n",
              "      <td>fantastic_tune</td>\n",
              "      <td>92 % avis positifs (230,951 notes)</td>\n",
              "      <td>230951</td>\n",
              "      <td>4.311066</td>\n",
              "      <td>53f2db3c104dae6bcae0c271</td>\n",
              "      <td>0</td>\n",
              "      <td>NaN</td>\n",
              "      <td>summer</td>\n",
              "      <td>2020-08</td>\n",
              "      <td>1381</td>\n",
              "    </tr>\n",
              "    <tr>\n",
              "      <th>212</th>\n",
              "      <th>592968ba63950d682ca4b195</th>\n",
              "      <td>5.00</td>\n",
              "      <td>5</td>\n",
              "      <td>EUR</td>\n",
              "      <td>1000</td>\n",
              "      <td>0</td>\n",
              "      <td>5.0</td>\n",
              "      <td>377</td>\n",
              "      <td>1</td>\n",
              "      <td>0</td>\n",
              "      <td>1</td>\n",
              "      <td>0</td>\n",
              "      <td>Blues,Summer,luggagesticker,Bicycle,cute,fresh...</td>\n",
              "      <td>NaN</td>\n",
              "      <td>H01</td>\n",
              "      <td>31</td>\n",
              "      <td>Livraison standard</td>\n",
              "      <td>2</td>\n",
              "      <td>0</td>\n",
              "      <td>35</td>\n",
              "      <td>50</td>\n",
              "      <td>NaN</td>\n",
              "      <td>NaN</td>\n",
              "      <td>CN</td>\n",
              "      <td>zzbllss</td>\n",
              "      <td>zzbllss</td>\n",
              "      <td>(2,904 notes)</td>\n",
              "      <td>2904</td>\n",
              "      <td>4.422521</td>\n",
              "      <td>592968ba63950d682ca4b195</td>\n",
              "      <td>0</td>\n",
              "      <td>NaN</td>\n",
              "      <td>summer</td>\n",
              "      <td>2020-08</td>\n",
              "      <td>212</td>\n",
              "    </tr>\n",
              "    <tr>\n",
              "      <th>163</th>\n",
              "      <th>5b6ec2f2838d931d2fbf7a28</th>\n",
              "      <td>9.00</td>\n",
              "      <td>48</td>\n",
              "      <td>EUR</td>\n",
              "      <td>1000</td>\n",
              "      <td>1</td>\n",
              "      <td>4.0</td>\n",
              "      <td>135</td>\n",
              "      <td>0</td>\n",
              "      <td>0</td>\n",
              "      <td>0</td>\n",
              "      <td>0</td>\n",
              "      <td>Summer,Vest,Fashion,Tank,camisole,Halter,Beaut...</td>\n",
              "      <td>purple</td>\n",
              "      <td>M</td>\n",
              "      <td>50</td>\n",
              "      <td>Livraison standard</td>\n",
              "      <td>3</td>\n",
              "      <td>0</td>\n",
              "      <td>25</td>\n",
              "      <td>50</td>\n",
              "      <td>NaN</td>\n",
              "      <td>NaN</td>\n",
              "      <td>CN</td>\n",
              "      <td>OIUG 56465</td>\n",
              "      <td>oiug56465</td>\n",
              "      <td>78 % avis positifs (6,632 notes)</td>\n",
              "      <td>6632</td>\n",
              "      <td>3.748794</td>\n",
              "      <td>5b6ec2f2838d931d2fbf7a28</td>\n",
              "      <td>0</td>\n",
              "      <td>NaN</td>\n",
              "      <td>summer</td>\n",
              "      <td>2020-08</td>\n",
              "      <td>163</td>\n",
              "    </tr>\n",
              "    <tr>\n",
              "      <th>674</th>\n",
              "      <th>58330d7def56284f7634e5e5</th>\n",
              "      <td>11.00</td>\n",
              "      <td>10</td>\n",
              "      <td>EUR</td>\n",
              "      <td>10000</td>\n",
              "      <td>1</td>\n",
              "      <td>4.0</td>\n",
              "      <td>1479</td>\n",
              "      <td>0</td>\n",
              "      <td>0</td>\n",
              "      <td>0</td>\n",
              "      <td>0</td>\n",
              "      <td>Summer,Shorts,Cotton,Cotton T Shirt,letter pri...</td>\n",
              "      <td>black</td>\n",
              "      <td>M</td>\n",
              "      <td>50</td>\n",
              "      <td>Livraison standard</td>\n",
              "      <td>2</td>\n",
              "      <td>0</td>\n",
              "      <td>45</td>\n",
              "      <td>50</td>\n",
              "      <td>1.0</td>\n",
              "      <td>Quantité limitée !</td>\n",
              "      <td>CN</td>\n",
              "      <td>yubenqiang</td>\n",
              "      <td>yubenqiang</td>\n",
              "      <td>83 % avis positifs (5,816 notes)</td>\n",
              "      <td>5816</td>\n",
              "      <td>3.936382</td>\n",
              "      <td>58330d7def56284f7634e5e5</td>\n",
              "      <td>0</td>\n",
              "      <td>NaN</td>\n",
              "      <td>summer</td>\n",
              "      <td>2020-08</td>\n",
              "      <td>674</td>\n",
              "    </tr>\n",
              "    <tr>\n",
              "      <th>1536</th>\n",
              "      <th>5acaf29d5ebcfd72403106a8</th>\n",
              "      <td>7.00</td>\n",
              "      <td>6</td>\n",
              "      <td>EUR</td>\n",
              "      <td>1000</td>\n",
              "      <td>1</td>\n",
              "      <td>3.0</td>\n",
              "      <td>141</td>\n",
              "      <td>0</td>\n",
              "      <td>0</td>\n",
              "      <td>0</td>\n",
              "      <td>0</td>\n",
              "      <td>sleeve v-neck,Summer,Plus Size,Sleeve,Dresses,...</td>\n",
              "      <td>yellow</td>\n",
              "      <td>XS</td>\n",
              "      <td>7</td>\n",
              "      <td>Livraison standard</td>\n",
              "      <td>2</td>\n",
              "      <td>0</td>\n",
              "      <td>23</td>\n",
              "      <td>50</td>\n",
              "      <td>1.0</td>\n",
              "      <td>Quantité limitée !</td>\n",
              "      <td>CN</td>\n",
              "      <td>Suyi Technology</td>\n",
              "      <td>greatexpectationstechnology</td>\n",
              "      <td>86 % avis positifs (12,309 notes)</td>\n",
              "      <td>12309</td>\n",
              "      <td>4.045170</td>\n",
              "      <td>5acaf29d5ebcfd72403106a8</td>\n",
              "      <td>1</td>\n",
              "      <td>https://s3-us-west-1.amazonaws.com/sweeper-pro...</td>\n",
              "      <td>summer</td>\n",
              "      <td>2020-08</td>\n",
              "      <td>1536</td>\n",
              "    </tr>\n",
              "  </tbody>\n",
              "</table>\n",
              "<p>1093 rows × 34 columns</p>\n",
              "</div>\n",
              "      <button class=\"colab-df-convert\" onclick=\"convertToInteractive('df-1321b96a-c50f-4f79-aaa0-06147b32b7a4')\"\n",
              "              title=\"Convert this dataframe to an interactive table.\"\n",
              "              style=\"display:none;\">\n",
              "        \n",
              "  <svg xmlns=\"http://www.w3.org/2000/svg\" height=\"24px\"viewBox=\"0 0 24 24\"\n",
              "       width=\"24px\">\n",
              "    <path d=\"M0 0h24v24H0V0z\" fill=\"none\"/>\n",
              "    <path d=\"M18.56 5.44l.94 2.06.94-2.06 2.06-.94-2.06-.94-.94-2.06-.94 2.06-2.06.94zm-11 1L8.5 8.5l.94-2.06 2.06-.94-2.06-.94L8.5 2.5l-.94 2.06-2.06.94zm10 10l.94 2.06.94-2.06 2.06-.94-2.06-.94-.94-2.06-.94 2.06-2.06.94z\"/><path d=\"M17.41 7.96l-1.37-1.37c-.4-.4-.92-.59-1.43-.59-.52 0-1.04.2-1.43.59L10.3 9.45l-7.72 7.72c-.78.78-.78 2.05 0 2.83L4 21.41c.39.39.9.59 1.41.59.51 0 1.02-.2 1.41-.59l7.78-7.78 2.81-2.81c.8-.78.8-2.07 0-2.86zM5.41 20L4 18.59l7.72-7.72 1.47 1.35L5.41 20z\"/>\n",
              "  </svg>\n",
              "      </button>\n",
              "      \n",
              "  <style>\n",
              "    .colab-df-container {\n",
              "      display:flex;\n",
              "      flex-wrap:wrap;\n",
              "      gap: 12px;\n",
              "    }\n",
              "\n",
              "    .colab-df-convert {\n",
              "      background-color: #E8F0FE;\n",
              "      border: none;\n",
              "      border-radius: 50%;\n",
              "      cursor: pointer;\n",
              "      display: none;\n",
              "      fill: #1967D2;\n",
              "      height: 32px;\n",
              "      padding: 0 0 0 0;\n",
              "      width: 32px;\n",
              "    }\n",
              "\n",
              "    .colab-df-convert:hover {\n",
              "      background-color: #E2EBFA;\n",
              "      box-shadow: 0px 1px 2px rgba(60, 64, 67, 0.3), 0px 1px 3px 1px rgba(60, 64, 67, 0.15);\n",
              "      fill: #174EA6;\n",
              "    }\n",
              "\n",
              "    [theme=dark] .colab-df-convert {\n",
              "      background-color: #3B4455;\n",
              "      fill: #D2E3FC;\n",
              "    }\n",
              "\n",
              "    [theme=dark] .colab-df-convert:hover {\n",
              "      background-color: #434B5C;\n",
              "      box-shadow: 0px 1px 3px 1px rgba(0, 0, 0, 0.15);\n",
              "      filter: drop-shadow(0px 1px 2px rgba(0, 0, 0, 0.3));\n",
              "      fill: #FFFFFF;\n",
              "    }\n",
              "  </style>\n",
              "\n",
              "      <script>\n",
              "        const buttonEl =\n",
              "          document.querySelector('#df-1321b96a-c50f-4f79-aaa0-06147b32b7a4 button.colab-df-convert');\n",
              "        buttonEl.style.display =\n",
              "          google.colab.kernel.accessAllowed ? 'block' : 'none';\n",
              "\n",
              "        async function convertToInteractive(key) {\n",
              "          const element = document.querySelector('#df-1321b96a-c50f-4f79-aaa0-06147b32b7a4');\n",
              "          const dataTable =\n",
              "            await google.colab.kernel.invokeFunction('convertToInteractive',\n",
              "                                                     [key], {});\n",
              "          if (!dataTable) return;\n",
              "\n",
              "          const docLinkHtml = 'Like what you see? Visit the ' +\n",
              "            '<a target=\"_blank\" href=https://colab.research.google.com/notebooks/data_table.ipynb>data table notebook</a>'\n",
              "            + ' to learn more about interactive tables.';\n",
              "          element.innerHTML = '';\n",
              "          dataTable['output_type'] = 'display_data';\n",
              "          await google.colab.output.renderOutput(dataTable, element);\n",
              "          const docLink = document.createElement('div');\n",
              "          docLink.innerHTML = docLinkHtml;\n",
              "          element.appendChild(docLink);\n",
              "        }\n",
              "      </script>\n",
              "    </div>\n",
              "  </div>\n",
              "  "
            ],
            "text/plain": [
              "                               price  retail_price  ... crawl_month    id\n",
              "id   merchant_id                                    ...                  \n",
              "272  577fb2b368116418674befd9   8.00             7  ...     2020-08   272\n",
              "1515 566a3ef17233ff2686443082   8.00             7  ...     2020-08  1515\n",
              "940  5aacd6c1ccf0c83e5a6f3de0   6.00            34  ...     2020-08   940\n",
              "309  583141fbfef4094e51453d9b   4.67             4  ...     2020-08   309\n",
              "226  5d3bc9f8e13a7e654424a4cb   8.00            11  ...     2020-08   226\n",
              "...                              ...           ...  ...         ...   ...\n",
              "1381 53f2db3c104dae6bcae0c271   4.00             4  ...     2020-08  1381\n",
              "212  592968ba63950d682ca4b195   5.00             5  ...     2020-08   212\n",
              "163  5b6ec2f2838d931d2fbf7a28   9.00            48  ...     2020-08   163\n",
              "674  58330d7def56284f7634e5e5  11.00            10  ...     2020-08   674\n",
              "1536 5acaf29d5ebcfd72403106a8   7.00             6  ...     2020-08  1536\n",
              "\n",
              "[1093 rows x 34 columns]"
            ]
          },
          "metadata": {},
          "execution_count": 362
        }
      ],
      "source": [
        "# Drop row with the rating value is 6\n",
        "df_train = df_train[df_train.rating != 6.0]\n",
        "df_train"
      ]
    },
    {
      "cell_type": "markdown",
      "metadata": {
        "id": "ALVSvdDPVntS"
      },
      "source": [
        "### In The Features"
      ]
    },
    {
      "cell_type": "markdown",
      "metadata": {
        "id": "NqKkvXTPmXXa"
      },
      "source": [
        "#### Understanding what is missing in Features"
      ]
    },
    {
      "cell_type": "code",
      "execution_count": null,
      "metadata": {
        "colab": {
          "base_uri": "https://localhost:8080/"
        },
        "id": "W-Ppq-axWuGR",
        "outputId": "d4d9ccb1-a2f2-498b-ca6a-cd7b3337c3c9"
      },
      "outputs": [
        {
          "output_type": "execute_result",
          "data": {
            "text/plain": [
              "0"
            ]
          },
          "metadata": {},
          "execution_count": 363
        }
      ],
      "source": [
        "# First, lets show sum of duplicate values (if any)\n",
        "df_train.duplicated().sum()"
      ]
    },
    {
      "cell_type": "code",
      "execution_count": null,
      "metadata": {
        "colab": {
          "base_uri": "https://localhost:8080/"
        },
        "id": "msvVCp4HUBdI",
        "outputId": "72aeeb39-4ca4-44a7-b0d4-bf497a10750a"
      },
      "outputs": [
        {
          "output_type": "stream",
          "name": "stdout",
          "text": [
            "check Null values in training data  : \n",
            " merchant_profile_picture        923\n",
            "has_urgency_banner              744\n",
            "urgency_text                    744\n",
            "product_color                    29\n",
            "origin_country                   12\n",
            "product_variation_size_id        12\n",
            "merchant_name                     4\n",
            "price                             0\n",
            "merchant_title                    0\n",
            "merchant_info_subtitle            0\n",
            "countries_shipped_to              0\n",
            "merchant_rating_count             0\n",
            "merchant_rating                   0\n",
            "merchant_id                       0\n",
            "merchant_has_profile_picture      0\n",
            "theme                             0\n",
            "crawl_month                       0\n",
            "inventory_total                   0\n",
            "shipping_is_express               0\n",
            "retail_price                      0\n",
            "shipping_option_price             0\n",
            "shipping_option_name              0\n",
            "product_variation_inventory       0\n",
            "tags                              0\n",
            "badge_fast_shipping               0\n",
            "badge_product_quality             0\n",
            "badge_local_product               0\n",
            "badges_count                      0\n",
            "rating_count                      0\n",
            "rating                            0\n",
            "uses_ad_boosts                    0\n",
            "units_sold                        0\n",
            "currency_buyer                    0\n",
            "id                                0\n",
            "dtype: int64  \n",
            " \n",
            " \n",
            "\n",
            "check Null values in testing data  : \n",
            " merchant_profile_picture        423\n",
            "has_urgency_banner              355\n",
            "urgency_text                    355\n",
            "product_color                    12\n",
            "origin_country                    5\n",
            "product_variation_size_id         2\n",
            "merchant_info_subtitle            1\n",
            "merchant_title                    0\n",
            "merchant_name                     0\n",
            "price                             0\n",
            "inventory_total                   0\n",
            "merchant_rating                   0\n",
            "merchant_id                       0\n",
            "merchant_has_profile_picture      0\n",
            "theme                             0\n",
            "crawl_month                       0\n",
            "merchant_rating_count             0\n",
            "shipping_is_express               0\n",
            "countries_shipped_to              0\n",
            "retail_price                      0\n",
            "shipping_option_price             0\n",
            "shipping_option_name              0\n",
            "product_variation_inventory       0\n",
            "tags                              0\n",
            "badge_fast_shipping               0\n",
            "badge_product_quality             0\n",
            "badge_local_product               0\n",
            "badges_count                      0\n",
            "rating_count                      0\n",
            "uses_ad_boosts                    0\n",
            "units_sold                        0\n",
            "currency_buyer                    0\n",
            "id                                0\n",
            "dtype: int64\n"
          ]
        }
      ],
      "source": [
        "# show missing values per-column in training data  \n",
        "total_train = df_train.isnull().sum().sort_values(ascending=False)\n",
        "print('check Null values in training data  : \\n', total_train, ' \\n \\n \\n')\n",
        "# show missing values per-column in testing data \n",
        "total_test = df_test.isnull().sum().sort_values(ascending=False)\n",
        "print('check Null values in testing data  : \\n', total_test)"
      ]
    },
    {
      "cell_type": "code",
      "execution_count": null,
      "metadata": {
        "colab": {
          "base_uri": "https://localhost:8080/"
        },
        "id": "sgjci3kEXY-J",
        "outputId": "5b9aa71d-b708-4a14-884d-a9ec044fc086"
      },
      "outputs": [
        {
          "output_type": "stream",
          "name": "stdout",
          "text": [
            "show missing values percentage per-column in the training data \n",
            "  merchant_profile_picture        0.844465\n",
            "has_urgency_banner              0.680695\n",
            "urgency_text                    0.680695\n",
            "product_color                   0.026532\n",
            "origin_country                  0.010979\n",
            "product_variation_size_id       0.010979\n",
            "merchant_name                   0.003660\n",
            "price                           0.000000\n",
            "merchant_title                  0.000000\n",
            "merchant_info_subtitle          0.000000\n",
            "countries_shipped_to            0.000000\n",
            "merchant_rating_count           0.000000\n",
            "merchant_rating                 0.000000\n",
            "merchant_id                     0.000000\n",
            "merchant_has_profile_picture    0.000000\n",
            "theme                           0.000000\n",
            "crawl_month                     0.000000\n",
            "inventory_total                 0.000000\n",
            "shipping_is_express             0.000000\n",
            "retail_price                    0.000000\n",
            "shipping_option_price           0.000000\n",
            "shipping_option_name            0.000000\n",
            "product_variation_inventory     0.000000\n",
            "tags                            0.000000\n",
            "badge_fast_shipping             0.000000\n",
            "badge_product_quality           0.000000\n",
            "badge_local_product             0.000000\n",
            "badges_count                    0.000000\n",
            "rating_count                    0.000000\n",
            "rating                          0.000000\n",
            "uses_ad_boosts                  0.000000\n",
            "units_sold                      0.000000\n",
            "currency_buyer                  0.000000\n",
            "id                              0.000000\n",
            "dtype: float64  \n",
            " \n",
            " \n",
            "\n",
            "show missing values percentage per-column in the testing data \n",
            "  merchant_profile_picture        0.883090\n",
            "has_urgency_banner              0.741127\n",
            "urgency_text                    0.741127\n",
            "product_color                   0.025052\n",
            "origin_country                  0.010438\n",
            "product_variation_size_id       0.004175\n",
            "merchant_info_subtitle          0.002088\n",
            "merchant_title                  0.000000\n",
            "merchant_name                   0.000000\n",
            "price                           0.000000\n",
            "inventory_total                 0.000000\n",
            "merchant_rating                 0.000000\n",
            "merchant_id                     0.000000\n",
            "merchant_has_profile_picture    0.000000\n",
            "theme                           0.000000\n",
            "crawl_month                     0.000000\n",
            "merchant_rating_count           0.000000\n",
            "shipping_is_express             0.000000\n",
            "countries_shipped_to            0.000000\n",
            "retail_price                    0.000000\n",
            "shipping_option_price           0.000000\n",
            "shipping_option_name            0.000000\n",
            "product_variation_inventory     0.000000\n",
            "tags                            0.000000\n",
            "badge_fast_shipping             0.000000\n",
            "badge_product_quality           0.000000\n",
            "badge_local_product             0.000000\n",
            "badges_count                    0.000000\n",
            "rating_count                    0.000000\n",
            "uses_ad_boosts                  0.000000\n",
            "units_sold                      0.000000\n",
            "currency_buyer                  0.000000\n",
            "id                              0.000000\n",
            "dtype: float64\n"
          ]
        }
      ],
      "source": [
        "# show missing values percentage per-column in training data  \n",
        "percent_train = (df_train.isnull().sum()/df_train.isnull().count()).sort_values(ascending=False)\n",
        "print('show missing values percentage per-column in the training data \\n ', percent_train , ' \\n \\n \\n')\n",
        "\n",
        "# show missing values percentage per-column in testing data  \n",
        "percent_test = (df_test.isnull().sum()/df_test.isnull().count()).sort_values(ascending=False)\n",
        "print('show missing values percentage per-column in the testing data \\n ', percent_test)"
      ]
    },
    {
      "cell_type": "code",
      "execution_count": null,
      "metadata": {
        "colab": {
          "base_uri": "https://localhost:8080/"
        },
        "id": "xWXNeJTROVS7",
        "outputId": "bed92c59-36cd-42aa-85d2-a7d6e5aa1b39"
      },
      "outputs": [
        {
          "output_type": "stream",
          "name": "stdout",
          "text": [
            "show the count of all the unique values in the training data \n",
            "  currency_buyer                     1\n",
            "has_urgency_banner                 1\n",
            "theme                              1\n",
            "crawl_month                        1\n",
            "merchant_has_profile_picture       2\n",
            "urgency_text                       2\n",
            "uses_ad_boosts                     2\n",
            "badge_local_product                2\n",
            "badge_product_quality              2\n",
            "badge_fast_shipping                2\n",
            "shipping_is_express                2\n",
            "badges_count                       4\n",
            "rating                             5\n",
            "origin_country                     5\n",
            "inventory_total                    5\n",
            "shipping_option_price              7\n",
            "units_sold                        13\n",
            "shipping_option_name              13\n",
            "product_variation_inventory       47\n",
            "product_variation_size_id         83\n",
            "countries_shipped_to              83\n",
            "product_color                     86\n",
            "retail_price                      95\n",
            "merchant_profile_picture         100\n",
            "price                            116\n",
            "rating_count                     584\n",
            "merchant_rating_count            717\n",
            "merchant_rating                  741\n",
            "merchant_name                    745\n",
            "merchant_id                      746\n",
            "merchant_title                   746\n",
            "merchant_info_subtitle           807\n",
            "tags                             894\n",
            "id                              1093\n",
            "dtype: int64  \n",
            " \n",
            " \n",
            "\n",
            "show the count of all the unique values in the testing data \n",
            "  urgency_text                      1\n",
            "currency_buyer                    1\n",
            "has_urgency_banner                1\n",
            "crawl_month                       1\n",
            "theme                             1\n",
            "shipping_is_express               2\n",
            "badge_fast_shipping               2\n",
            "badge_product_quality             2\n",
            "merchant_has_profile_picture      2\n",
            "uses_ad_boosts                    2\n",
            "badge_local_product               2\n",
            "badges_count                      4\n",
            "origin_country                    4\n",
            "inventory_total                   6\n",
            "shipping_option_price             7\n",
            "shipping_option_name             10\n",
            "units_sold                       12\n",
            "product_variation_inventory      38\n",
            "merchant_profile_picture         49\n",
            "product_variation_size_id        52\n",
            "product_color                    56\n",
            "retail_price                     67\n",
            "countries_shipped_to             69\n",
            "price                            71\n",
            "rating_count                    317\n",
            "merchant_rating_count           393\n",
            "merchant_rating                 397\n",
            "merchant_id                     398\n",
            "merchant_title                  398\n",
            "merchant_name                   398\n",
            "merchant_info_subtitle          419\n",
            "tags                            450\n",
            "id                              479\n",
            "dtype: int64\n"
          ]
        }
      ],
      "source": [
        "# show the count of all the unique values in the training data\n",
        "print('show the count of all the unique values in the training data \\n ', df_train.nunique().sort_values(ascending=True) , ' \\n \\n \\n')\n",
        "# show the count of all the unique values in the testing data\n",
        "print('show the count of all the unique values in the testing data \\n ', df_test.nunique().sort_values(ascending=True))"
      ]
    },
    {
      "cell_type": "code",
      "execution_count": null,
      "metadata": {
        "colab": {
          "base_uri": "https://localhost:8080/"
        },
        "id": "2ZA_AAcSZKDq",
        "outputId": "5cc0eae9-33e2-49dc-bbb6-3e0bfba0fc70"
      },
      "outputs": [
        {
          "output_type": "display_data",
          "data": {
            "image/png": "[encoded data removed]",
            "text/plain": [
              "<Figure size 1080x432 with 1 Axes>"
            ]
          },
          "metadata": {
            "needs_background": "light"
          }
        }
      ],
      "source": [
        "# Show the total missing values and Percent in Training data \n",
        "missing_data = pd.concat([total_train, percent_train], axis=1, keys=['Total', 'Percent'])\n",
        "f, ax = plt.subplots(figsize=(15, 6))\n",
        "plt.xticks(rotation='90')\n",
        "sns.barplot(x=missing_data.index, y=missing_data['Percent'])\n",
        "plt.xlabel('df_train_cont', fontsize=15)\n",
        "plt.ylabel('Percent of missing values', fontsize=15)\n",
        "plt.title('Percent missing data by feature in Training data', fontsize=15)\n",
        "plt.show()"
      ]
    },
    {
      "cell_type": "code",
      "execution_count": null,
      "metadata": {
        "colab": {
          "base_uri": "https://localhost:8080/"
        },
        "id": "vfJX9bR7b8uz",
        "outputId": "fba9d54f-ff9e-4ed7-b13b-4c33b7c286cc"
      },
      "outputs": [
        {
          "output_type": "display_data",
          "data": {
            "image/png": "[encoded data removed]",
            "text/plain": [
              "<Figure size 1080x432 with 1 Axes>"
            ]
          },
          "metadata": {
            "needs_background": "light"
          }
        }
      ],
      "source": [
        "# Show the total missing values and Percent in Testing data \n",
        "missing_data = pd.concat([total_test, percent_test], axis=1, keys=['Total', 'Percent'])\n",
        "f, ax = plt.subplots(figsize=(15, 6))\n",
        "plt.xticks(rotation='90')\n",
        "sns.barplot(x=missing_data.index, y=missing_data['Percent'])\n",
        "plt.xlabel('df_test_cont', fontsize=15)\n",
        "plt.ylabel('Percent of missing values', fontsize=15)\n",
        "plt.title('Percent missing data by feature in Testing data', fontsize=15)\n",
        "plt.show()"
      ]
    },
    {
      "cell_type": "code",
      "execution_count": null,
      "metadata": {
        "colab": {
          "base_uri": "https://localhost:8080/"
        },
        "id": "53M_rt54OVS8",
        "outputId": "38211f03-b017-48c5-9771-542c5ab76ad9",
        "scrolled": true
      },
      "outputs": [
        {
          "output_type": "stream",
          "name": "stdout",
          "text": [
            "show the unique values and count it in the training data \n",
            "  EUR    1093\n",
            "Name: currency_buyer, dtype: int64  \n",
            " \n",
            " \n",
            "\n",
            "show the unique values and count it in the training data \n",
            "  EUR    479\n",
            "Name: currency_buyer, dtype: int64\n"
          ]
        }
      ],
      "source": [
        "# show the unique values and count it in the columns (currency_buyer) training data\n",
        "print(\"show the unique values and count it in the training data \\n \", df_train.currency_buyer.value_counts(), ' \\n \\n \\n')\n",
        "\n",
        "# show the unique values and count it in the columns (currency_buyer) the training data\n",
        "print(\"show the unique values and count it in the training data \\n \", df_test.currency_buyer.value_counts())"
      ]
    },
    {
      "cell_type": "code",
      "execution_count": null,
      "metadata": {
        "colab": {
          "base_uri": "https://localhost:8080/"
        },
        "id": "RFGct6sHOVS8",
        "outputId": "949dac2b-aaa0-4a80-ad50-cd143c758988"
      },
      "outputs": [
        {
          "output_type": "stream",
          "name": "stdout",
          "text": [
            "show the unique values and count it in the training data \n",
            "  1.0    349\n",
            "Name: has_urgency_banner, dtype: int64  \n",
            " \n",
            " \n",
            "\n",
            "show the unique values and count it in the training data \n",
            "  1.0    124\n",
            "Name: has_urgency_banner, dtype: int64\n"
          ]
        }
      ],
      "source": [
        "# show the unique values and count it in the columns (has_urgency_banner) training data\n",
        "print(\"show the unique values and count it in the training data \\n \", df_train.has_urgency_banner.value_counts(), ' \\n \\n \\n')\n",
        "\n",
        "# show the unique values and count it in the columns (has_urgency_banner) the training data\n",
        "print(\"show the unique values and count it in the training data \\n \", df_test.has_urgency_banner.value_counts()) "
      ]
    },
    {
      "cell_type": "code",
      "execution_count": null,
      "metadata": {
        "colab": {
          "base_uri": "https://localhost:8080/"
        },
        "id": "5UOWvLOjOVS8",
        "outputId": "42bf1cfa-0620-4ac9-8b43-d971a8e508fb"
      },
      "outputs": [
        {
          "output_type": "stream",
          "name": "stdout",
          "text": [
            "show the unique values and count it in the training data \n",
            "  Quantité limitée !                  348\n",
            "Réduction sur les achats en gros      1\n",
            "Name: urgency_text, dtype: int64  \n",
            " \n",
            " \n",
            "\n",
            "show the unique values and count it in the training data \n",
            "  Quantité limitée !    124\n",
            "Name: urgency_text, dtype: int64\n"
          ]
        }
      ],
      "source": [
        "# show the unique values and count it in the columns (urgency_text) training data\n",
        "print(\"show the unique values and count it in the training data \\n \", df_train.urgency_text.value_counts(), ' \\n \\n \\n')\n",
        "\n",
        "# show the unique values and count it in the columns (urgency_text) the training data\n",
        "print(\"show the unique values and count it in the training data \\n \", df_test.urgency_text.value_counts()) "
      ]
    },
    {
      "cell_type": "code",
      "execution_count": null,
      "metadata": {
        "colab": {
          "base_uri": "https://localhost:8080/"
        },
        "id": "xlVJLnybOVS9",
        "outputId": "2ac097b0-c014-4e0a-b667-ea9ef0a89af6"
      },
      "outputs": [
        {
          "output_type": "stream",
          "name": "stdout",
          "text": [
            "show the unique values and count it in the training data \n",
            "  summer    1093\n",
            "Name: theme, dtype: int64  \n",
            " \n",
            " \n",
            "\n",
            "show the unique values and count it in the training data \n",
            "  summer    479\n",
            "Name: theme, dtype: int64\n"
          ]
        }
      ],
      "source": [
        "# show the unique values and count it in the columns (theme) training data\n",
        "print(\"show the unique values and count it in the training data \\n \", df_train.theme.value_counts(), ' \\n \\n \\n')\n",
        "\n",
        "# show the unique values and count it in the columns (theme) the training data\n",
        "print(\"show the unique values and count it in the training data \\n \", df_test.theme.value_counts()) "
      ]
    },
    {
      "cell_type": "code",
      "execution_count": null,
      "metadata": {
        "colab": {
          "base_uri": "https://localhost:8080/"
        },
        "id": "pw5-_Vs5OVS9",
        "outputId": "d9b4afbb-c956-49b2-870a-8c696052eaf7"
      },
      "outputs": [
        {
          "output_type": "stream",
          "name": "stdout",
          "text": [
            "show the unique values and count it in the training data \n",
            "  2020-08    1093\n",
            "Name: crawl_month, dtype: int64  \n",
            " \n",
            " \n",
            "\n",
            "show the unique values and count it in the training data \n",
            "  2020-08    479\n",
            "Name: crawl_month, dtype: int64\n"
          ]
        }
      ],
      "source": [
        "# show the unique values and count it in the columns (crawl_month) training data\n",
        "print(\"show the unique values and count it in the training data \\n \", df_train.crawl_month.value_counts(), ' \\n \\n \\n')\n",
        "\n",
        "# show the unique values and count it in the columns (crawl_month) the training data\n",
        "print(\"show the unique values and count it in the training data \\n \", df_test.crawl_month.value_counts()) "
      ]
    },
    {
      "cell_type": "code",
      "execution_count": null,
      "metadata": {
        "colab": {
          "base_uri": "https://localhost:8080/"
        },
        "id": "YHENCy8Aoloc",
        "outputId": "b146d1ef-e4eb-4afd-f39e-5186989330ff"
      },
      "outputs": [
        {
          "output_type": "stream",
          "name": "stdout",
          "text": [
            "show the unique values and count it in the training data \n",
            "  CN    1053\n",
            "US      22\n",
            "VE       3\n",
            "SG       2\n",
            "GB       1\n",
            "Name: origin_country, dtype: int64  \n",
            " \n",
            " \n",
            "\n",
            "show the unique values and count it in the training data \n",
            "  CN    462\n",
            "US      9\n",
            "VE      2\n",
            "AT      1\n",
            "Name: origin_country, dtype: int64\n"
          ]
        }
      ],
      "source": [
        "# show the unique values and count it in the columns (origin_country) training data\n",
        "print(\"show the unique values and count it in the training data \\n \", df_train.origin_country.value_counts(), ' \\n \\n \\n')\n",
        "\n",
        "# show the unique values and count it in the columns (origin_country) the training data\n",
        "print(\"show the unique values and count it in the training data \\n \", df_test.origin_country.value_counts()) "
      ]
    },
    {
      "cell_type": "code",
      "execution_count": null,
      "metadata": {
        "colab": {
          "base_uri": "https://localhost:8080/"
        },
        "id": "WU4yxr-lpyi-",
        "outputId": "e0ab217b-0950-4adc-9659-d83401521509"
      },
      "outputs": [
        {
          "output_type": "stream",
          "name": "stdout",
          "text": [
            "show the unique values and count it in the training data \n",
            "  black             219\n",
            "white             173\n",
            "blue               77\n",
            "yellow             69\n",
            "pink               68\n",
            "                 ... \n",
            "rainbow             1\n",
            "claret              1\n",
            "whitestripe         1\n",
            "light green         1\n",
            "brown & yellow      1\n",
            "Name: product_color, Length: 86, dtype: int64  \n",
            " \n",
            " \n",
            "\n",
            "show the unique values and count it in the training data \n",
            "  black                  83\n",
            "white                  81\n",
            "yellow                 36\n",
            "red                    32\n",
            "pink                   31\n",
            "green                  29\n",
            "grey                   23\n",
            "blue                   22\n",
            "purple                 16\n",
            "orange                 11\n",
            "navyblue               10\n",
            "armygreen               9\n",
            "winered                 9\n",
            "beige                   9\n",
            "multicolor              6\n",
            "gray                    5\n",
            "lightblue               4\n",
            "rosered                 3\n",
            "floral                  3\n",
            "darkblue                2\n",
            "khaki                   2\n",
            "fluorescentgreen        2\n",
            "white & green           2\n",
            "brown                   2\n",
            "coralred                2\n",
            "leopard                 2\n",
            "skyblue                 2\n",
            "navy                    1\n",
            "wine                    1\n",
            "lightkhaki              1\n",
            "pink & grey             1\n",
            "lightgreen              1\n",
            "black & stripe          1\n",
            "lightpurple             1\n",
            "prussianblue            1\n",
            "coffee                  1\n",
            "greysnakeskinprint      1\n",
            "gray & white            1\n",
            "camouflage              1\n",
            "offblack                1\n",
            "camel                   1\n",
            "red & blue              1\n",
            "white & red             1\n",
            "lightyellow             1\n",
            "Pink                    1\n",
            "jasper                  1\n",
            "rose                    1\n",
            "silver                  1\n",
            "army green              1\n",
            "orange & camouflage     1\n",
            "tan                     1\n",
            "apricot                 1\n",
            "watermelonred           1\n",
            "pink & blue             1\n",
            "black & green           1\n",
            "orange-red              1\n",
            "Name: product_color, dtype: int64\n"
          ]
        }
      ],
      "source": [
        "# show the unique values and count it in the columns (product_color) training data\n",
        "print(\"show the unique values and count it in the training data \\n \", df_train.product_color.value_counts(), ' \\n \\n \\n')\n",
        "\n",
        "# show the unique values and count it in the columns (product_color) the training data\n",
        "print(\"show the unique values and count it in the training data \\n \", df_test.product_color.value_counts()) "
      ]
    },
    {
      "cell_type": "markdown",
      "metadata": {
        "id": "MUJ0OsTVeysC"
      },
      "source": [
        "#### Handling the Features "
      ]
    },
    {
      "cell_type": "code",
      "execution_count": null,
      "metadata": {
        "colab": {
          "base_uri": "https://localhost:8080/"
        },
        "id": "_UfFCnGrs-Vr",
        "outputId": "73bddbdc-8aa2-4d21-fa44-0b2338d78d55"
      },
      "outputs": [
        {
          "output_type": "stream",
          "name": "stdout",
          "text": [
            "Show The unique value in \"product_color\" in training data \n",
            " \n",
            " ['yellow' 'black' 'white' 'lakeblue' 'apricot' 'brown' 'winered' 'blue'\n",
            " 'red' 'navyblue' 'green' 'khaki' 'White' 'white & green' 'multicolor'\n",
            " 'lightpink' 'pink' 'RED' 'armygreen' 'lightblue' nan 'coffee' 'grey'\n",
            " 'skyblue' 'watermelonred' 'pink & black' 'whitefloral' 'purple' 'navy'\n",
            " 'pink & white' 'rosered' 'orange' 'Black' 'mintgreen' 'leopardprint'\n",
            " 'gray' 'navy blue' 'star' 'rose' 'lightyellow' 'camouflage'\n",
            " 'black & yellow' 'whitestripe' 'navyblue & white' 'black & blue'\n",
            " 'lightred' 'violet' 'gold' 'black & green' 'white & black' 'burgundy'\n",
            " 'black & white' 'lightgrey' 'coolblack' 'lightgreen' 'beige' 'darkblue'\n",
            " 'darkgreen' 'silver' 'wine red' 'Army green' 'pink & blue' 'rainbow'\n",
            " 'claret' 'floral' 'brown & yellow' 'light green' 'Pink' 'blue & pink'\n",
            " 'dustypink' 'camel' 'orange-red' 'rosegold' 'ivory' 'fluorescentgreen'\n",
            " 'winered & yellow' 'offwhite' 'lightgray' 'wine' 'army' 'applegreen'\n",
            " 'nude' 'pink & grey' 'denimblue' 'blackwhite' 'Blue' 'leopard']  \n",
            " \n",
            " \n",
            "\n",
            "Show The unique value in \"product_color\" in testing data \n",
            " \n",
            " ['white' 'black' 'blue' 'yellow' 'winered' 'navyblue' 'gray' 'grey' nan\n",
            " 'green' 'pink' 'armygreen' 'red' 'black & green' 'lightblue'\n",
            " 'pink & blue' 'orange' 'rosered' 'purple' 'watermelonred' 'coralred'\n",
            " 'apricot' 'multicolor' 'tan' 'orange & camouflage' 'white & green'\n",
            " 'army green' 'brown' 'silver' 'offblack' 'rose' 'jasper' 'beige' 'Pink'\n",
            " 'floral' 'lightyellow' 'white & red' 'red & blue' 'khaki' 'camel'\n",
            " 'leopard' 'camouflage' 'greysnakeskinprint' 'fluorescentgreen' 'coffee'\n",
            " 'lightpurple' 'black & stripe' 'lightgreen' 'darkblue' 'navy' 'wine'\n",
            " 'lightkhaki' 'pink & grey' 'prussianblue' 'skyblue' 'gray & white'\n",
            " 'orange-red']\n"
          ]
        }
      ],
      "source": [
        "# Show The unique value in 'product_color' in training data\n",
        "print('Show The unique value in \"product_color\" in training data \\n \\n', df_train.product_color.unique(), ' \\n \\n \\n')\n",
        "\n",
        "# Show The unique value in 'product_color' in testing data\n",
        "print('Show The unique value in \"product_color\" in testing data \\n \\n', df_test.product_color.unique())"
      ]
    },
    {
      "cell_type": "code",
      "execution_count": null,
      "metadata": {
        "colab": {
          "base_uri": "https://localhost:8080/"
        },
        "id": "Lz_vxrj1wCt8",
        "outputId": "d6bced8d-bfd6-4e4f-809c-63f4792cfcd8"
      },
      "outputs": [
        {
          "output_type": "stream",
          "name": "stdout",
          "text": [
            "show the unique values and count it in the training data \n",
            "  black             219\n",
            "white             173\n",
            "blue               77\n",
            "yellow             69\n",
            "pink               68\n",
            "                 ... \n",
            "rainbow             1\n",
            "claret              1\n",
            "whitestripe         1\n",
            "light green         1\n",
            "brown & yellow      1\n",
            "Name: product_color, Length: 86, dtype: int64  \n",
            " \n",
            " \n",
            "\n",
            "show the unique values and count it in the training data \n",
            "  black                  83\n",
            "white                  81\n",
            "yellow                 36\n",
            "red                    32\n",
            "pink                   31\n",
            "green                  29\n",
            "grey                   23\n",
            "blue                   22\n",
            "purple                 16\n",
            "orange                 11\n",
            "navyblue               10\n",
            "armygreen               9\n",
            "winered                 9\n",
            "beige                   9\n",
            "multicolor              6\n",
            "gray                    5\n",
            "lightblue               4\n",
            "rosered                 3\n",
            "floral                  3\n",
            "darkblue                2\n",
            "khaki                   2\n",
            "fluorescentgreen        2\n",
            "white & green           2\n",
            "brown                   2\n",
            "coralred                2\n",
            "leopard                 2\n",
            "skyblue                 2\n",
            "navy                    1\n",
            "wine                    1\n",
            "lightkhaki              1\n",
            "pink & grey             1\n",
            "lightgreen              1\n",
            "black & stripe          1\n",
            "lightpurple             1\n",
            "prussianblue            1\n",
            "coffee                  1\n",
            "greysnakeskinprint      1\n",
            "gray & white            1\n",
            "camouflage              1\n",
            "offblack                1\n",
            "camel                   1\n",
            "red & blue              1\n",
            "white & red             1\n",
            "lightyellow             1\n",
            "Pink                    1\n",
            "jasper                  1\n",
            "rose                    1\n",
            "silver                  1\n",
            "army green              1\n",
            "orange & camouflage     1\n",
            "tan                     1\n",
            "apricot                 1\n",
            "watermelonred           1\n",
            "pink & blue             1\n",
            "black & green           1\n",
            "orange-red              1\n",
            "Name: product_color, dtype: int64\n"
          ]
        }
      ],
      "source": [
        "# show the unique values and count it in the columns (product_color) training data\n",
        "print(\"show the unique values and count it in the training data \\n \", df_train.product_color.value_counts(), ' \\n \\n \\n')\n",
        "\n",
        "# show the unique values and count it in the columns (product_color) the training data\n",
        "print(\"show the unique values and count it in the training data \\n \", df_test.product_color.value_counts()) "
      ]
    },
    {
      "cell_type": "code",
      "execution_count": null,
      "metadata": {
        "id": "yorSfapXsgke"
      },
      "outputs": [],
      "source": [
        "# Function to Substitute the new substring for all instances of the old substring when replacing the product colour.\n",
        "def replace_color(df):\n",
        "  df.product_color = df.product_color.replace(to_replace = ['lightyellow', 'gold'], value='yellow')\n",
        "  df.product_color = df.product_color.replace(to_replace = ['Black', 'coolblack', 'offblack'], value = \"black\")\n",
        "  df.product_color = df.product_color.replace(to_replace = ['whitefloral', 'White', 'offwhite', 'ivory'], value = 'white')\n",
        "  df.product_color = df.product_color.replace(to_replace = ['lakeblue', 'navyblue', 'Blue', 'denimblue', 'lightblue', 'skyblue', 'navy', 'navy blue', 'darkblue', 'prussianblue'], value = 'blue')\n",
        "  df.product_color = df.product_color.replace(to_replace = ['beige', 'nude'], value = 'apricot')\n",
        "  df.product_color = df.product_color.replace(to_replace = ['gray', 'lightgrey', 'silver', 'lightgray'], value = 'grey')\n",
        "  df.product_color = df.product_color.replace(to_replace = ['khaki', 'coffee', 'camel', 'lightkhaki', 'tan'], value = 'brown')\n",
        "  df.product_color = df.product_color.replace(to_replace = ['winered', 'watermelonred', 'wine', 'rosered', 'rose', 'wine red', 'claret', 'burgundy'], value = 'maroon')\n",
        "  df.product_color = df.product_color.replace(to_replace = ['RED', 'lightred', 'jasper', 'coralred'], value = 'red')\n",
        "  df.product_color = df.product_color.replace(to_replace = ['armygreen', 'mintgreen', 'army', 'applegreen', 'camouflage', 'fluorescentgreen', 'lightgreen', 'darkgreen', 'Army green', 'light green', 'army green'], value = 'green')\n",
        "  df.product_color = df.product_color.replace(to_replace = ['orange-red'], value = 'orange')\n",
        "  df.product_color = df.product_color.replace(to_replace = ['lightpink', 'floral', 'Pink', 'dustypink', 'rosegold'], value = 'pink')\n",
        "  df.product_color = df.product_color.replace(to_replace = ['violet', 'lightpurple'], value = 'purple')\n",
        "  df.product_color = df.product_color.replace(to_replace = ['white & red', 'red & blue', 'greysnakeskinprint', 'orange & camouflage', 'black & stripe', 'leopardprint', 'pink & grey', 'winered & yellow', 'whitestripe', 'blue & pink', 'brown & yellow', 'star', 'rainbow', 'pink & blue', 'black & yellow', 'navyblue & white', 'blackwhite', 'leopard', 'black & blue', 'pink & black', 'gray & white', 'pink & white', 'white & black'], value = 'multicolor')\n",
        "  \n",
        "  return df.product_color"
      ]
    },
    {
      "cell_type": "code",
      "execution_count": null,
      "metadata": {
        "id": "oLTwGflHt8Vd"
      },
      "outputs": [],
      "source": [
        "# Replace The product_color value in training data\n",
        "df_train.product_color = replace_color(df_train)\n",
        "\n",
        "# Replace The product_color value in testing data\n",
        "df_test.product_color = replace_color(df_test)"
      ]
    },
    {
      "cell_type": "code",
      "execution_count": null,
      "metadata": {
        "colab": {
          "base_uri": "https://localhost:8080/"
        },
        "id": "oGqk9PVLvZbE",
        "outputId": "143c3c1e-790e-4729-c268-5dbc23103155"
      },
      "outputs": [
        {
          "output_type": "stream",
          "name": "stdout",
          "text": [
            "Show The unique value in \"product_color\" in training data \n",
            " \n",
            " ['yellow' 'black' 'white' 'blue' 'apricot' 'brown' 'maroon' 'red' 'green'\n",
            " 'white & green' 'multicolor' 'pink' nan 'grey' 'purple' 'orange'\n",
            " 'black & green' 'black & white']  \n",
            " \n",
            " \n",
            "\n",
            "Show The unique value in \"product_color\" in testing data \n",
            " \n",
            " ['white' 'black' 'blue' 'yellow' 'maroon' 'grey' nan 'green' 'pink' 'red'\n",
            " 'black & green' 'multicolor' 'orange' 'purple' 'apricot' 'brown'\n",
            " 'white & green']\n"
          ]
        }
      ],
      "source": [
        "# Show The unique value in 'product_color' in training data\n",
        "print('Show The unique value in \"product_color\" in training data \\n \\n', df_train.product_color.unique(), ' \\n \\n \\n')\n",
        "\n",
        "# Show The unique value in 'product_color' in testing data\n",
        "print('Show The unique value in \"product_color\" in testing data \\n \\n', df_test.product_color.unique())\n"
      ]
    },
    {
      "cell_type": "code",
      "execution_count": null,
      "metadata": {
        "id": "ynNhbBeEvZht"
      },
      "outputs": [],
      "source": [
        ""
      ]
    },
    {
      "cell_type": "code",
      "execution_count": null,
      "metadata": {
        "colab": {
          "base_uri": "https://localhost:8080/"
        },
        "id": "93WXibfMqD5n",
        "outputId": "8978ab94-8068-45d1-b711-f2a630147991"
      },
      "outputs": [
        {
          "output_type": "execute_result",
          "data": {
            "text/plain": [
              "S           444\n",
              "XS          248\n",
              "M           135\n",
              "XXS          76\n",
              "L            29\n",
              "           ... \n",
              "pants-S       1\n",
              "XXXXL         1\n",
              "SIZE-XXS      1\n",
              "1pc           1\n",
              "H01           1\n",
              "Name: product_variation_size_id, Length: 83, dtype: int64"
            ]
          },
          "metadata": {},
          "execution_count": 381
        }
      ],
      "source": [
        "# Show value and count it in (product_variation_size_id) in training data\n",
        "df_train.product_variation_size_id.value_counts()"
      ]
    },
    {
      "cell_type": "code",
      "execution_count": null,
      "metadata": {
        "id": "JcQOwKBffmxF"
      },
      "outputs": [],
      "source": [
        "# Function to Substitute the new substring for all instances of the old substring when replacing the \"product_variation_size_id\".\n",
        "\n",
        "def variation_size(df):\n",
        "  df.product_variation_size_id = df.product_variation_size_id.replace(to_replace= ['XXXS'], value = '3XS')\n",
        "  df.product_variation_size_id = df.product_variation_size_id.replace(to_replace= ['XXS','Size-XXS','SIZE XXS','Size -XXS','Size XXS','SIZE-XXS'], value = '2XS')\n",
        "  df.product_variation_size_id = df.product_variation_size_id.replace(to_replace= ['XS.','Size-XS', 'SIZE XS'], value = 'XS')\n",
        "  df.product_variation_size_id = df.product_variation_size_id.replace(to_replace= ['S.','S(bust 88cm)','s','Size--S','Size S','Size-S','S/M(child)','S Diameter 30cm','S (waist58-62cm)','S Pink','US-S',\n",
        "                                  'pants-S','Size S.','S..','25-S','size S','S(Pink & Black)','Size/S','Suit-S','SIZE S'], value = 'S')\n",
        "  df.product_variation_size_id = df.product_variation_size_id.replace(to_replace= ['Size M','M.'], value = 'M')\n",
        "  df.product_variation_size_id = df.product_variation_size_id.replace(to_replace= ['SizeL','L.','Size-L','32/L'], value = 'L')\n",
        "  df.product_variation_size_id = df.product_variation_size_id.replace(to_replace= ['X   L', '1 PC - XL'], value = 'XL')\n",
        "  df.product_variation_size_id = df.product_variation_size_id.replace(to_replace= ['XXL'], value = '2XL')\n",
        "  df.product_variation_size_id = df.product_variation_size_id.replace(to_replace= ['04-3XL','XXXL'], value = '3XL')\n",
        "  df.product_variation_size_id = df.product_variation_size_id.replace(to_replace= ['XXXXL','SIZE-4XL','Size4XL'], value = '4XL')\n",
        "  df.product_variation_size_id = df.product_variation_size_id.replace(to_replace= ['XXXXXL', 'Size-5XL','5XL'], value = '5XL' )\n",
        "  df.product_variation_size_id = df.product_variation_size_id.replace(to_replace= ['10 ml', 'Base Coat', '1', '25', '40 cm', '10pcs', 'H01', '60', 'daughter 24M', '4', '1 pc.', '80 X 200 CM', 'EU 35', '34', '100pcs', 'first  generation',\n",
        "                                '2pcs', 'Women Size 37', 'AU plug Low quality', 'One Size', '26(Waist 72cm 28inch)', '29', '35', '4-5 Years', '5PAIRS', 'Pack of 1', '100 x 100cm(39.3 x 39.3inch)', '100 cm', 'Round', '2', '5', '30 cm', '3 layered anklet', '17', 'US 6.5 (EU 37)', \n",
        "                                'US5.5-EU35', 'EU39(US8)', 'Women Size 36', '20PCS-10PAIRS', 'B', '20pcs', 'Floating Chair for Kid', '1pc', '5', '36', '33', 'choose a size', 'Base & Top & Matte Top Coat', 'Baby Float Boat', '1m by 3m',\n",
        "       'White', 'Base Coat'], value = \"Others\" )\n",
        "  return df.product_variation_size_id\n"
      ]
    },
    {
      "cell_type": "code",
      "execution_count": null,
      "metadata": {
        "id": "bhh2LoY_f2gL"
      },
      "outputs": [],
      "source": [
        "# Replace The product_variation_size_id value in training data\n",
        "df_train.product_variation_size_id = variation_size(df_train)\n",
        "\n",
        "# Replace The product_variation_size_id value in testing data\n",
        "df_test.product_variation_size_id = variation_size(df_test)"
      ]
    },
    {
      "cell_type": "markdown",
      "metadata": {
        "id": "lFe7RxVUfbtr"
      },
      "source": [
        "##### Drop The Features have many Missing, it have one value and Drop some columns"
      ]
    },
    {
      "cell_type": "markdown",
      "metadata": {
        "id": "siYF0gwoOVS9"
      },
      "source": [
        "*nunique* It returns a scalar value which is the count of all the unique values in the Index.\n",
        "so i will drop columns which have 1 values in the data and have many missing values\n",
        "\n",
        "* Traing data and testing data will be drop columns\n",
        "  * currency_buyer\n",
        "  * has_urgency_banner\n",
        "  * urgency_text\n",
        "  * theme \n",
        "  * crawl_month "
      ]
    },
    {
      "cell_type": "code",
      "execution_count": null,
      "metadata": {
        "id": "_-OH9uG-OVS9"
      },
      "outputs": [],
      "source": [
        "# Drop some columns which have 1 value and have a few values in training and testing data\n",
        "df_train = df_train.drop(['currency_buyer', 'has_urgency_banner', 'urgency_text', 'merchant_profile_picture', 'theme', 'crawl_month'], axis=1)\n",
        "df_test = df_test.drop(['currency_buyer', 'has_urgency_banner', 'urgency_text', 'merchant_profile_picture', 'theme', 'crawl_month'], axis=1)"
      ]
    },
    {
      "cell_type": "code",
      "execution_count": null,
      "metadata": {
        "id": "zCWNt3UnOVS9"
      },
      "outputs": [],
      "source": [
        ""
      ]
    },
    {
      "cell_type": "code",
      "execution_count": null,
      "metadata": {
        "colab": {
          "base_uri": "https://localhost:8080/"
        },
        "id": "qsM0cR6YOVS9",
        "outputId": "85a23c5d-2f37-4d61-c8a9-912e1571c9a4",
        "scrolled": false
      },
      "outputs": [
        {
          "output_type": "execute_result",
          "data": {
            "text/html": [
              "\n",
              "  <div id=\"df-e5396bbf-a29a-4c9d-a941-d43b3bbb7768\">\n",
              "    <div class=\"colab-df-container\">\n",
              "      <div>\n",
              "<style scoped>\n",
              "    .dataframe tbody tr th:only-of-type {\n",
              "        vertical-align: middle;\n",
              "    }\n",
              "\n",
              "    .dataframe tbody tr th {\n",
              "        vertical-align: top;\n",
              "    }\n",
              "\n",
              "    .dataframe thead th {\n",
              "        text-align: right;\n",
              "    }\n",
              "</style>\n",
              "<table border=\"1\" class=\"dataframe\">\n",
              "  <thead>\n",
              "    <tr style=\"text-align: right;\">\n",
              "      <th></th>\n",
              "      <th></th>\n",
              "      <th>price</th>\n",
              "      <th>retail_price</th>\n",
              "      <th>units_sold</th>\n",
              "      <th>uses_ad_boosts</th>\n",
              "      <th>rating</th>\n",
              "      <th>rating_count</th>\n",
              "      <th>badges_count</th>\n",
              "      <th>badge_local_product</th>\n",
              "      <th>badge_product_quality</th>\n",
              "      <th>badge_fast_shipping</th>\n",
              "      <th>tags</th>\n",
              "      <th>product_color</th>\n",
              "      <th>product_variation_size_id</th>\n",
              "      <th>product_variation_inventory</th>\n",
              "      <th>shipping_option_name</th>\n",
              "      <th>shipping_option_price</th>\n",
              "      <th>shipping_is_express</th>\n",
              "      <th>countries_shipped_to</th>\n",
              "      <th>inventory_total</th>\n",
              "      <th>origin_country</th>\n",
              "      <th>merchant_title</th>\n",
              "      <th>merchant_name</th>\n",
              "      <th>merchant_info_subtitle</th>\n",
              "      <th>merchant_rating_count</th>\n",
              "      <th>merchant_rating</th>\n",
              "      <th>merchant_id</th>\n",
              "      <th>merchant_has_profile_picture</th>\n",
              "      <th>id</th>\n",
              "    </tr>\n",
              "    <tr>\n",
              "      <th>id</th>\n",
              "      <th>merchant_id</th>\n",
              "      <th></th>\n",
              "      <th></th>\n",
              "      <th></th>\n",
              "      <th></th>\n",
              "      <th></th>\n",
              "      <th></th>\n",
              "      <th></th>\n",
              "      <th></th>\n",
              "      <th></th>\n",
              "      <th></th>\n",
              "      <th></th>\n",
              "      <th></th>\n",
              "      <th></th>\n",
              "      <th></th>\n",
              "      <th></th>\n",
              "      <th></th>\n",
              "      <th></th>\n",
              "      <th></th>\n",
              "      <th></th>\n",
              "      <th></th>\n",
              "      <th></th>\n",
              "      <th></th>\n",
              "      <th></th>\n",
              "      <th></th>\n",
              "      <th></th>\n",
              "      <th></th>\n",
              "      <th></th>\n",
              "      <th></th>\n",
              "    </tr>\n",
              "  </thead>\n",
              "  <tbody>\n",
              "    <tr>\n",
              "      <th>272</th>\n",
              "      <th>577fb2b368116418674befd9</th>\n",
              "      <td>8.00</td>\n",
              "      <td>7</td>\n",
              "      <td>10000</td>\n",
              "      <td>1</td>\n",
              "      <td>4.0</td>\n",
              "      <td>1670</td>\n",
              "      <td>0</td>\n",
              "      <td>0</td>\n",
              "      <td>0</td>\n",
              "      <td>0</td>\n",
              "      <td>Summer,soildcolor,Plus Size,Tank,camisole,Tops...</td>\n",
              "      <td>yellow</td>\n",
              "      <td>M</td>\n",
              "      <td>50</td>\n",
              "      <td>Livraison standard</td>\n",
              "      <td>3</td>\n",
              "      <td>0</td>\n",
              "      <td>30</td>\n",
              "      <td>50</td>\n",
              "      <td>CN</td>\n",
              "      <td>keepahorse</td>\n",
              "      <td>keepahorse</td>\n",
              "      <td>88 % avis positifs (66,644 notes)</td>\n",
              "      <td>66644</td>\n",
              "      <td>4.137582</td>\n",
              "      <td>577fb2b368116418674befd9</td>\n",
              "      <td>1</td>\n",
              "      <td>272</td>\n",
              "    </tr>\n",
              "    <tr>\n",
              "      <th>1515</th>\n",
              "      <th>566a3ef17233ff2686443082</th>\n",
              "      <td>8.00</td>\n",
              "      <td>7</td>\n",
              "      <td>1000</td>\n",
              "      <td>0</td>\n",
              "      <td>4.0</td>\n",
              "      <td>843</td>\n",
              "      <td>1</td>\n",
              "      <td>1</td>\n",
              "      <td>0</td>\n",
              "      <td>0</td>\n",
              "      <td>bathing suit,Plus Size,bikini set,sexy swimsui...</td>\n",
              "      <td>black</td>\n",
              "      <td>L</td>\n",
              "      <td>50</td>\n",
              "      <td>Livraison standard</td>\n",
              "      <td>3</td>\n",
              "      <td>0</td>\n",
              "      <td>37</td>\n",
              "      <td>50</td>\n",
              "      <td>CN</td>\n",
              "      <td>shanghaimingqidianqikejiyouxiangongsi</td>\n",
              "      <td>上海铭启电气科技有限公司</td>\n",
              "      <td>91 % avis positifs (25,752 notes)</td>\n",
              "      <td>25752</td>\n",
              "      <td>4.256873</td>\n",
              "      <td>566a3ef17233ff2686443082</td>\n",
              "      <td>0</td>\n",
              "      <td>1515</td>\n",
              "    </tr>\n",
              "    <tr>\n",
              "      <th>940</th>\n",
              "      <th>5aacd6c1ccf0c83e5a6f3de0</th>\n",
              "      <td>6.00</td>\n",
              "      <td>34</td>\n",
              "      <td>100</td>\n",
              "      <td>0</td>\n",
              "      <td>4.0</td>\n",
              "      <td>10</td>\n",
              "      <td>0</td>\n",
              "      <td>0</td>\n",
              "      <td>0</td>\n",
              "      <td>0</td>\n",
              "      <td>Summer,Vest,momshirt,Get,summer t-shirts,funny...</td>\n",
              "      <td>white</td>\n",
              "      <td>L</td>\n",
              "      <td>50</td>\n",
              "      <td>Livraison standard</td>\n",
              "      <td>2</td>\n",
              "      <td>0</td>\n",
              "      <td>41</td>\n",
              "      <td>50</td>\n",
              "      <td>CN</td>\n",
              "      <td>zhaodongmei</td>\n",
              "      <td>zhaodongmei</td>\n",
              "      <td>83 % avis positifs (3,897 notes)</td>\n",
              "      <td>3897</td>\n",
              "      <td>3.928920</td>\n",
              "      <td>5aacd6c1ccf0c83e5a6f3de0</td>\n",
              "      <td>0</td>\n",
              "      <td>940</td>\n",
              "    </tr>\n",
              "    <tr>\n",
              "      <th>309</th>\n",
              "      <th>583141fbfef4094e51453d9b</th>\n",
              "      <td>4.67</td>\n",
              "      <td>4</td>\n",
              "      <td>100</td>\n",
              "      <td>1</td>\n",
              "      <td>3.0</td>\n",
              "      <td>82</td>\n",
              "      <td>0</td>\n",
              "      <td>0</td>\n",
              "      <td>0</td>\n",
              "      <td>0</td>\n",
              "      <td>Summer,Shorts,pants,Beach,Plus Size,beachpant,...</td>\n",
              "      <td>blue</td>\n",
              "      <td>XS</td>\n",
              "      <td>5</td>\n",
              "      <td>Livraison standard</td>\n",
              "      <td>1</td>\n",
              "      <td>0</td>\n",
              "      <td>25</td>\n",
              "      <td>50</td>\n",
              "      <td>CN</td>\n",
              "      <td>pookie0331</td>\n",
              "      <td>pookie0331</td>\n",
              "      <td>87 % avis positifs (7,497 notes)</td>\n",
              "      <td>7497</td>\n",
              "      <td>4.079365</td>\n",
              "      <td>583141fbfef4094e51453d9b</td>\n",
              "      <td>0</td>\n",
              "      <td>309</td>\n",
              "    </tr>\n",
              "    <tr>\n",
              "      <th>226</th>\n",
              "      <th>5d3bc9f8e13a7e654424a4cb</th>\n",
              "      <td>8.00</td>\n",
              "      <td>11</td>\n",
              "      <td>1000</td>\n",
              "      <td>0</td>\n",
              "      <td>4.0</td>\n",
              "      <td>127</td>\n",
              "      <td>0</td>\n",
              "      <td>0</td>\n",
              "      <td>0</td>\n",
              "      <td>0</td>\n",
              "      <td>Summer,Floral print,women dresses,fashion dres...</td>\n",
              "      <td>apricot</td>\n",
              "      <td>S</td>\n",
              "      <td>50</td>\n",
              "      <td>Livraison standard</td>\n",
              "      <td>3</td>\n",
              "      <td>0</td>\n",
              "      <td>15</td>\n",
              "      <td>50</td>\n",
              "      <td>CN</td>\n",
              "      <td>shitongyi12683626</td>\n",
              "      <td>shitongyi12683626</td>\n",
              "      <td>91 % avis positifs (173 notes)</td>\n",
              "      <td>173</td>\n",
              "      <td>4.306358</td>\n",
              "      <td>5d3bc9f8e13a7e654424a4cb</td>\n",
              "      <td>0</td>\n",
              "      <td>226</td>\n",
              "    </tr>\n",
              "    <tr>\n",
              "      <th>...</th>\n",
              "      <th>...</th>\n",
              "      <td>...</td>\n",
              "      <td>...</td>\n",
              "      <td>...</td>\n",
              "      <td>...</td>\n",
              "      <td>...</td>\n",
              "      <td>...</td>\n",
              "      <td>...</td>\n",
              "      <td>...</td>\n",
              "      <td>...</td>\n",
              "      <td>...</td>\n",
              "      <td>...</td>\n",
              "      <td>...</td>\n",
              "      <td>...</td>\n",
              "      <td>...</td>\n",
              "      <td>...</td>\n",
              "      <td>...</td>\n",
              "      <td>...</td>\n",
              "      <td>...</td>\n",
              "      <td>...</td>\n",
              "      <td>...</td>\n",
              "      <td>...</td>\n",
              "      <td>...</td>\n",
              "      <td>...</td>\n",
              "      <td>...</td>\n",
              "      <td>...</td>\n",
              "      <td>...</td>\n",
              "      <td>...</td>\n",
              "      <td>...</td>\n",
              "    </tr>\n",
              "    <tr>\n",
              "      <th>1381</th>\n",
              "      <th>53f2db3c104dae6bcae0c271</th>\n",
              "      <td>4.00</td>\n",
              "      <td>4</td>\n",
              "      <td>10000</td>\n",
              "      <td>0</td>\n",
              "      <td>4.0</td>\n",
              "      <td>2150</td>\n",
              "      <td>0</td>\n",
              "      <td>0</td>\n",
              "      <td>0</td>\n",
              "      <td>0</td>\n",
              "      <td>corset top,Fashion,crop top,camisole,knittop,T...</td>\n",
              "      <td>red</td>\n",
              "      <td>S</td>\n",
              "      <td>50</td>\n",
              "      <td>Livraison standard</td>\n",
              "      <td>1</td>\n",
              "      <td>0</td>\n",
              "      <td>41</td>\n",
              "      <td>50</td>\n",
              "      <td>CN</td>\n",
              "      <td>fantastic_tune</td>\n",
              "      <td>fantastic_tune</td>\n",
              "      <td>92 % avis positifs (230,951 notes)</td>\n",
              "      <td>230951</td>\n",
              "      <td>4.311066</td>\n",
              "      <td>53f2db3c104dae6bcae0c271</td>\n",
              "      <td>0</td>\n",
              "      <td>1381</td>\n",
              "    </tr>\n",
              "    <tr>\n",
              "      <th>212</th>\n",
              "      <th>592968ba63950d682ca4b195</th>\n",
              "      <td>5.00</td>\n",
              "      <td>5</td>\n",
              "      <td>1000</td>\n",
              "      <td>0</td>\n",
              "      <td>5.0</td>\n",
              "      <td>377</td>\n",
              "      <td>1</td>\n",
              "      <td>0</td>\n",
              "      <td>1</td>\n",
              "      <td>0</td>\n",
              "      <td>Blues,Summer,luggagesticker,Bicycle,cute,fresh...</td>\n",
              "      <td>NaN</td>\n",
              "      <td>Others</td>\n",
              "      <td>31</td>\n",
              "      <td>Livraison standard</td>\n",
              "      <td>2</td>\n",
              "      <td>0</td>\n",
              "      <td>35</td>\n",
              "      <td>50</td>\n",
              "      <td>CN</td>\n",
              "      <td>zzbllss</td>\n",
              "      <td>zzbllss</td>\n",
              "      <td>(2,904 notes)</td>\n",
              "      <td>2904</td>\n",
              "      <td>4.422521</td>\n",
              "      <td>592968ba63950d682ca4b195</td>\n",
              "      <td>0</td>\n",
              "      <td>212</td>\n",
              "    </tr>\n",
              "    <tr>\n",
              "      <th>163</th>\n",
              "      <th>5b6ec2f2838d931d2fbf7a28</th>\n",
              "      <td>9.00</td>\n",
              "      <td>48</td>\n",
              "      <td>1000</td>\n",
              "      <td>1</td>\n",
              "      <td>4.0</td>\n",
              "      <td>135</td>\n",
              "      <td>0</td>\n",
              "      <td>0</td>\n",
              "      <td>0</td>\n",
              "      <td>0</td>\n",
              "      <td>Summer,Vest,Fashion,Tank,camisole,Halter,Beaut...</td>\n",
              "      <td>purple</td>\n",
              "      <td>M</td>\n",
              "      <td>50</td>\n",
              "      <td>Livraison standard</td>\n",
              "      <td>3</td>\n",
              "      <td>0</td>\n",
              "      <td>25</td>\n",
              "      <td>50</td>\n",
              "      <td>CN</td>\n",
              "      <td>OIUG 56465</td>\n",
              "      <td>oiug56465</td>\n",
              "      <td>78 % avis positifs (6,632 notes)</td>\n",
              "      <td>6632</td>\n",
              "      <td>3.748794</td>\n",
              "      <td>5b6ec2f2838d931d2fbf7a28</td>\n",
              "      <td>0</td>\n",
              "      <td>163</td>\n",
              "    </tr>\n",
              "    <tr>\n",
              "      <th>674</th>\n",
              "      <th>58330d7def56284f7634e5e5</th>\n",
              "      <td>11.00</td>\n",
              "      <td>10</td>\n",
              "      <td>10000</td>\n",
              "      <td>1</td>\n",
              "      <td>4.0</td>\n",
              "      <td>1479</td>\n",
              "      <td>0</td>\n",
              "      <td>0</td>\n",
              "      <td>0</td>\n",
              "      <td>0</td>\n",
              "      <td>Summer,Shorts,Cotton,Cotton T Shirt,letter pri...</td>\n",
              "      <td>black</td>\n",
              "      <td>M</td>\n",
              "      <td>50</td>\n",
              "      <td>Livraison standard</td>\n",
              "      <td>2</td>\n",
              "      <td>0</td>\n",
              "      <td>45</td>\n",
              "      <td>50</td>\n",
              "      <td>CN</td>\n",
              "      <td>yubenqiang</td>\n",
              "      <td>yubenqiang</td>\n",
              "      <td>83 % avis positifs (5,816 notes)</td>\n",
              "      <td>5816</td>\n",
              "      <td>3.936382</td>\n",
              "      <td>58330d7def56284f7634e5e5</td>\n",
              "      <td>0</td>\n",
              "      <td>674</td>\n",
              "    </tr>\n",
              "    <tr>\n",
              "      <th>1536</th>\n",
              "      <th>5acaf29d5ebcfd72403106a8</th>\n",
              "      <td>7.00</td>\n",
              "      <td>6</td>\n",
              "      <td>1000</td>\n",
              "      <td>1</td>\n",
              "      <td>3.0</td>\n",
              "      <td>141</td>\n",
              "      <td>0</td>\n",
              "      <td>0</td>\n",
              "      <td>0</td>\n",
              "      <td>0</td>\n",
              "      <td>sleeve v-neck,Summer,Plus Size,Sleeve,Dresses,...</td>\n",
              "      <td>yellow</td>\n",
              "      <td>XS</td>\n",
              "      <td>7</td>\n",
              "      <td>Livraison standard</td>\n",
              "      <td>2</td>\n",
              "      <td>0</td>\n",
              "      <td>23</td>\n",
              "      <td>50</td>\n",
              "      <td>CN</td>\n",
              "      <td>Suyi Technology</td>\n",
              "      <td>greatexpectationstechnology</td>\n",
              "      <td>86 % avis positifs (12,309 notes)</td>\n",
              "      <td>12309</td>\n",
              "      <td>4.045170</td>\n",
              "      <td>5acaf29d5ebcfd72403106a8</td>\n",
              "      <td>1</td>\n",
              "      <td>1536</td>\n",
              "    </tr>\n",
              "  </tbody>\n",
              "</table>\n",
              "<p>1093 rows × 28 columns</p>\n",
              "</div>\n",
              "      <button class=\"colab-df-convert\" onclick=\"convertToInteractive('df-e5396bbf-a29a-4c9d-a941-d43b3bbb7768')\"\n",
              "              title=\"Convert this dataframe to an interactive table.\"\n",
              "              style=\"display:none;\">\n",
              "        \n",
              "  <svg xmlns=\"http://www.w3.org/2000/svg\" height=\"24px\"viewBox=\"0 0 24 24\"\n",
              "       width=\"24px\">\n",
              "    <path d=\"M0 0h24v24H0V0z\" fill=\"none\"/>\n",
              "    <path d=\"M18.56 5.44l.94 2.06.94-2.06 2.06-.94-2.06-.94-.94-2.06-.94 2.06-2.06.94zm-11 1L8.5 8.5l.94-2.06 2.06-.94-2.06-.94L8.5 2.5l-.94 2.06-2.06.94zm10 10l.94 2.06.94-2.06 2.06-.94-2.06-.94-.94-2.06-.94 2.06-2.06.94z\"/><path d=\"M17.41 7.96l-1.37-1.37c-.4-.4-.92-.59-1.43-.59-.52 0-1.04.2-1.43.59L10.3 9.45l-7.72 7.72c-.78.78-.78 2.05 0 2.83L4 21.41c.39.39.9.59 1.41.59.51 0 1.02-.2 1.41-.59l7.78-7.78 2.81-2.81c.8-.78.8-2.07 0-2.86zM5.41 20L4 18.59l7.72-7.72 1.47 1.35L5.41 20z\"/>\n",
              "  </svg>\n",
              "      </button>\n",
              "      \n",
              "  <style>\n",
              "    .colab-df-container {\n",
              "      display:flex;\n",
              "      flex-wrap:wrap;\n",
              "      gap: 12px;\n",
              "    }\n",
              "\n",
              "    .colab-df-convert {\n",
              "      background-color: #E8F0FE;\n",
              "      border: none;\n",
              "      border-radius: 50%;\n",
              "      cursor: pointer;\n",
              "      display: none;\n",
              "      fill: #1967D2;\n",
              "      height: 32px;\n",
              "      padding: 0 0 0 0;\n",
              "      width: 32px;\n",
              "    }\n",
              "\n",
              "    .colab-df-convert:hover {\n",
              "      background-color: #E2EBFA;\n",
              "      box-shadow: 0px 1px 2px rgba(60, 64, 67, 0.3), 0px 1px 3px 1px rgba(60, 64, 67, 0.15);\n",
              "      fill: #174EA6;\n",
              "    }\n",
              "\n",
              "    [theme=dark] .colab-df-convert {\n",
              "      background-color: #3B4455;\n",
              "      fill: #D2E3FC;\n",
              "    }\n",
              "\n",
              "    [theme=dark] .colab-df-convert:hover {\n",
              "      background-color: #434B5C;\n",
              "      box-shadow: 0px 1px 3px 1px rgba(0, 0, 0, 0.15);\n",
              "      filter: drop-shadow(0px 1px 2px rgba(0, 0, 0, 0.3));\n",
              "      fill: #FFFFFF;\n",
              "    }\n",
              "  </style>\n",
              "\n",
              "      <script>\n",
              "        const buttonEl =\n",
              "          document.querySelector('#df-e5396bbf-a29a-4c9d-a941-d43b3bbb7768 button.colab-df-convert');\n",
              "        buttonEl.style.display =\n",
              "          google.colab.kernel.accessAllowed ? 'block' : 'none';\n",
              "\n",
              "        async function convertToInteractive(key) {\n",
              "          const element = document.querySelector('#df-e5396bbf-a29a-4c9d-a941-d43b3bbb7768');\n",
              "          const dataTable =\n",
              "            await google.colab.kernel.invokeFunction('convertToInteractive',\n",
              "                                                     [key], {});\n",
              "          if (!dataTable) return;\n",
              "\n",
              "          const docLinkHtml = 'Like what you see? Visit the ' +\n",
              "            '<a target=\"_blank\" href=https://colab.research.google.com/notebooks/data_table.ipynb>data table notebook</a>'\n",
              "            + ' to learn more about interactive tables.';\n",
              "          element.innerHTML = '';\n",
              "          dataTable['output_type'] = 'display_data';\n",
              "          await google.colab.output.renderOutput(dataTable, element);\n",
              "          const docLink = document.createElement('div');\n",
              "          docLink.innerHTML = docLinkHtml;\n",
              "          element.appendChild(docLink);\n",
              "        }\n",
              "      </script>\n",
              "    </div>\n",
              "  </div>\n",
              "  "
            ],
            "text/plain": [
              "                               price  ...    id\n",
              "id   merchant_id                      ...      \n",
              "272  577fb2b368116418674befd9   8.00  ...   272\n",
              "1515 566a3ef17233ff2686443082   8.00  ...  1515\n",
              "940  5aacd6c1ccf0c83e5a6f3de0   6.00  ...   940\n",
              "309  583141fbfef4094e51453d9b   4.67  ...   309\n",
              "226  5d3bc9f8e13a7e654424a4cb   8.00  ...   226\n",
              "...                              ...  ...   ...\n",
              "1381 53f2db3c104dae6bcae0c271   4.00  ...  1381\n",
              "212  592968ba63950d682ca4b195   5.00  ...   212\n",
              "163  5b6ec2f2838d931d2fbf7a28   9.00  ...   163\n",
              "674  58330d7def56284f7634e5e5  11.00  ...   674\n",
              "1536 5acaf29d5ebcfd72403106a8   7.00  ...  1536\n",
              "\n",
              "[1093 rows x 28 columns]"
            ]
          },
          "metadata": {},
          "execution_count": 385
        }
      ],
      "source": [
        "# Show the training data\n",
        "df_train"
      ]
    },
    {
      "cell_type": "code",
      "execution_count": null,
      "metadata": {
        "colab": {
          "base_uri": "https://localhost:8080/"
        },
        "id": "Qipb1O5sOVS9",
        "outputId": "37a9e09d-1cb9-4f9a-cd97-69081c88eecc"
      },
      "outputs": [
        {
          "output_type": "execute_result",
          "data": {
            "text/html": [
              "\n",
              "  <div id=\"df-4461814b-8c8c-4dd7-887f-992eb37ee9fe\">\n",
              "    <div class=\"colab-df-container\">\n",
              "      <div>\n",
              "<style scoped>\n",
              "    .dataframe tbody tr th:only-of-type {\n",
              "        vertical-align: middle;\n",
              "    }\n",
              "\n",
              "    .dataframe tbody tr th {\n",
              "        vertical-align: top;\n",
              "    }\n",
              "\n",
              "    .dataframe thead th {\n",
              "        text-align: right;\n",
              "    }\n",
              "</style>\n",
              "<table border=\"1\" class=\"dataframe\">\n",
              "  <thead>\n",
              "    <tr style=\"text-align: right;\">\n",
              "      <th></th>\n",
              "      <th></th>\n",
              "      <th>price</th>\n",
              "      <th>retail_price</th>\n",
              "      <th>units_sold</th>\n",
              "      <th>uses_ad_boosts</th>\n",
              "      <th>rating_count</th>\n",
              "      <th>badges_count</th>\n",
              "      <th>badge_local_product</th>\n",
              "      <th>badge_product_quality</th>\n",
              "      <th>badge_fast_shipping</th>\n",
              "      <th>tags</th>\n",
              "      <th>product_color</th>\n",
              "      <th>product_variation_size_id</th>\n",
              "      <th>product_variation_inventory</th>\n",
              "      <th>shipping_option_name</th>\n",
              "      <th>shipping_option_price</th>\n",
              "      <th>shipping_is_express</th>\n",
              "      <th>countries_shipped_to</th>\n",
              "      <th>inventory_total</th>\n",
              "      <th>origin_country</th>\n",
              "      <th>merchant_title</th>\n",
              "      <th>merchant_name</th>\n",
              "      <th>merchant_info_subtitle</th>\n",
              "      <th>merchant_rating_count</th>\n",
              "      <th>merchant_rating</th>\n",
              "      <th>merchant_id</th>\n",
              "      <th>merchant_has_profile_picture</th>\n",
              "      <th>id</th>\n",
              "    </tr>\n",
              "    <tr>\n",
              "      <th>id</th>\n",
              "      <th>merchant_id</th>\n",
              "      <th></th>\n",
              "      <th></th>\n",
              "      <th></th>\n",
              "      <th></th>\n",
              "      <th></th>\n",
              "      <th></th>\n",
              "      <th></th>\n",
              "      <th></th>\n",
              "      <th></th>\n",
              "      <th></th>\n",
              "      <th></th>\n",
              "      <th></th>\n",
              "      <th></th>\n",
              "      <th></th>\n",
              "      <th></th>\n",
              "      <th></th>\n",
              "      <th></th>\n",
              "      <th></th>\n",
              "      <th></th>\n",
              "      <th></th>\n",
              "      <th></th>\n",
              "      <th></th>\n",
              "      <th></th>\n",
              "      <th></th>\n",
              "      <th></th>\n",
              "      <th></th>\n",
              "      <th></th>\n",
              "    </tr>\n",
              "  </thead>\n",
              "  <tbody>\n",
              "    <tr>\n",
              "      <th>937</th>\n",
              "      <th>5e63469b2fdc774466e15dd5</th>\n",
              "      <td>5.75</td>\n",
              "      <td>5</td>\n",
              "      <td>10</td>\n",
              "      <td>1</td>\n",
              "      <td>0</td>\n",
              "      <td>0</td>\n",
              "      <td>0</td>\n",
              "      <td>0</td>\n",
              "      <td>0</td>\n",
              "      <td>Funny,letter print,Fashion,Shirt,Sleeve,Summer...</td>\n",
              "      <td>white</td>\n",
              "      <td>XS</td>\n",
              "      <td>5</td>\n",
              "      <td>Livraison standard</td>\n",
              "      <td>2</td>\n",
              "      <td>0</td>\n",
              "      <td>139</td>\n",
              "      <td>50</td>\n",
              "      <td>CN</td>\n",
              "      <td>liyang163</td>\n",
              "      <td>liyang163</td>\n",
              "      <td>33 % avis positifs (3 notes)</td>\n",
              "      <td>3</td>\n",
              "      <td>2.333333</td>\n",
              "      <td>5e63469b2fdc774466e15dd5</td>\n",
              "      <td>0</td>\n",
              "      <td>937</td>\n",
              "    </tr>\n",
              "    <tr>\n",
              "      <th>270</th>\n",
              "      <th>583547f417dc6224cb464117</th>\n",
              "      <td>7.00</td>\n",
              "      <td>7</td>\n",
              "      <td>5000</td>\n",
              "      <td>0</td>\n",
              "      <td>579</td>\n",
              "      <td>0</td>\n",
              "      <td>0</td>\n",
              "      <td>0</td>\n",
              "      <td>0</td>\n",
              "      <td>Women Vest,Vest,Fashion,Women Blouse,long dres...</td>\n",
              "      <td>black</td>\n",
              "      <td>XS</td>\n",
              "      <td>50</td>\n",
              "      <td>Livraison standard</td>\n",
              "      <td>2</td>\n",
              "      <td>0</td>\n",
              "      <td>31</td>\n",
              "      <td>50</td>\n",
              "      <td>CN</td>\n",
              "      <td>singing  the  song</td>\n",
              "      <td>singingthesong</td>\n",
              "      <td>86 % avis positifs (4,213 notes)</td>\n",
              "      <td>4213</td>\n",
              "      <td>4.058391</td>\n",
              "      <td>583547f417dc6224cb464117</td>\n",
              "      <td>0</td>\n",
              "      <td>270</td>\n",
              "    </tr>\n",
              "    <tr>\n",
              "      <th>308</th>\n",
              "      <th>57086fd7fa6bee434d0e5852</th>\n",
              "      <td>5.00</td>\n",
              "      <td>16</td>\n",
              "      <td>1000</td>\n",
              "      <td>1</td>\n",
              "      <td>62</td>\n",
              "      <td>0</td>\n",
              "      <td>0</td>\n",
              "      <td>0</td>\n",
              "      <td>0</td>\n",
              "      <td>hollowouttanktop,Tanktops for women,Plus Size,...</td>\n",
              "      <td>blue</td>\n",
              "      <td>XS</td>\n",
              "      <td>20</td>\n",
              "      <td>Livraison standard</td>\n",
              "      <td>2</td>\n",
              "      <td>0</td>\n",
              "      <td>41</td>\n",
              "      <td>50</td>\n",
              "      <td>CN</td>\n",
              "      <td>Surper boutique</td>\n",
              "      <td>surperboutique</td>\n",
              "      <td>85 % avis positifs (10,501 notes)</td>\n",
              "      <td>10501</td>\n",
              "      <td>4.029235</td>\n",
              "      <td>57086fd7fa6bee434d0e5852</td>\n",
              "      <td>0</td>\n",
              "      <td>308</td>\n",
              "    </tr>\n",
              "    <tr>\n",
              "      <th>913</th>\n",
              "      <th>5a17b55d1f4d8c4f0b44b0ce</th>\n",
              "      <td>18.00</td>\n",
              "      <td>27</td>\n",
              "      <td>5000</td>\n",
              "      <td>1</td>\n",
              "      <td>1903</td>\n",
              "      <td>0</td>\n",
              "      <td>0</td>\n",
              "      <td>0</td>\n",
              "      <td>0</td>\n",
              "      <td>men jeans,Shorts,Summer,Vintage,Denim,Men,casu...</td>\n",
              "      <td>blue</td>\n",
              "      <td>M</td>\n",
              "      <td>50</td>\n",
              "      <td>Livraison standard</td>\n",
              "      <td>5</td>\n",
              "      <td>0</td>\n",
              "      <td>42</td>\n",
              "      <td>50</td>\n",
              "      <td>CN</td>\n",
              "      <td>postonny</td>\n",
              "      <td>postonny</td>\n",
              "      <td>86 % avis positifs (15,855 notes)</td>\n",
              "      <td>15855</td>\n",
              "      <td>4.052917</td>\n",
              "      <td>5a17b55d1f4d8c4f0b44b0ce</td>\n",
              "      <td>0</td>\n",
              "      <td>913</td>\n",
              "    </tr>\n",
              "    <tr>\n",
              "      <th>403</th>\n",
              "      <th>53aa664438d3046ee44a5024</th>\n",
              "      <td>12.00</td>\n",
              "      <td>81</td>\n",
              "      <td>20000</td>\n",
              "      <td>0</td>\n",
              "      <td>1799</td>\n",
              "      <td>0</td>\n",
              "      <td>0</td>\n",
              "      <td>0</td>\n",
              "      <td>0</td>\n",
              "      <td>Shorts,Lace,pants,Dress,Women Leggings,Hot pan...</td>\n",
              "      <td>white</td>\n",
              "      <td>M</td>\n",
              "      <td>50</td>\n",
              "      <td>Livraison standard</td>\n",
              "      <td>3</td>\n",
              "      <td>0</td>\n",
              "      <td>38</td>\n",
              "      <td>50</td>\n",
              "      <td>CN</td>\n",
              "      <td>fashionforgirls</td>\n",
              "      <td>guangzhouchanny</td>\n",
              "      <td>88 % avis positifs (151,914 notes)</td>\n",
              "      <td>151914</td>\n",
              "      <td>4.127921</td>\n",
              "      <td>53aa664438d3046ee44a5024</td>\n",
              "      <td>0</td>\n",
              "      <td>403</td>\n",
              "    </tr>\n",
              "    <tr>\n",
              "      <th>...</th>\n",
              "      <th>...</th>\n",
              "      <td>...</td>\n",
              "      <td>...</td>\n",
              "      <td>...</td>\n",
              "      <td>...</td>\n",
              "      <td>...</td>\n",
              "      <td>...</td>\n",
              "      <td>...</td>\n",
              "      <td>...</td>\n",
              "      <td>...</td>\n",
              "      <td>...</td>\n",
              "      <td>...</td>\n",
              "      <td>...</td>\n",
              "      <td>...</td>\n",
              "      <td>...</td>\n",
              "      <td>...</td>\n",
              "      <td>...</td>\n",
              "      <td>...</td>\n",
              "      <td>...</td>\n",
              "      <td>...</td>\n",
              "      <td>...</td>\n",
              "      <td>...</td>\n",
              "      <td>...</td>\n",
              "      <td>...</td>\n",
              "      <td>...</td>\n",
              "      <td>...</td>\n",
              "      <td>...</td>\n",
              "      <td>...</td>\n",
              "    </tr>\n",
              "    <tr>\n",
              "      <th>1166</th>\n",
              "      <th>5dc818ca030a154e48a3a8af</th>\n",
              "      <td>16.00</td>\n",
              "      <td>14</td>\n",
              "      <td>100</td>\n",
              "      <td>1</td>\n",
              "      <td>27</td>\n",
              "      <td>0</td>\n",
              "      <td>0</td>\n",
              "      <td>0</td>\n",
              "      <td>0</td>\n",
              "      <td>mensummertshirt,Summer,Fashion,Men's Fashion,S...</td>\n",
              "      <td>black</td>\n",
              "      <td>M</td>\n",
              "      <td>50</td>\n",
              "      <td>Livraison standard</td>\n",
              "      <td>4</td>\n",
              "      <td>0</td>\n",
              "      <td>35</td>\n",
              "      <td>50</td>\n",
              "      <td>VE</td>\n",
              "      <td>HERNADEZYELI</td>\n",
              "      <td>hernadezyeli</td>\n",
              "      <td>70 % avis positifs (572 notes)</td>\n",
              "      <td>572</td>\n",
              "      <td>3.367133</td>\n",
              "      <td>5dc818ca030a154e48a3a8af</td>\n",
              "      <td>0</td>\n",
              "      <td>1166</td>\n",
              "    </tr>\n",
              "    <tr>\n",
              "      <th>1416</th>\n",
              "      <th>587f85cbb8038f4cb049c56c</th>\n",
              "      <td>6.00</td>\n",
              "      <td>17</td>\n",
              "      <td>5000</td>\n",
              "      <td>1</td>\n",
              "      <td>817</td>\n",
              "      <td>0</td>\n",
              "      <td>0</td>\n",
              "      <td>0</td>\n",
              "      <td>0</td>\n",
              "      <td>blouse,Summer,Vest,Plus Size,letter print,cute...</td>\n",
              "      <td>blue</td>\n",
              "      <td>2XS</td>\n",
              "      <td>1</td>\n",
              "      <td>Livraison standard</td>\n",
              "      <td>2</td>\n",
              "      <td>0</td>\n",
              "      <td>41</td>\n",
              "      <td>50</td>\n",
              "      <td>CN</td>\n",
              "      <td>First Crush</td>\n",
              "      <td>firstcrush</td>\n",
              "      <td>87 % avis positifs (50,864 notes)</td>\n",
              "      <td>50864</td>\n",
              "      <td>4.079644</td>\n",
              "      <td>587f85cbb8038f4cb049c56c</td>\n",
              "      <td>1</td>\n",
              "      <td>1416</td>\n",
              "    </tr>\n",
              "    <tr>\n",
              "      <th>63</th>\n",
              "      <th>5e3c5fbfe217d492138970c1</th>\n",
              "      <td>4.83</td>\n",
              "      <td>51</td>\n",
              "      <td>50</td>\n",
              "      <td>1</td>\n",
              "      <td>1</td>\n",
              "      <td>0</td>\n",
              "      <td>0</td>\n",
              "      <td>0</td>\n",
              "      <td>0</td>\n",
              "      <td>blouse,Summer,Plus Size,Tops &amp; Blouses,Shirt,W...</td>\n",
              "      <td>white</td>\n",
              "      <td>XS</td>\n",
              "      <td>3</td>\n",
              "      <td>Livraison standard</td>\n",
              "      <td>1</td>\n",
              "      <td>0</td>\n",
              "      <td>39</td>\n",
              "      <td>50</td>\n",
              "      <td>VE</td>\n",
              "      <td>saulstore</td>\n",
              "      <td>saulstore</td>\n",
              "      <td>85 % avis positifs (57 notes)</td>\n",
              "      <td>57</td>\n",
              "      <td>3.824561</td>\n",
              "      <td>5e3c5fbfe217d492138970c1</td>\n",
              "      <td>0</td>\n",
              "      <td>63</td>\n",
              "    </tr>\n",
              "    <tr>\n",
              "      <th>626</th>\n",
              "      <th>5c6d6c28619caa1d94891d06</th>\n",
              "      <td>3.00</td>\n",
              "      <td>3</td>\n",
              "      <td>100</td>\n",
              "      <td>1</td>\n",
              "      <td>8</td>\n",
              "      <td>0</td>\n",
              "      <td>0</td>\n",
              "      <td>0</td>\n",
              "      <td>0</td>\n",
              "      <td>Summer,slideslipper,Sandals,fur,Indoor,Fox,Ind...</td>\n",
              "      <td>black</td>\n",
              "      <td>Others</td>\n",
              "      <td>3</td>\n",
              "      <td>Livraison standard</td>\n",
              "      <td>1</td>\n",
              "      <td>0</td>\n",
              "      <td>26</td>\n",
              "      <td>50</td>\n",
              "      <td>CN</td>\n",
              "      <td>lkwelyly</td>\n",
              "      <td>hey1827</td>\n",
              "      <td>87 % avis positifs (1,086 notes)</td>\n",
              "      <td>1086</td>\n",
              "      <td>4.056169</td>\n",
              "      <td>5c6d6c28619caa1d94891d06</td>\n",
              "      <td>0</td>\n",
              "      <td>626</td>\n",
              "    </tr>\n",
              "    <tr>\n",
              "      <th>196</th>\n",
              "      <th>5836e38728f25753fe6af6a8</th>\n",
              "      <td>13.00</td>\n",
              "      <td>11</td>\n",
              "      <td>100</td>\n",
              "      <td>1</td>\n",
              "      <td>4</td>\n",
              "      <td>0</td>\n",
              "      <td>0</td>\n",
              "      <td>0</td>\n",
              "      <td>0</td>\n",
              "      <td>Summer,Plus Size,2pieceset,Women,slim,T Shirts...</td>\n",
              "      <td>yellow</td>\n",
              "      <td>S</td>\n",
              "      <td>29</td>\n",
              "      <td>Expediere Standard</td>\n",
              "      <td>3</td>\n",
              "      <td>0</td>\n",
              "      <td>42</td>\n",
              "      <td>50</td>\n",
              "      <td>CN</td>\n",
              "      <td>rtgh</td>\n",
              "      <td>rtgh710402e4b24511e6b69106d0c1a90220</td>\n",
              "      <td>86% Feedback pozitiv (45,151 rating)</td>\n",
              "      <td>45151</td>\n",
              "      <td>4.032956</td>\n",
              "      <td>5836e38728f25753fe6af6a8</td>\n",
              "      <td>0</td>\n",
              "      <td>196</td>\n",
              "    </tr>\n",
              "  </tbody>\n",
              "</table>\n",
              "<p>479 rows × 27 columns</p>\n",
              "</div>\n",
              "      <button class=\"colab-df-convert\" onclick=\"convertToInteractive('df-4461814b-8c8c-4dd7-887f-992eb37ee9fe')\"\n",
              "              title=\"Convert this dataframe to an interactive table.\"\n",
              "              style=\"display:none;\">\n",
              "        \n",
              "  <svg xmlns=\"http://www.w3.org/2000/svg\" height=\"24px\"viewBox=\"0 0 24 24\"\n",
              "       width=\"24px\">\n",
              "    <path d=\"M0 0h24v24H0V0z\" fill=\"none\"/>\n",
              "    <path d=\"M18.56 5.44l.94 2.06.94-2.06 2.06-.94-2.06-.94-.94-2.06-.94 2.06-2.06.94zm-11 1L8.5 8.5l.94-2.06 2.06-.94-2.06-.94L8.5 2.5l-.94 2.06-2.06.94zm10 10l.94 2.06.94-2.06 2.06-.94-2.06-.94-.94-2.06-.94 2.06-2.06.94z\"/><path d=\"M17.41 7.96l-1.37-1.37c-.4-.4-.92-.59-1.43-.59-.52 0-1.04.2-1.43.59L10.3 9.45l-7.72 7.72c-.78.78-.78 2.05 0 2.83L4 21.41c.39.39.9.59 1.41.59.51 0 1.02-.2 1.41-.59l7.78-7.78 2.81-2.81c.8-.78.8-2.07 0-2.86zM5.41 20L4 18.59l7.72-7.72 1.47 1.35L5.41 20z\"/>\n",
              "  </svg>\n",
              "      </button>\n",
              "      \n",
              "  <style>\n",
              "    .colab-df-container {\n",
              "      display:flex;\n",
              "      flex-wrap:wrap;\n",
              "      gap: 12px;\n",
              "    }\n",
              "\n",
              "    .colab-df-convert {\n",
              "      background-color: #E8F0FE;\n",
              "      border: none;\n",
              "      border-radius: 50%;\n",
              "      cursor: pointer;\n",
              "      display: none;\n",
              "      fill: #1967D2;\n",
              "      height: 32px;\n",
              "      padding: 0 0 0 0;\n",
              "      width: 32px;\n",
              "    }\n",
              "\n",
              "    .colab-df-convert:hover {\n",
              "      background-color: #E2EBFA;\n",
              "      box-shadow: 0px 1px 2px rgba(60, 64, 67, 0.3), 0px 1px 3px 1px rgba(60, 64, 67, 0.15);\n",
              "      fill: #174EA6;\n",
              "    }\n",
              "\n",
              "    [theme=dark] .colab-df-convert {\n",
              "      background-color: #3B4455;\n",
              "      fill: #D2E3FC;\n",
              "    }\n",
              "\n",
              "    [theme=dark] .colab-df-convert:hover {\n",
              "      background-color: #434B5C;\n",
              "      box-shadow: 0px 1px 3px 1px rgba(0, 0, 0, 0.15);\n",
              "      filter: drop-shadow(0px 1px 2px rgba(0, 0, 0, 0.3));\n",
              "      fill: #FFFFFF;\n",
              "    }\n",
              "  </style>\n",
              "\n",
              "      <script>\n",
              "        const buttonEl =\n",
              "          document.querySelector('#df-4461814b-8c8c-4dd7-887f-992eb37ee9fe button.colab-df-convert');\n",
              "        buttonEl.style.display =\n",
              "          google.colab.kernel.accessAllowed ? 'block' : 'none';\n",
              "\n",
              "        async function convertToInteractive(key) {\n",
              "          const element = document.querySelector('#df-4461814b-8c8c-4dd7-887f-992eb37ee9fe');\n",
              "          const dataTable =\n",
              "            await google.colab.kernel.invokeFunction('convertToInteractive',\n",
              "                                                     [key], {});\n",
              "          if (!dataTable) return;\n",
              "\n",
              "          const docLinkHtml = 'Like what you see? Visit the ' +\n",
              "            '<a target=\"_blank\" href=https://colab.research.google.com/notebooks/data_table.ipynb>data table notebook</a>'\n",
              "            + ' to learn more about interactive tables.';\n",
              "          element.innerHTML = '';\n",
              "          dataTable['output_type'] = 'display_data';\n",
              "          await google.colab.output.renderOutput(dataTable, element);\n",
              "          const docLink = document.createElement('div');\n",
              "          docLink.innerHTML = docLinkHtml;\n",
              "          element.appendChild(docLink);\n",
              "        }\n",
              "      </script>\n",
              "    </div>\n",
              "  </div>\n",
              "  "
            ],
            "text/plain": [
              "                               price  ...    id\n",
              "id   merchant_id                      ...      \n",
              "937  5e63469b2fdc774466e15dd5   5.75  ...   937\n",
              "270  583547f417dc6224cb464117   7.00  ...   270\n",
              "308  57086fd7fa6bee434d0e5852   5.00  ...   308\n",
              "913  5a17b55d1f4d8c4f0b44b0ce  18.00  ...   913\n",
              "403  53aa664438d3046ee44a5024  12.00  ...   403\n",
              "...                              ...  ...   ...\n",
              "1166 5dc818ca030a154e48a3a8af  16.00  ...  1166\n",
              "1416 587f85cbb8038f4cb049c56c   6.00  ...  1416\n",
              "63   5e3c5fbfe217d492138970c1   4.83  ...    63\n",
              "626  5c6d6c28619caa1d94891d06   3.00  ...   626\n",
              "196  5836e38728f25753fe6af6a8  13.00  ...   196\n",
              "\n",
              "[479 rows x 27 columns]"
            ]
          },
          "metadata": {},
          "execution_count": 386
        }
      ],
      "source": [
        "# Show the testing data\n",
        "df_test"
      ]
    },
    {
      "cell_type": "code",
      "execution_count": null,
      "metadata": {
        "colab": {
          "base_uri": "https://localhost:8080/"
        },
        "id": "RPWt62RXOVS-",
        "outputId": "efc2d14c-11df-44ee-cfd5-ccb3ef068fee"
      },
      "outputs": [
        {
          "output_type": "execute_result",
          "data": {
            "text/plain": [
              "price                            0\n",
              "merchant_id                      0\n",
              "merchant_rating                  0\n",
              "merchant_rating_count            0\n",
              "merchant_info_subtitle           0\n",
              "merchant_title                   0\n",
              "inventory_total                  0\n",
              "countries_shipped_to             0\n",
              "shipping_is_express              0\n",
              "shipping_option_price            0\n",
              "shipping_option_name             0\n",
              "merchant_has_profile_picture     0\n",
              "product_variation_inventory      0\n",
              "tags                             0\n",
              "badge_fast_shipping              0\n",
              "badge_product_quality            0\n",
              "badge_local_product              0\n",
              "badges_count                     0\n",
              "rating_count                     0\n",
              "rating                           0\n",
              "uses_ad_boosts                   0\n",
              "units_sold                       0\n",
              "retail_price                     0\n",
              "id                               0\n",
              "merchant_name                    4\n",
              "origin_country                  12\n",
              "product_variation_size_id       12\n",
              "product_color                   29\n",
              "dtype: int64"
            ]
          },
          "metadata": {},
          "execution_count": 387
        }
      ],
      "source": [
        "# show missing values per-column in training data  \n",
        "df_train.isna().sum().sort_values(ascending = True)"
      ]
    },
    {
      "cell_type": "code",
      "execution_count": null,
      "metadata": {
        "colab": {
          "base_uri": "https://localhost:8080/"
        },
        "id": "KReCGAGtkiG8",
        "outputId": "2313bae5-fe30-48ba-8d2c-2c46c6349cab"
      },
      "outputs": [
        {
          "output_type": "execute_result",
          "data": {
            "text/plain": [
              "price                            0\n",
              "merchant_id                      0\n",
              "merchant_rating                  0\n",
              "merchant_rating_count            0\n",
              "merchant_name                    0\n",
              "merchant_title                   0\n",
              "inventory_total                  0\n",
              "countries_shipped_to             0\n",
              "shipping_is_express              0\n",
              "shipping_option_price            0\n",
              "merchant_has_profile_picture     0\n",
              "product_variation_inventory      0\n",
              "shipping_option_name             0\n",
              "tags                             0\n",
              "badge_fast_shipping              0\n",
              "badge_product_quality            0\n",
              "badge_local_product              0\n",
              "badges_count                     0\n",
              "rating_count                     0\n",
              "uses_ad_boosts                   0\n",
              "units_sold                       0\n",
              "retail_price                     0\n",
              "id                               0\n",
              "merchant_info_subtitle           1\n",
              "product_variation_size_id        2\n",
              "origin_country                   5\n",
              "product_color                   12\n",
              "dtype: int64"
            ]
          },
          "metadata": {},
          "execution_count": 388
        }
      ],
      "source": [
        "# show missing values per-column in testing data  \n",
        "df_test.isna().sum().sort_values(ascending = True)"
      ]
    },
    {
      "cell_type": "code",
      "execution_count": null,
      "metadata": {
        "id": "qy5SEtJ0ddBt"
      },
      "outputs": [],
      "source": [
        "# Drop some columns in training and testing data\n",
        "df_train = df_train.drop(['merchant_info_subtitle', 'merchant_name', 'tags', 'merchant_title', 'id', 'merchant_id'], axis=1)\n",
        "df_test = df_test.drop(['merchant_info_subtitle', 'merchant_name', 'tags', 'merchant_title', 'id', 'merchant_id'], axis=1)"
      ]
    },
    {
      "cell_type": "markdown",
      "metadata": {
        "id": "zL2USnK7gUU0"
      },
      "source": [
        "##### Replace missing values (categorical/ object) with constant value\n",
        "\n"
      ]
    },
    {
      "cell_type": "code",
      "execution_count": null,
      "metadata": {
        "colab": {
          "base_uri": "https://localhost:8080/"
        },
        "id": "WBZVRF3rdqH6",
        "outputId": "70a65819-7eeb-4391-da26-b334c36b88a7"
      },
      "outputs": [
        {
          "output_type": "execute_result",
          "data": {
            "text/plain": [
              "price                            0\n",
              "retail_price                     0\n",
              "units_sold                       0\n",
              "uses_ad_boosts                   0\n",
              "rating_count                     0\n",
              "badges_count                     0\n",
              "badge_local_product              0\n",
              "badge_product_quality            0\n",
              "badge_fast_shipping              0\n",
              "product_color                   12\n",
              "product_variation_size_id        2\n",
              "product_variation_inventory      0\n",
              "shipping_option_name             0\n",
              "shipping_option_price            0\n",
              "shipping_is_express              0\n",
              "countries_shipped_to             0\n",
              "inventory_total                  0\n",
              "origin_country                   5\n",
              "merchant_rating_count            0\n",
              "merchant_rating                  0\n",
              "merchant_has_profile_picture     0\n",
              "dtype: int64"
            ]
          },
          "metadata": {},
          "execution_count": 390
        }
      ],
      "source": [
        "# Show the nul value in testing data\n",
        "df_test.isna().sum()"
      ]
    },
    {
      "cell_type": "code",
      "execution_count": null,
      "metadata": {
        "colab": {
          "base_uri": "https://localhost:8080/"
        },
        "id": "kaSWBYGOx1EO",
        "outputId": "49456685-2e16-4f79-f4d1-908be3191bbc"
      },
      "outputs": [
        {
          "output_type": "execute_result",
          "data": {
            "text/plain": [
              "array(['CN', 'US', 'GB', nan, 'SG', 'VE'], dtype=object)"
            ]
          },
          "metadata": {},
          "execution_count": 391
        }
      ],
      "source": [
        "# show the unique values and count it in the columns (origin_country) training data\n",
        "df_train.origin_country.unique()"
      ]
    },
    {
      "cell_type": "code",
      "execution_count": null,
      "metadata": {
        "id": "9_1f4f-3xfxG"
      },
      "outputs": [],
      "source": [
        "#  fill the null values of the feature (origin_country) in traing and test data \n",
        "df_train.origin_country = df_train.origin_country.fillna(\"Others\")\n",
        "df_test.origin_country = df_test.origin_country.fillna(\"Others\")"
      ]
    },
    {
      "cell_type": "code",
      "execution_count": null,
      "metadata": {
        "id": "Q2Ooi68YdqLT"
      },
      "outputs": [],
      "source": [
        "#  fill the null values in traing and test data \n",
        "df_train= df_train.fillna(\"Others\")\n",
        "df_test= df_test.fillna(\"Others\")"
      ]
    },
    {
      "cell_type": "code",
      "execution_count": null,
      "metadata": {
        "colab": {
          "base_uri": "https://localhost:8080/"
        },
        "id": "XqwUItPQpZNV",
        "outputId": "bf583d0a-0c56-4f9e-b7be-fb6fb5efb875"
      },
      "outputs": [
        {
          "output_type": "execute_result",
          "data": {
            "text/html": [
              "\n",
              "  <div id=\"df-eb457b1f-3a04-4e12-8090-91a2ef939363\">\n",
              "    <div class=\"colab-df-container\">\n",
              "      <div>\n",
              "<style scoped>\n",
              "    .dataframe tbody tr th:only-of-type {\n",
              "        vertical-align: middle;\n",
              "    }\n",
              "\n",
              "    .dataframe tbody tr th {\n",
              "        vertical-align: top;\n",
              "    }\n",
              "\n",
              "    .dataframe thead th {\n",
              "        text-align: right;\n",
              "    }\n",
              "</style>\n",
              "<table border=\"1\" class=\"dataframe\">\n",
              "  <thead>\n",
              "    <tr style=\"text-align: right;\">\n",
              "      <th></th>\n",
              "      <th></th>\n",
              "      <th>price</th>\n",
              "      <th>retail_price</th>\n",
              "      <th>units_sold</th>\n",
              "      <th>uses_ad_boosts</th>\n",
              "      <th>rating</th>\n",
              "      <th>rating_count</th>\n",
              "      <th>badges_count</th>\n",
              "      <th>badge_local_product</th>\n",
              "      <th>badge_product_quality</th>\n",
              "      <th>badge_fast_shipping</th>\n",
              "      <th>product_color</th>\n",
              "      <th>product_variation_size_id</th>\n",
              "      <th>product_variation_inventory</th>\n",
              "      <th>shipping_option_name</th>\n",
              "      <th>shipping_option_price</th>\n",
              "      <th>shipping_is_express</th>\n",
              "      <th>countries_shipped_to</th>\n",
              "      <th>inventory_total</th>\n",
              "      <th>origin_country</th>\n",
              "      <th>merchant_rating_count</th>\n",
              "      <th>merchant_rating</th>\n",
              "      <th>merchant_has_profile_picture</th>\n",
              "    </tr>\n",
              "    <tr>\n",
              "      <th>id</th>\n",
              "      <th>merchant_id</th>\n",
              "      <th></th>\n",
              "      <th></th>\n",
              "      <th></th>\n",
              "      <th></th>\n",
              "      <th></th>\n",
              "      <th></th>\n",
              "      <th></th>\n",
              "      <th></th>\n",
              "      <th></th>\n",
              "      <th></th>\n",
              "      <th></th>\n",
              "      <th></th>\n",
              "      <th></th>\n",
              "      <th></th>\n",
              "      <th></th>\n",
              "      <th></th>\n",
              "      <th></th>\n",
              "      <th></th>\n",
              "      <th></th>\n",
              "      <th></th>\n",
              "      <th></th>\n",
              "      <th></th>\n",
              "    </tr>\n",
              "  </thead>\n",
              "  <tbody>\n",
              "    <tr>\n",
              "      <th>272</th>\n",
              "      <th>577fb2b368116418674befd9</th>\n",
              "      <td>8.00</td>\n",
              "      <td>7</td>\n",
              "      <td>10000</td>\n",
              "      <td>1</td>\n",
              "      <td>4.0</td>\n",
              "      <td>1670</td>\n",
              "      <td>0</td>\n",
              "      <td>0</td>\n",
              "      <td>0</td>\n",
              "      <td>0</td>\n",
              "      <td>yellow</td>\n",
              "      <td>M</td>\n",
              "      <td>50</td>\n",
              "      <td>Livraison standard</td>\n",
              "      <td>3</td>\n",
              "      <td>0</td>\n",
              "      <td>30</td>\n",
              "      <td>50</td>\n",
              "      <td>CN</td>\n",
              "      <td>66644</td>\n",
              "      <td>4.137582</td>\n",
              "      <td>1</td>\n",
              "    </tr>\n",
              "    <tr>\n",
              "      <th>1515</th>\n",
              "      <th>566a3ef17233ff2686443082</th>\n",
              "      <td>8.00</td>\n",
              "      <td>7</td>\n",
              "      <td>1000</td>\n",
              "      <td>0</td>\n",
              "      <td>4.0</td>\n",
              "      <td>843</td>\n",
              "      <td>1</td>\n",
              "      <td>1</td>\n",
              "      <td>0</td>\n",
              "      <td>0</td>\n",
              "      <td>black</td>\n",
              "      <td>L</td>\n",
              "      <td>50</td>\n",
              "      <td>Livraison standard</td>\n",
              "      <td>3</td>\n",
              "      <td>0</td>\n",
              "      <td>37</td>\n",
              "      <td>50</td>\n",
              "      <td>CN</td>\n",
              "      <td>25752</td>\n",
              "      <td>4.256873</td>\n",
              "      <td>0</td>\n",
              "    </tr>\n",
              "    <tr>\n",
              "      <th>940</th>\n",
              "      <th>5aacd6c1ccf0c83e5a6f3de0</th>\n",
              "      <td>6.00</td>\n",
              "      <td>34</td>\n",
              "      <td>100</td>\n",
              "      <td>0</td>\n",
              "      <td>4.0</td>\n",
              "      <td>10</td>\n",
              "      <td>0</td>\n",
              "      <td>0</td>\n",
              "      <td>0</td>\n",
              "      <td>0</td>\n",
              "      <td>white</td>\n",
              "      <td>L</td>\n",
              "      <td>50</td>\n",
              "      <td>Livraison standard</td>\n",
              "      <td>2</td>\n",
              "      <td>0</td>\n",
              "      <td>41</td>\n",
              "      <td>50</td>\n",
              "      <td>CN</td>\n",
              "      <td>3897</td>\n",
              "      <td>3.928920</td>\n",
              "      <td>0</td>\n",
              "    </tr>\n",
              "    <tr>\n",
              "      <th>309</th>\n",
              "      <th>583141fbfef4094e51453d9b</th>\n",
              "      <td>4.67</td>\n",
              "      <td>4</td>\n",
              "      <td>100</td>\n",
              "      <td>1</td>\n",
              "      <td>3.0</td>\n",
              "      <td>82</td>\n",
              "      <td>0</td>\n",
              "      <td>0</td>\n",
              "      <td>0</td>\n",
              "      <td>0</td>\n",
              "      <td>blue</td>\n",
              "      <td>XS</td>\n",
              "      <td>5</td>\n",
              "      <td>Livraison standard</td>\n",
              "      <td>1</td>\n",
              "      <td>0</td>\n",
              "      <td>25</td>\n",
              "      <td>50</td>\n",
              "      <td>CN</td>\n",
              "      <td>7497</td>\n",
              "      <td>4.079365</td>\n",
              "      <td>0</td>\n",
              "    </tr>\n",
              "    <tr>\n",
              "      <th>226</th>\n",
              "      <th>5d3bc9f8e13a7e654424a4cb</th>\n",
              "      <td>8.00</td>\n",
              "      <td>11</td>\n",
              "      <td>1000</td>\n",
              "      <td>0</td>\n",
              "      <td>4.0</td>\n",
              "      <td>127</td>\n",
              "      <td>0</td>\n",
              "      <td>0</td>\n",
              "      <td>0</td>\n",
              "      <td>0</td>\n",
              "      <td>apricot</td>\n",
              "      <td>S</td>\n",
              "      <td>50</td>\n",
              "      <td>Livraison standard</td>\n",
              "      <td>3</td>\n",
              "      <td>0</td>\n",
              "      <td>15</td>\n",
              "      <td>50</td>\n",
              "      <td>CN</td>\n",
              "      <td>173</td>\n",
              "      <td>4.306358</td>\n",
              "      <td>0</td>\n",
              "    </tr>\n",
              "    <tr>\n",
              "      <th>...</th>\n",
              "      <th>...</th>\n",
              "      <td>...</td>\n",
              "      <td>...</td>\n",
              "      <td>...</td>\n",
              "      <td>...</td>\n",
              "      <td>...</td>\n",
              "      <td>...</td>\n",
              "      <td>...</td>\n",
              "      <td>...</td>\n",
              "      <td>...</td>\n",
              "      <td>...</td>\n",
              "      <td>...</td>\n",
              "      <td>...</td>\n",
              "      <td>...</td>\n",
              "      <td>...</td>\n",
              "      <td>...</td>\n",
              "      <td>...</td>\n",
              "      <td>...</td>\n",
              "      <td>...</td>\n",
              "      <td>...</td>\n",
              "      <td>...</td>\n",
              "      <td>...</td>\n",
              "      <td>...</td>\n",
              "    </tr>\n",
              "    <tr>\n",
              "      <th>1381</th>\n",
              "      <th>53f2db3c104dae6bcae0c271</th>\n",
              "      <td>4.00</td>\n",
              "      <td>4</td>\n",
              "      <td>10000</td>\n",
              "      <td>0</td>\n",
              "      <td>4.0</td>\n",
              "      <td>2150</td>\n",
              "      <td>0</td>\n",
              "      <td>0</td>\n",
              "      <td>0</td>\n",
              "      <td>0</td>\n",
              "      <td>red</td>\n",
              "      <td>S</td>\n",
              "      <td>50</td>\n",
              "      <td>Livraison standard</td>\n",
              "      <td>1</td>\n",
              "      <td>0</td>\n",
              "      <td>41</td>\n",
              "      <td>50</td>\n",
              "      <td>CN</td>\n",
              "      <td>230951</td>\n",
              "      <td>4.311066</td>\n",
              "      <td>0</td>\n",
              "    </tr>\n",
              "    <tr>\n",
              "      <th>212</th>\n",
              "      <th>592968ba63950d682ca4b195</th>\n",
              "      <td>5.00</td>\n",
              "      <td>5</td>\n",
              "      <td>1000</td>\n",
              "      <td>0</td>\n",
              "      <td>5.0</td>\n",
              "      <td>377</td>\n",
              "      <td>1</td>\n",
              "      <td>0</td>\n",
              "      <td>1</td>\n",
              "      <td>0</td>\n",
              "      <td>Others</td>\n",
              "      <td>Others</td>\n",
              "      <td>31</td>\n",
              "      <td>Livraison standard</td>\n",
              "      <td>2</td>\n",
              "      <td>0</td>\n",
              "      <td>35</td>\n",
              "      <td>50</td>\n",
              "      <td>CN</td>\n",
              "      <td>2904</td>\n",
              "      <td>4.422521</td>\n",
              "      <td>0</td>\n",
              "    </tr>\n",
              "    <tr>\n",
              "      <th>163</th>\n",
              "      <th>5b6ec2f2838d931d2fbf7a28</th>\n",
              "      <td>9.00</td>\n",
              "      <td>48</td>\n",
              "      <td>1000</td>\n",
              "      <td>1</td>\n",
              "      <td>4.0</td>\n",
              "      <td>135</td>\n",
              "      <td>0</td>\n",
              "      <td>0</td>\n",
              "      <td>0</td>\n",
              "      <td>0</td>\n",
              "      <td>purple</td>\n",
              "      <td>M</td>\n",
              "      <td>50</td>\n",
              "      <td>Livraison standard</td>\n",
              "      <td>3</td>\n",
              "      <td>0</td>\n",
              "      <td>25</td>\n",
              "      <td>50</td>\n",
              "      <td>CN</td>\n",
              "      <td>6632</td>\n",
              "      <td>3.748794</td>\n",
              "      <td>0</td>\n",
              "    </tr>\n",
              "    <tr>\n",
              "      <th>674</th>\n",
              "      <th>58330d7def56284f7634e5e5</th>\n",
              "      <td>11.00</td>\n",
              "      <td>10</td>\n",
              "      <td>10000</td>\n",
              "      <td>1</td>\n",
              "      <td>4.0</td>\n",
              "      <td>1479</td>\n",
              "      <td>0</td>\n",
              "      <td>0</td>\n",
              "      <td>0</td>\n",
              "      <td>0</td>\n",
              "      <td>black</td>\n",
              "      <td>M</td>\n",
              "      <td>50</td>\n",
              "      <td>Livraison standard</td>\n",
              "      <td>2</td>\n",
              "      <td>0</td>\n",
              "      <td>45</td>\n",
              "      <td>50</td>\n",
              "      <td>CN</td>\n",
              "      <td>5816</td>\n",
              "      <td>3.936382</td>\n",
              "      <td>0</td>\n",
              "    </tr>\n",
              "    <tr>\n",
              "      <th>1536</th>\n",
              "      <th>5acaf29d5ebcfd72403106a8</th>\n",
              "      <td>7.00</td>\n",
              "      <td>6</td>\n",
              "      <td>1000</td>\n",
              "      <td>1</td>\n",
              "      <td>3.0</td>\n",
              "      <td>141</td>\n",
              "      <td>0</td>\n",
              "      <td>0</td>\n",
              "      <td>0</td>\n",
              "      <td>0</td>\n",
              "      <td>yellow</td>\n",
              "      <td>XS</td>\n",
              "      <td>7</td>\n",
              "      <td>Livraison standard</td>\n",
              "      <td>2</td>\n",
              "      <td>0</td>\n",
              "      <td>23</td>\n",
              "      <td>50</td>\n",
              "      <td>CN</td>\n",
              "      <td>12309</td>\n",
              "      <td>4.045170</td>\n",
              "      <td>1</td>\n",
              "    </tr>\n",
              "  </tbody>\n",
              "</table>\n",
              "<p>1093 rows × 22 columns</p>\n",
              "</div>\n",
              "      <button class=\"colab-df-convert\" onclick=\"convertToInteractive('df-eb457b1f-3a04-4e12-8090-91a2ef939363')\"\n",
              "              title=\"Convert this dataframe to an interactive table.\"\n",
              "              style=\"display:none;\">\n",
              "        \n",
              "  <svg xmlns=\"http://www.w3.org/2000/svg\" height=\"24px\"viewBox=\"0 0 24 24\"\n",
              "       width=\"24px\">\n",
              "    <path d=\"M0 0h24v24H0V0z\" fill=\"none\"/>\n",
              "    <path d=\"M18.56 5.44l.94 2.06.94-2.06 2.06-.94-2.06-.94-.94-2.06-.94 2.06-2.06.94zm-11 1L8.5 8.5l.94-2.06 2.06-.94-2.06-.94L8.5 2.5l-.94 2.06-2.06.94zm10 10l.94 2.06.94-2.06 2.06-.94-2.06-.94-.94-2.06-.94 2.06-2.06.94z\"/><path d=\"M17.41 7.96l-1.37-1.37c-.4-.4-.92-.59-1.43-.59-.52 0-1.04.2-1.43.59L10.3 9.45l-7.72 7.72c-.78.78-.78 2.05 0 2.83L4 21.41c.39.39.9.59 1.41.59.51 0 1.02-.2 1.41-.59l7.78-7.78 2.81-2.81c.8-.78.8-2.07 0-2.86zM5.41 20L4 18.59l7.72-7.72 1.47 1.35L5.41 20z\"/>\n",
              "  </svg>\n",
              "      </button>\n",
              "      \n",
              "  <style>\n",
              "    .colab-df-container {\n",
              "      display:flex;\n",
              "      flex-wrap:wrap;\n",
              "      gap: 12px;\n",
              "    }\n",
              "\n",
              "    .colab-df-convert {\n",
              "      background-color: #E8F0FE;\n",
              "      border: none;\n",
              "      border-radius: 50%;\n",
              "      cursor: pointer;\n",
              "      display: none;\n",
              "      fill: #1967D2;\n",
              "      height: 32px;\n",
              "      padding: 0 0 0 0;\n",
              "      width: 32px;\n",
              "    }\n",
              "\n",
              "    .colab-df-convert:hover {\n",
              "      background-color: #E2EBFA;\n",
              "      box-shadow: 0px 1px 2px rgba(60, 64, 67, 0.3), 0px 1px 3px 1px rgba(60, 64, 67, 0.15);\n",
              "      fill: #174EA6;\n",
              "    }\n",
              "\n",
              "    [theme=dark] .colab-df-convert {\n",
              "      background-color: #3B4455;\n",
              "      fill: #D2E3FC;\n",
              "    }\n",
              "\n",
              "    [theme=dark] .colab-df-convert:hover {\n",
              "      background-color: #434B5C;\n",
              "      box-shadow: 0px 1px 3px 1px rgba(0, 0, 0, 0.15);\n",
              "      filter: drop-shadow(0px 1px 2px rgba(0, 0, 0, 0.3));\n",
              "      fill: #FFFFFF;\n",
              "    }\n",
              "  </style>\n",
              "\n",
              "      <script>\n",
              "        const buttonEl =\n",
              "          document.querySelector('#df-eb457b1f-3a04-4e12-8090-91a2ef939363 button.colab-df-convert');\n",
              "        buttonEl.style.display =\n",
              "          google.colab.kernel.accessAllowed ? 'block' : 'none';\n",
              "\n",
              "        async function convertToInteractive(key) {\n",
              "          const element = document.querySelector('#df-eb457b1f-3a04-4e12-8090-91a2ef939363');\n",
              "          const dataTable =\n",
              "            await google.colab.kernel.invokeFunction('convertToInteractive',\n",
              "                                                     [key], {});\n",
              "          if (!dataTable) return;\n",
              "\n",
              "          const docLinkHtml = 'Like what you see? Visit the ' +\n",
              "            '<a target=\"_blank\" href=https://colab.research.google.com/notebooks/data_table.ipynb>data table notebook</a>'\n",
              "            + ' to learn more about interactive tables.';\n",
              "          element.innerHTML = '';\n",
              "          dataTable['output_type'] = 'display_data';\n",
              "          await google.colab.output.renderOutput(dataTable, element);\n",
              "          const docLink = document.createElement('div');\n",
              "          docLink.innerHTML = docLinkHtml;\n",
              "          element.appendChild(docLink);\n",
              "        }\n",
              "      </script>\n",
              "    </div>\n",
              "  </div>\n",
              "  "
            ],
            "text/plain": [
              "                               price  ...  merchant_has_profile_picture\n",
              "id   merchant_id                      ...                              \n",
              "272  577fb2b368116418674befd9   8.00  ...                             1\n",
              "1515 566a3ef17233ff2686443082   8.00  ...                             0\n",
              "940  5aacd6c1ccf0c83e5a6f3de0   6.00  ...                             0\n",
              "309  583141fbfef4094e51453d9b   4.67  ...                             0\n",
              "226  5d3bc9f8e13a7e654424a4cb   8.00  ...                             0\n",
              "...                              ...  ...                           ...\n",
              "1381 53f2db3c104dae6bcae0c271   4.00  ...                             0\n",
              "212  592968ba63950d682ca4b195   5.00  ...                             0\n",
              "163  5b6ec2f2838d931d2fbf7a28   9.00  ...                             0\n",
              "674  58330d7def56284f7634e5e5  11.00  ...                             0\n",
              "1536 5acaf29d5ebcfd72403106a8   7.00  ...                             1\n",
              "\n",
              "[1093 rows x 22 columns]"
            ]
          },
          "metadata": {},
          "execution_count": 394
        }
      ],
      "source": [
        "# show the training data\n",
        "df_train"
      ]
    },
    {
      "cell_type": "code",
      "execution_count": null,
      "metadata": {
        "id": "jdPIJhyfpZUk"
      },
      "outputs": [],
      "source": [
        ""
      ]
    },
    {
      "cell_type": "code",
      "execution_count": null,
      "metadata": {
        "id": "0OLNCYanpZW8"
      },
      "outputs": [],
      "source": [
        ""
      ]
    },
    {
      "cell_type": "code",
      "execution_count": null,
      "metadata": {
        "id": "BXRLQdc2pZZW"
      },
      "outputs": [],
      "source": [
        ""
      ]
    },
    {
      "cell_type": "code",
      "execution_count": null,
      "metadata": {
        "id": "Uh65CjKb6NX4"
      },
      "outputs": [],
      "source": [
        ""
      ]
    },
    {
      "cell_type": "code",
      "execution_count": null,
      "metadata": {
        "id": "m9Uh4uCwpZjZ"
      },
      "outputs": [],
      "source": [
        ""
      ]
    },
    {
      "cell_type": "markdown",
      "source": [
        "##### Replace missing values (categorical/ object) with Translator"
      ],
      "metadata": {
        "id": "Q38-ip1pGEcg"
      }
    },
    {
      "cell_type": "code",
      "execution_count": null,
      "metadata": {
        "colab": {
          "base_uri": "https://localhost:8080/"
        },
        "id": "mNo5pXvBdp3q",
        "outputId": "4bf10248-2b11-4d59-c643-5f7d6ec373e9"
      },
      "outputs": [
        {
          "output_type": "execute_result",
          "data": {
            "text/plain": [
              "array(['Livraison standard', 'Standardowa wysyłka', 'Standard Shipping',\n",
              "       'Envio Padrão', 'Spedizione standard', 'Envío normal',\n",
              "       'การส่งสินค้ามาตรฐาน', 'Ekspresowa wysyłka', 'Expediere Standard',\n",
              "       'Стандартная доставка'], dtype=object)"
            ]
          },
          "metadata": {},
          "execution_count": 395
        }
      ],
      "source": [
        "# Show The unique value in 'shipping_option_name' in training data\n",
        "df_test.shipping_option_name.unique()"
      ]
    },
    {
      "cell_type": "code",
      "execution_count": null,
      "metadata": {
        "id": "-_co-xTWebhT"
      },
      "outputs": [],
      "source": [
        "# For translate the values\n",
        "from googletrans import Translator\n",
        "\n",
        "# Making function to translate the data and return list from the new data\n",
        "def google_translate(words):\n",
        "    translator = Translator()\n",
        "    translator.raise_Exception = True\n",
        "    translated = []\n",
        "    for item in words:\n",
        "      translate = translator.translate(item, dest='en').text\n",
        "      translated.append(translate.lower())\n",
        "    return translated"
      ]
    },
    {
      "cell_type": "code",
      "execution_count": null,
      "metadata": {
        "id": "Lk_QpjPvedsC"
      },
      "outputs": [],
      "source": [
        "# the new values have The unique value in 'shipping_option_name' in training and testing data\n",
        "shipping_name_train = df_train.shipping_option_name.unique()\n",
        "shipping_name_test= df_test.shipping_option_name.unique()\n",
        "\n",
        "# translate some the values of the feature (shipping_option_name) in training and testing data\n",
        "tran_shipping_name_train = google_translate(shipping_name_train)\n",
        "tran_shipping_name_test = google_translate(shipping_name_test)\n",
        "\n",
        "# Replace the old values to new values of shipping_option_name in training and testing data\n",
        "df_train.shipping_option_name = df_train.shipping_option_name.replace(shipping_name_train, tran_shipping_name_train)\n",
        "df_test.shipping_option_name = df_test.shipping_option_name.replace(shipping_name_test, tran_shipping_name_test)"
      ]
    },
    {
      "cell_type": "code",
      "execution_count": null,
      "metadata": {
        "id": "4QScKSfkfVyr"
      },
      "outputs": [],
      "source": [
        "# Replace the old values to new values of shipping_option_name in training and testing data\n",
        "df_train.shipping_option_name = df_train.shipping_option_name.replace(to_replace = ['standard shipment'], value = 'standard shipping')\n",
        "df_test.shipping_option_name = df_test.shipping_option_name.replace(to_replace = ['standard shipment'], value = 'standard shipping')"
      ]
    },
    {
      "cell_type": "code",
      "execution_count": null,
      "metadata": {
        "id": "LbyT07VVeigV",
        "colab": {
          "base_uri": "https://localhost:8080/"
        },
        "outputId": "7e256ed6-432b-4125-bd37-114875dad846"
      },
      "outputs": [
        {
          "output_type": "stream",
          "name": "stdout",
          "text": [
            "Requirement already satisfied: googletrans==4.0.0rc1 in /usr/local/lib/python3.7/dist-packages (4.0.0rc1)\n",
            "Requirement already satisfied: httpx==0.13.3 in /usr/local/lib/python3.7/dist-packages (from googletrans==4.0.0rc1) (0.13.3)\n",
            "Requirement already satisfied: httpcore==0.9.* in /usr/local/lib/python3.7/dist-packages (from httpx==0.13.3->googletrans==4.0.0rc1) (0.9.1)\n",
            "Requirement already satisfied: sniffio in /usr/local/lib/python3.7/dist-packages (from httpx==0.13.3->googletrans==4.0.0rc1) (1.2.0)\n",
            "Requirement already satisfied: certifi in /usr/local/lib/python3.7/dist-packages (from httpx==0.13.3->googletrans==4.0.0rc1) (2021.10.8)\n",
            "Requirement already satisfied: chardet==3.* in /usr/local/lib/python3.7/dist-packages (from httpx==0.13.3->googletrans==4.0.0rc1) (3.0.4)\n",
            "Requirement already satisfied: rfc3986<2,>=1.3 in /usr/local/lib/python3.7/dist-packages (from httpx==0.13.3->googletrans==4.0.0rc1) (1.5.0)\n",
            "Requirement already satisfied: hstspreload in /usr/local/lib/python3.7/dist-packages (from httpx==0.13.3->googletrans==4.0.0rc1) (2021.12.1)\n",
            "Requirement already satisfied: idna==2.* in /usr/local/lib/python3.7/dist-packages (from httpx==0.13.3->googletrans==4.0.0rc1) (2.10)\n",
            "Requirement already satisfied: h11<0.10,>=0.8 in /usr/local/lib/python3.7/dist-packages (from httpcore==0.9.*->httpx==0.13.3->googletrans==4.0.0rc1) (0.9.0)\n",
            "Requirement already satisfied: h2==3.* in /usr/local/lib/python3.7/dist-packages (from httpcore==0.9.*->httpx==0.13.3->googletrans==4.0.0rc1) (3.2.0)\n",
            "Requirement already satisfied: hyperframe<6,>=5.2.0 in /usr/local/lib/python3.7/dist-packages (from h2==3.*->httpcore==0.9.*->httpx==0.13.3->googletrans==4.0.0rc1) (5.2.0)\n",
            "Requirement already satisfied: hpack<4,>=3.0 in /usr/local/lib/python3.7/dist-packages (from h2==3.*->httpcore==0.9.*->httpx==0.13.3->googletrans==4.0.0rc1) (3.0.0)\n"
          ]
        }
      ],
      "source": [
        "pip install googletrans==4.0.0rc1"
      ]
    },
    {
      "cell_type": "markdown",
      "source": [
        "## Convert the categorical values to numerical values"
      ],
      "metadata": {
        "id": "wzdxPgnVMTli"
      }
    },
    {
      "cell_type": "code",
      "execution_count": null,
      "metadata": {
        "id": "sQ3SULPU6NQv"
      },
      "outputs": [],
      "source": [
        "# for convert the categorical values to numerical values of some features in training and testing data \n",
        "from sklearn.preprocessing import LabelEncoder\n",
        "\n",
        "# Creat Object from LabelEncoder\n",
        "le = LabelEncoder()\n",
        "\n",
        "# the features are need to convert the categorical values to numerical values\n",
        "X_columns = ['product_color', 'product_variation_size_id', 'shipping_option_name', 'origin_country']\n",
        "\n",
        "for i in X_columns:\n",
        "  df_train.loc[:,i] = le.fit_transform(df_train.loc[:, i])\n",
        "  df_test.loc[:,i] = le.fit_transform(df_test.loc[:, i])"
      ]
    },
    {
      "cell_type": "markdown",
      "source": [
        "## Spliting the traing data and scaler it"
      ],
      "metadata": {
        "id": "_cYmd_gdM59c"
      }
    },
    {
      "cell_type": "code",
      "execution_count": null,
      "metadata": {
        "id": "exuRMIrR6NTG"
      },
      "outputs": [],
      "source": [
        "# Spliting the traing data to X (the Features) and Y (the Label)\n",
        "X , Y = df_train[df_train.columns[df_train.columns != 'rating']], df_train[df_train.columns[df_train.columns == 'rating']]"
      ]
    },
    {
      "cell_type": "code",
      "execution_count": null,
      "metadata": {
        "id": "Q9KbcZy_6NVw"
      },
      "outputs": [],
      "source": [
        "# Split the traing data 80% for train and 20% for test\n",
        "x_train, x_test, y_train, y_test = train_test_split(X, Y, test_size= 0.2, shuffle=True, random_state= 65)"
      ]
    },
    {
      "cell_type": "code",
      "execution_count": null,
      "metadata": {
        "id": "L0u0RbYb6Nae"
      },
      "outputs": [],
      "source": [
        "# Creat Object from MinMaxScaler\n",
        "scaler = MinMaxScaler()\n",
        "# fit_transform for x-train data\n",
        "x_train_scaled = scaler.fit_transform(x_train)\n",
        "# fit_transform for x-test data\n",
        "x_test_scaled = scaler.transform(x_test)"
      ]
    },
    {
      "cell_type": "markdown",
      "metadata": {
        "id": "pkVgQgM8mMPy"
      },
      "source": [
        "## Models\n"
      ]
    },
    {
      "cell_type": "markdown",
      "source": [
        "when Split the traing data 80% for train and 20% for test without random_state \n",
        "\"The training and testing parts will change every time I run the model, and therefore the accuracy will change\"\n",
        "\n",
        "The first, I think the accuracy will be 75%. the secound the accuracy will be 78%. So the accuracy will be change."
      ],
      "metadata": {
        "id": "bNYxLViUmyRA"
      }
    },
    {
      "cell_type": "code",
      "source": [
        "# x_train, x_test, y_train, y_test = train_test_split(X, Y, test_size= 0.2)"
      ],
      "metadata": {
        "id": "Wgxcki5MnLMK"
      },
      "execution_count": null,
      "outputs": []
    },
    {
      "cell_type": "code",
      "execution_count": null,
      "metadata": {
        "id": "UhnSWMJP5EM1"
      },
      "outputs": [],
      "source": [
        "# Function to make predictions\n",
        "def prediction(y_data_train, x_data_test, model):    \n",
        "    y_pred= model.predict(x_data_test)\n",
        "    train_acc = accuracy_score(y_data_train, y_pred)\n",
        "    print(train_acc)\n",
        "    return y_pred\n",
        "\n",
        "\n",
        "# Function to make precisions score, recall score, f1 score\n",
        "def precision_recall_f1(y_test_pred):\n",
        "    f1=f1_score(y_test, y_test_pred, average='micro')\n",
        "    print('fscore',f1)"
      ]
    },
    {
      "cell_type": "markdown",
      "source": [
        "### Decision Tree"
      ],
      "metadata": {
        "id": "Rl_BeYu9Qmp8"
      }
    },
    {
      "cell_type": "markdown",
      "source": [
        "when Split the traing data 80% for train and 20% for test the model without hyperparameter tuning and may be the model will be happened overfitting (shows low bias but high variance).\n"
      ],
      "metadata": {
        "id": "pJ5V1sJoplQt"
      }
    },
    {
      "cell_type": "markdown",
      "source": [
        "#### DT Trial 1"
      ],
      "metadata": {
        "id": "yoSl80J9tm72"
      }
    },
    {
      "cell_type": "markdown",
      "source": [
        "when the decision tree classifier has the max_depth = 4 with random_state.\n",
        "\n",
        "I think the accuarcy will be the small (70%) because The deeper the model's depth, the more it learns, and the better it gets. \n",
        "\n",
        "I think the model will be happened overfitting because the model learning very well\n",
        "\n"
      ],
      "metadata": {
        "id": "8aSNEATW0XGE"
      }
    },
    {
      "cell_type": "code",
      "execution_count": null,
      "metadata": {
        "colab": {
          "base_uri": "https://localhost:8080/"
        },
        "id": "ObfO15NN5EWk",
        "outputId": "f2b5f87c-2112-4ffa-8aa3-f5e9debfd49c"
      },
      "outputs": [
        {
          "output_type": "execute_result",
          "data": {
            "text/plain": [
              "DecisionTreeClassifier(max_depth=4)"
            ]
          },
          "metadata": {},
          "execution_count": 406
        }
      ],
      "source": [
        "# Create DT classifer object  \n",
        "model_DTC = DecisionTreeClassifier(criterion= 'gini', max_depth= 4)\n",
        "model_DTC"
      ]
    },
    {
      "cell_type": "code",
      "execution_count": null,
      "metadata": {
        "id": "6vWd7y4o5pBt"
      },
      "outputs": [],
      "source": [
        "# Train DTC Classifer\n",
        "model_DTC = model_DTC.fit(x_train,y_train)"
      ]
    },
    {
      "cell_type": "code",
      "execution_count": null,
      "metadata": {
        "colab": {
          "base_uri": "https://localhost:8080/"
        },
        "id": "PoT6aIH15pD7",
        "outputId": "99c27223-731a-4f4e-8936-455036806603"
      },
      "outputs": [
        {
          "output_type": "stream",
          "name": "stdout",
          "text": [
            "              precision    recall  f1-score   support\n",
            "\n",
            "         1.0       1.00      1.00      1.00         1\n",
            "         2.0       0.00      0.00      0.00         2\n",
            "         3.0       0.00      0.00      0.00        24\n",
            "         4.0       0.80      0.96      0.88       167\n",
            "         5.0       0.69      0.36      0.47        25\n",
            "\n",
            "    accuracy                           0.78       219\n",
            "   macro avg       0.50      0.46      0.47       219\n",
            "weighted avg       0.69      0.78      0.73       219\n",
            "\n"
          ]
        },
        {
          "output_type": "stream",
          "name": "stderr",
          "text": [
            "/usr/local/lib/python3.7/dist-packages/sklearn/metrics/_classification.py:1318: UndefinedMetricWarning: Precision and F-score are ill-defined and being set to 0.0 in labels with no predicted samples. Use `zero_division` parameter to control this behavior.\n",
            "  _warn_prf(average, modifier, msg_start, len(result))\n",
            "/usr/local/lib/python3.7/dist-packages/sklearn/metrics/_classification.py:1318: UndefinedMetricWarning: Precision and F-score are ill-defined and being set to 0.0 in labels with no predicted samples. Use `zero_division` parameter to control this behavior.\n",
            "  _warn_prf(average, modifier, msg_start, len(result))\n",
            "/usr/local/lib/python3.7/dist-packages/sklearn/metrics/_classification.py:1318: UndefinedMetricWarning: Precision and F-score are ill-defined and being set to 0.0 in labels with no predicted samples. Use `zero_division` parameter to control this behavior.\n",
            "  _warn_prf(average, modifier, msg_start, len(result))\n"
          ]
        }
      ],
      "source": [
        "# prediction\n",
        "y_pred= model_DTC.predict(x_test)\n",
        "\n",
        "# measure the quality of predictions from a classification algorithm\n",
        "classifer_report = classification_report(y_test, y_pred)\n",
        "print(classifer_report)"
      ]
    },
    {
      "cell_type": "code",
      "execution_count": null,
      "metadata": {
        "colab": {
          "base_uri": "https://localhost:8080/"
        },
        "id": "i90D6Gfq5pGN",
        "outputId": "e58cb330-634a-43d1-e456-8171e9c1690f"
      },
      "outputs": [
        {
          "output_type": "stream",
          "name": "stdout",
          "text": [
            "accuracy_score on train dataset : \n",
            "0.7837528604118993\n",
            "\n",
            " accuracy_score on test dataset : \n",
            "0.7808219178082192\n",
            "\n",
            "\n",
            "fscore 0.7808219178082192\n",
            "\n",
            "\n"
          ]
        }
      ],
      "source": [
        "# display the traing accuracy score\n",
        "print('accuracy_score on train dataset : ' )\n",
        "DTC_y_train_pred = prediction(y_train, x_train, model_DTC)\n",
        "# display the tesing accuracy score\n",
        "print('\\n accuracy_score on test dataset : ' )\n",
        "DTC_y_test_pred = prediction(y_test, x_test, model_DTC)\n",
        "\n",
        "# display fscore for our model\n",
        "print('\\n')\n",
        "precision_recall_f1(DTC_y_test_pred)\n",
        "print('\\n')"
      ]
    },
    {
      "cell_type": "code",
      "execution_count": null,
      "metadata": {
        "colab": {
          "base_uri": "https://localhost:8080/"
        },
        "id": "0dyBTHJ35wa9",
        "outputId": "e09944d4-1151-438d-829a-7d8d1e6807ab"
      },
      "outputs": [
        {
          "output_type": "stream",
          "name": "stdout",
          "text": [
            "y_pred unique :  [1. 3. 4. 5.] counts :  [  1   4 201  13]\n"
          ]
        }
      ],
      "source": [
        "# Show value and count it in (DTC_y_test_pred) in training data\n",
        "unique, counts = np.unique(DTC_y_test_pred , return_counts=True)\n",
        "print(\"y_pred unique : \", unique, 'counts : ',  counts)"
      ]
    },
    {
      "cell_type": "code",
      "execution_count": null,
      "metadata": {
        "colab": {
          "base_uri": "https://localhost:8080/"
        },
        "id": "2yAJIb5c5pI4",
        "outputId": "de32196d-b6f3-4826-ed19-f4fe8d647055"
      },
      "outputs": [
        {
          "output_type": "stream",
          "name": "stdout",
          "text": [
            "y_pred unique :  [1. 2. 3. 4. 5.] counts :  [  1   2  24 167  25]\n"
          ]
        }
      ],
      "source": [
        "# Show value and count it in (y_test) in training data\n",
        "unique, counts = np.unique(y_test , return_counts=True)\n",
        "print(\"y_pred unique : \", unique, 'counts : ',  counts)"
      ]
    },
    {
      "cell_type": "code",
      "execution_count": null,
      "metadata": {
        "id": "hfG7Ifli5pLF"
      },
      "outputs": [],
      "source": [
        ""
      ]
    },
    {
      "cell_type": "code",
      "execution_count": null,
      "metadata": {
        "colab": {
          "base_uri": "https://localhost:8080/"
        },
        "id": "26mRyKcrM-QL",
        "outputId": "f5130aa2-1f64-48cc-ae7e-5820a70f56e4"
      },
      "outputs": [
        {
          "output_type": "execute_result",
          "data": {
            "text/plain": [
              "array([1., 4., 4., 4., 4., 5., 4., 4., 4., 4., 4., 4., 4., 4., 4., 4., 4.,\n",
              "       4., 3., 5., 4., 5., 3., 4., 3., 4., 4., 4., 4., 4., 4., 4., 4., 4.,\n",
              "       4., 4., 4., 4., 4., 4., 5., 4., 3., 4., 4., 4., 5., 4., 4., 4., 4.,\n",
              "       5., 4., 3., 4., 4., 4., 4., 4., 4., 4., 4., 4., 4., 4., 4., 4., 4.,\n",
              "       4., 4., 4., 4., 4., 4., 4., 4., 4., 4., 4., 4., 4., 4., 4., 4., 3.,\n",
              "       4., 4., 4., 4., 4., 5., 4., 4., 5., 4., 4., 4., 4., 4., 4., 4., 4.,\n",
              "       4., 4., 5., 4., 4., 4., 4., 4., 4., 4., 4., 4., 4., 4., 4., 4., 5.,\n",
              "       4., 4., 4., 4., 4., 4., 4., 4., 4., 4., 4., 4., 4., 4., 4., 4., 4.,\n",
              "       4., 4., 4., 4., 4., 4., 5., 4., 4., 4., 4., 4., 4., 4., 4., 4., 4.,\n",
              "       4., 4., 4., 4., 4., 4., 4., 4., 4., 4., 4., 4., 4., 4., 4., 4., 4.,\n",
              "       4., 4., 4., 4., 4., 4., 4., 4., 4., 4., 4., 4., 4., 4., 4., 4., 4.,\n",
              "       4., 4., 4., 4., 4., 4., 4., 4., 4., 4., 4., 3., 4., 4., 4., 4., 4.,\n",
              "       4., 4., 4., 4., 4., 4., 4., 4., 4., 4., 4., 4., 4., 4., 4., 4., 4.,\n",
              "       4., 5., 4., 4., 4., 4., 4., 4., 4., 4., 4., 4., 4., 4., 4., 4., 4.,\n",
              "       4., 4., 4., 4., 3., 5., 4., 4., 4., 4., 4., 4., 4., 4., 4., 4., 4.,\n",
              "       4., 4., 4., 4., 4., 4., 4., 4., 4., 4., 4., 4., 4., 4., 4., 4., 3.,\n",
              "       4., 4., 4., 4., 4., 4., 4., 4., 4., 4., 3., 4., 4., 5., 4., 4., 4.,\n",
              "       4., 4., 4., 4., 4., 4., 4., 4., 4., 4., 4., 4., 4., 4., 4., 4., 4.,\n",
              "       4., 4., 4., 4., 4., 4., 4., 4., 4., 4., 5., 4., 4., 4., 4., 4., 4.,\n",
              "       4., 4., 4., 5., 4., 1., 4., 4., 4., 4., 4., 4., 4., 4., 4., 4., 4.,\n",
              "       4., 4., 4., 4., 4., 4., 4., 4., 4., 4., 4., 4., 4., 4., 4., 4., 4.,\n",
              "       4., 4., 4., 4., 4., 4., 4., 4., 4., 4., 4., 4., 4., 4., 5., 4., 4.,\n",
              "       4., 4., 4., 4., 4., 4., 4., 4., 4., 4., 4., 4., 5., 4., 4., 4., 4.,\n",
              "       5., 4., 4., 5., 4., 4., 3., 4., 4., 4., 4., 4., 4., 5., 5., 4., 4.,\n",
              "       5., 4., 4., 5., 4., 4., 4., 4., 4., 4., 4., 4., 4., 4., 4., 4., 4.,\n",
              "       4., 4., 4., 4., 4., 4., 4., 4., 4., 4., 4., 4., 4., 5., 4., 4., 4.,\n",
              "       4., 4., 4., 4., 4., 4., 4., 4., 4., 4., 4., 4., 4., 4., 3., 4., 4.,\n",
              "       4., 3., 4., 4., 4., 4., 4., 4., 4., 4., 4., 4., 4., 4., 4., 3., 4.,\n",
              "       2., 4., 4.])"
            ]
          },
          "metadata": {},
          "execution_count": 412
        }
      ],
      "source": [
        "# predict the test data\n",
        "y_pred= model_DTC.predict(df_test)\n",
        "\n",
        "y_pred"
      ]
    },
    {
      "cell_type": "code",
      "execution_count": null,
      "metadata": {
        "colab": {
          "base_uri": "https://localhost:8080/"
        },
        "id": "WQZCzkPxM-Sk",
        "outputId": "87b6f16e-f739-4816-b679-0df3734de8f6"
      },
      "outputs": [
        {
          "output_type": "stream",
          "name": "stdout",
          "text": [
            "y_pred_clf unique :  [1. 2. 3. 4. 5.] counts :  [  2   1  14 437  25]\n"
          ]
        }
      ],
      "source": [
        "# Show value and count it in (y_pred) in testing data\n",
        "unique, counts = np.unique(y_pred , return_counts=True)\n",
        "print(\"y_pred_clf unique : \", unique, 'counts : ',  counts)"
      ]
    },
    {
      "cell_type": "code",
      "execution_count": null,
      "metadata": {
        "id": "Vyg7-8ofM-U2"
      },
      "outputs": [],
      "source": [
        "# get the id index from the testing data\n",
        "index = df_test.index.get_level_values('id')\n",
        "\n",
        "# write the prediction data into csv file with the id index\n",
        "pred_df = pd.DataFrame(data={'id': np.asarray(index), 'rating': y_pred})\n",
        "\n",
        "pred_df.to_csv('pred_walkthrough_DT.csv', index=False)"
      ]
    },
    {
      "cell_type": "code",
      "execution_count": null,
      "metadata": {
        "id": "oFNCwLXi6PU7"
      },
      "outputs": [],
      "source": [
        ""
      ]
    },
    {
      "cell_type": "markdown",
      "source": [
        "#### DT Trial 2"
      ],
      "metadata": {
        "id": "shmYQwLat01B"
      }
    },
    {
      "cell_type": "markdown",
      "source": [
        "when the decision tree classifier has the max_depth = 6 with random_state.\n",
        "\n",
        "I think the accuarcy will be the small because The deeper the model's depth, the more it learns, and the better it gets. \n",
        "\n",
        "I think the accuarcy is 79%"
      ],
      "metadata": {
        "id": "qfibXagbs7oZ"
      }
    },
    {
      "cell_type": "code",
      "execution_count": null,
      "metadata": {
        "colab": {
          "base_uri": "https://localhost:8080/"
        },
        "outputId": "92541c24-31c0-4fdd-e074-52341fbf1d71",
        "id": "lKcH7r6WwxSD"
      },
      "outputs": [
        {
          "output_type": "execute_result",
          "data": {
            "text/plain": [
              "DecisionTreeClassifier(max_depth=6)"
            ]
          },
          "metadata": {},
          "execution_count": 415
        }
      ],
      "source": [
        "# Create DT classifer object  \n",
        "model_DTC = DecisionTreeClassifier(criterion= 'gini', max_depth= 6)\n",
        "model_DTC"
      ]
    },
    {
      "cell_type": "code",
      "execution_count": null,
      "metadata": {
        "id": "NS-3V9Udw4u6"
      },
      "outputs": [],
      "source": [
        "# Train DTC Classifer\n",
        "model_DTC = model_DTC.fit(x_train,y_train)"
      ]
    },
    {
      "cell_type": "code",
      "execution_count": null,
      "metadata": {
        "colab": {
          "base_uri": "https://localhost:8080/"
        },
        "outputId": "d1e1bae8-903b-4bc1-e480-3ada2ad23754",
        "id": "Pp1r0d3rw99u"
      },
      "outputs": [
        {
          "output_type": "stream",
          "name": "stdout",
          "text": [
            "              precision    recall  f1-score   support\n",
            "\n",
            "         1.0       1.00      1.00      1.00         1\n",
            "         2.0       0.00      0.00      0.00         2\n",
            "         3.0       0.40      0.17      0.24        24\n",
            "         4.0       0.82      0.95      0.88       167\n",
            "         5.0       0.69      0.36      0.47        25\n",
            "\n",
            "    accuracy                           0.79       219\n",
            "   macro avg       0.58      0.50      0.52       219\n",
            "weighted avg       0.75      0.79      0.76       219\n",
            "\n"
          ]
        }
      ],
      "source": [
        "# prediction\n",
        "y_pred= model_DTC.predict(x_test)\n",
        "\n",
        "# measure the quality of predictions from a classification algorithm\n",
        "classifer_report = classification_report(y_test, y_pred)\n",
        "print(classifer_report)"
      ]
    },
    {
      "cell_type": "code",
      "execution_count": null,
      "metadata": {
        "colab": {
          "base_uri": "https://localhost:8080/"
        },
        "outputId": "064141e2-f9c5-4c7d-b333-277f0df35ff1",
        "id": "uj_sar6vxDIt"
      },
      "outputs": [
        {
          "output_type": "stream",
          "name": "stdout",
          "text": [
            "accuracy_score on train dataset : \n",
            "0.8237986270022883\n",
            "\n",
            " accuracy_score on test dataset : \n",
            "0.7899543378995434\n",
            "\n",
            "\n",
            "fscore 0.7899543378995434\n",
            "\n",
            "\n"
          ]
        }
      ],
      "source": [
        "# display the traing accuracy score\n",
        "print('accuracy_score on train dataset : ' )\n",
        "DTC_y_train_pred = prediction(y_train, x_train, model_DTC)\n",
        "# display the tesing accuracy score\n",
        "print('\\n accuracy_score on test dataset : ' )\n",
        "DTC_y_test_pred = prediction(y_test, x_test, model_DTC)\n",
        "\n",
        "# display fscore for our model\n",
        "print('\\n')\n",
        "precision_recall_f1(DTC_y_test_pred)\n",
        "print('\\n')"
      ]
    },
    {
      "cell_type": "code",
      "execution_count": null,
      "metadata": {
        "colab": {
          "base_uri": "https://localhost:8080/"
        },
        "outputId": "1de663dc-95fd-4745-da4a-12aa761b06ad",
        "id": "LRMlLFDqxJjt"
      },
      "outputs": [
        {
          "output_type": "stream",
          "name": "stdout",
          "text": [
            "y_pred unique :  [1. 2. 3. 4. 5.] counts :  [  1   1  10 194  13]\n"
          ]
        }
      ],
      "source": [
        "# Show value and count it in (DTC_y_test_pred) in training data\n",
        "unique, counts = np.unique(DTC_y_test_pred , return_counts=True)\n",
        "print(\"y_pred unique : \", unique, 'counts : ',  counts)"
      ]
    },
    {
      "cell_type": "code",
      "execution_count": null,
      "metadata": {
        "colab": {
          "base_uri": "https://localhost:8080/"
        },
        "outputId": "ff380287-9341-4e8a-dd74-d920b8f2338e",
        "id": "fl11RJnLxO84"
      },
      "outputs": [
        {
          "output_type": "stream",
          "name": "stdout",
          "text": [
            "y_pred unique :  [1. 2. 3. 4. 5.] counts :  [  1   2  24 167  25]\n"
          ]
        }
      ],
      "source": [
        "# Show value and count it in (y_test) in testing data\n",
        "unique, counts = np.unique(y_test , return_counts=True)\n",
        "print(\"y_pred unique : \", unique, 'counts : ',  counts)"
      ]
    },
    {
      "cell_type": "code",
      "execution_count": null,
      "metadata": {
        "colab": {
          "base_uri": "https://localhost:8080/"
        },
        "outputId": "fe336a28-dd1b-4939-b1e3-0c5054b0c693",
        "id": "vgvsHKdwxT7q"
      },
      "outputs": [
        {
          "output_type": "execute_result",
          "data": {
            "text/plain": [
              "array([5., 4., 4., 4., 4., 5., 4., 4., 4., 4., 4., 4., 4., 4., 4., 4., 4.,\n",
              "       4., 3., 5., 4., 5., 4., 4., 4., 4., 4., 5., 4., 4., 4., 4., 4., 4.,\n",
              "       4., 4., 4., 4., 4., 4., 5., 4., 3., 4., 4., 4., 3., 4., 4., 4., 4.,\n",
              "       5., 4., 4., 4., 4., 4., 4., 4., 4., 4., 4., 4., 5., 3., 4., 4., 4.,\n",
              "       4., 4., 4., 4., 4., 4., 4., 4., 4., 4., 4., 4., 4., 4., 4., 4., 3.,\n",
              "       4., 4., 4., 4., 4., 5., 4., 4., 5., 4., 4., 4., 4., 4., 4., 4., 4.,\n",
              "       4., 4., 5., 4., 4., 4., 4., 4., 4., 4., 4., 4., 4., 4., 4., 4., 5.,\n",
              "       4., 5., 4., 4., 4., 4., 4., 4., 4., 4., 4., 4., 4., 4., 4., 4., 4.,\n",
              "       4., 4., 4., 4., 5., 4., 5., 4., 4., 4., 4., 4., 4., 4., 4., 4., 4.,\n",
              "       5., 4., 4., 4., 4., 4., 4., 4., 4., 4., 4., 4., 4., 4., 4., 4., 5.,\n",
              "       4., 4., 4., 4., 4., 4., 4., 4., 4., 4., 4., 4., 4., 4., 4., 5., 4.,\n",
              "       4., 4., 4., 4., 4., 4., 4., 4., 4., 4., 4., 4., 4., 4., 5., 4., 4.,\n",
              "       4., 4., 4., 4., 4., 4., 4., 4., 4., 4., 4., 4., 4., 4., 4., 4., 4.,\n",
              "       4., 5., 4., 4., 4., 4., 4., 4., 4., 4., 4., 4., 4., 4., 4., 4., 4.,\n",
              "       4., 4., 4., 4., 3., 5., 4., 4., 4., 4., 4., 4., 4., 4., 4., 4., 4.,\n",
              "       4., 4., 4., 4., 4., 4., 4., 4., 4., 4., 4., 4., 4., 4., 4., 4., 3.,\n",
              "       4., 4., 4., 4., 4., 4., 4., 4., 4., 4., 3., 4., 4., 5., 4., 4., 4.,\n",
              "       4., 4., 4., 4., 4., 4., 4., 4., 4., 4., 3., 4., 4., 4., 3., 4., 4.,\n",
              "       4., 4., 4., 4., 4., 4., 4., 4., 4., 4., 5., 4., 4., 4., 4., 4., 4.,\n",
              "       4., 4., 4., 5., 4., 5., 4., 4., 4., 4., 4., 4., 4., 4., 4., 4., 5.,\n",
              "       4., 4., 4., 3., 4., 5., 4., 4., 4., 4., 4., 4., 4., 4., 4., 4., 4.,\n",
              "       4., 4., 4., 4., 4., 3., 4., 4., 3., 4., 4., 4., 4., 4., 5., 4., 4.,\n",
              "       4., 4., 4., 4., 4., 4., 4., 4., 4., 4., 4., 4., 3., 4., 4., 4., 4.,\n",
              "       5., 4., 4., 5., 4., 4., 3., 4., 4., 4., 4., 4., 4., 5., 5., 4., 4.,\n",
              "       5., 4., 4., 5., 4., 4., 4., 4., 5., 4., 3., 4., 4., 4., 4., 4., 4.,\n",
              "       4., 4., 4., 4., 4., 4., 4., 4., 4., 4., 4., 4., 4., 5., 5., 4., 4.,\n",
              "       4., 4., 4., 4., 4., 4., 4., 4., 4., 4., 4., 4., 4., 4., 3., 4., 4.,\n",
              "       4., 3., 4., 4., 4., 4., 4., 4., 4., 4., 4., 4., 4., 4., 4., 3., 4.,\n",
              "       2., 4., 4.])"
            ]
          },
          "metadata": {},
          "execution_count": 421
        }
      ],
      "source": [
        "# predict the test data\n",
        "y_pred= model_DTC.predict(df_test)\n",
        "\n",
        "y_pred"
      ]
    },
    {
      "cell_type": "code",
      "execution_count": null,
      "metadata": {
        "colab": {
          "base_uri": "https://localhost:8080/"
        },
        "outputId": "83e16f2f-50ec-4daf-c966-4c4ed33a43ab",
        "id": "rIZ60R8SxZCs"
      },
      "outputs": [
        {
          "output_type": "stream",
          "name": "stdout",
          "text": [
            "y_pred_clf unique :  [2. 3. 4. 5.] counts :  [  1  19 422  37]\n"
          ]
        }
      ],
      "source": [
        "# Show value and count it in (y_pred) in testing data\n",
        "unique, counts = np.unique(y_pred , return_counts=True)\n",
        "print(\"y_pred_clf unique : \", unique, 'counts : ',  counts)"
      ]
    },
    {
      "cell_type": "code",
      "execution_count": null,
      "metadata": {
        "id": "Z4_4j6ghxdyp"
      },
      "outputs": [],
      "source": [
        "# get the id index from the testing data\n",
        "index = df_test.index.get_level_values('id')\n",
        "\n",
        "# write the prediction data into csv file with the id index\n",
        "pred_df = pd.DataFrame(data={'id': np.asarray(index), 'rating': y_pred})\n",
        "\n",
        "pred_df.to_csv('pred_walkthrough_DT.csv', index=False)"
      ]
    },
    {
      "cell_type": "code",
      "execution_count": null,
      "metadata": {
        "id": "4vSj7Gif6QR9"
      },
      "outputs": [],
      "source": [
        ""
      ]
    },
    {
      "cell_type": "markdown",
      "metadata": {
        "id": "amz_buQS-onb"
      },
      "source": [
        "### SVM"
      ]
    },
    {
      "cell_type": "markdown",
      "source": [
        "#### SVM Trial 1"
      ],
      "metadata": {
        "id": "q0C-xmAl8tng"
      }
    },
    {
      "cell_type": "markdown",
      "source": [
        "I think the accuarcy of svm will be the better because i use the data with scaler and C =1, and gamman=3 and kernel = rbf\n",
        "\n",
        "I expect the accuracy will be 82%\n"
      ],
      "metadata": {
        "id": "rg0lzfRh8yQl"
      }
    },
    {
      "cell_type": "code",
      "execution_count": null,
      "metadata": {
        "id": "Elue6kBCPHL-"
      },
      "outputs": [],
      "source": [
        "# train the model on train set\n",
        "model_svm = SVC(kernel='rbf', C= 1, gamma= 3)"
      ]
    },
    {
      "cell_type": "code",
      "source": [
        "# training the model\n",
        "model_svm = model_svm.fit(x_train_scaled, y_train)"
      ],
      "metadata": {
        "colab": {
          "base_uri": "https://localhost:8080/"
        },
        "id": "mNv7szmC7LvG",
        "outputId": "46a5c518-dbad-4b93-f2bd-9c209db968a5"
      },
      "execution_count": null,
      "outputs": [
        {
          "output_type": "stream",
          "name": "stderr",
          "text": [
            "/usr/local/lib/python3.7/dist-packages/sklearn/utils/validation.py:993: DataConversionWarning: A column-vector y was passed when a 1d array was expected. Please change the shape of y to (n_samples, ), for example using ravel().\n",
            "  y = column_or_1d(y, warn=True)\n"
          ]
        }
      ]
    },
    {
      "cell_type": "code",
      "execution_count": null,
      "metadata": {
        "id": "JbXuAzpJPHOs",
        "colab": {
          "base_uri": "https://localhost:8080/"
        },
        "outputId": "210cfdeb-e7ae-498f-88bf-9e3a3e5b67b1"
      },
      "outputs": [
        {
          "output_type": "stream",
          "name": "stdout",
          "text": [
            "              precision    recall  f1-score   support\n",
            "\n",
            "         1.0       0.00      0.00      0.00         1\n",
            "         2.0       0.00      0.00      0.00         2\n",
            "         3.0       0.00      0.00      0.00        24\n",
            "         4.0       0.77      0.96      0.85       167\n",
            "         5.0       0.25      0.08      0.12        25\n",
            "\n",
            "    accuracy                           0.74       219\n",
            "   macro avg       0.20      0.21      0.20       219\n",
            "weighted avg       0.61      0.74      0.67       219\n",
            "\n"
          ]
        },
        {
          "output_type": "stream",
          "name": "stderr",
          "text": [
            "/usr/local/lib/python3.7/dist-packages/sklearn/metrics/_classification.py:1318: UndefinedMetricWarning: Precision and F-score are ill-defined and being set to 0.0 in labels with no predicted samples. Use `zero_division` parameter to control this behavior.\n",
            "  _warn_prf(average, modifier, msg_start, len(result))\n",
            "/usr/local/lib/python3.7/dist-packages/sklearn/metrics/_classification.py:1318: UndefinedMetricWarning: Precision and F-score are ill-defined and being set to 0.0 in labels with no predicted samples. Use `zero_division` parameter to control this behavior.\n",
            "  _warn_prf(average, modifier, msg_start, len(result))\n",
            "/usr/local/lib/python3.7/dist-packages/sklearn/metrics/_classification.py:1318: UndefinedMetricWarning: Precision and F-score are ill-defined and being set to 0.0 in labels with no predicted samples. Use `zero_division` parameter to control this behavior.\n",
            "  _warn_prf(average, modifier, msg_start, len(result))\n"
          ]
        }
      ],
      "source": [
        "# prediction results\n",
        "y_pred_svm = model_svm.predict(x_test_scaled)\n",
        "\n",
        "# measure the quality of predictions from a classification algorithm\n",
        "classifer_report = classification_report(y_test, y_pred_svm)\n",
        "print(classifer_report)"
      ]
    },
    {
      "cell_type": "code",
      "execution_count": null,
      "metadata": {
        "id": "m6MDQZl_PHRe",
        "colab": {
          "base_uri": "https://localhost:8080/"
        },
        "outputId": "dd915ad3-ed49-4d4a-816c-af92377b6701"
      },
      "outputs": [
        {
          "output_type": "stream",
          "name": "stdout",
          "text": [
            "accuracy_score on train dataset : \n",
            "0.7585812356979404\n",
            "\n",
            " accuracy_score on test dataset : \n",
            "0.7442922374429224\n",
            "\n",
            "\n",
            "fscore 0.7442922374429224\n",
            "\n",
            "\n"
          ]
        }
      ],
      "source": [
        "# display the traing accuracy score\n",
        "print('accuracy_score on train dataset : ' )\n",
        "SVM_y_train_pred = prediction(y_train, x_train_scaled, model_svm)\n",
        "# display the tesing accuracy score\n",
        "print('\\n accuracy_score on test dataset : ' )\n",
        "SVM_y_test_pred = prediction(y_test, x_test_scaled, model_svm)\n",
        "\n",
        "# display fscore for our model\n",
        "print('\\n')\n",
        "precision_recall_f1(SVM_y_test_pred)\n",
        "print('\\n')"
      ]
    },
    {
      "cell_type": "code",
      "execution_count": null,
      "metadata": {
        "colab": {
          "base_uri": "https://localhost:8080/"
        },
        "outputId": "95745cff-c115-45d4-fefe-546c74473584",
        "id": "3t8ItUu37gXz"
      },
      "outputs": [
        {
          "output_type": "stream",
          "name": "stdout",
          "text": [
            "y_pred unique :  [3. 4. 5.] counts :  [  1 210   8]\n"
          ]
        }
      ],
      "source": [
        "# Show value and count it in (SVM_y_test_pred) in training data\n",
        "unique, counts = np.unique(SVM_y_test_pred , return_counts=True)\n",
        "print(\"y_pred unique : \", unique, 'counts : ',  counts)"
      ]
    },
    {
      "cell_type": "code",
      "execution_count": null,
      "metadata": {
        "colab": {
          "base_uri": "https://localhost:8080/"
        },
        "outputId": "f9bc8583-fa50-415b-930b-d39c79441323",
        "id": "2fNbnYkf7lxf"
      },
      "outputs": [
        {
          "output_type": "stream",
          "name": "stdout",
          "text": [
            "y_pred unique :  [1. 2. 3. 4. 5.] counts :  [  1   2  24 167  25]\n"
          ]
        }
      ],
      "source": [
        "# Show value and count it in (y_test) in testing data\n",
        "unique, counts = np.unique(y_test , return_counts=True)\n",
        "print(\"y_pred unique : \", unique, 'counts : ',  counts)"
      ]
    },
    {
      "cell_type": "code",
      "execution_count": null,
      "metadata": {
        "colab": {
          "base_uri": "https://localhost:8080/"
        },
        "outputId": "998167fe-ce58-4837-bf80-8c63e83f086e",
        "id": "fX7Cj4lS7qVN"
      },
      "outputs": [
        {
          "output_type": "stream",
          "name": "stderr",
          "text": [
            "/usr/local/lib/python3.7/dist-packages/sklearn/base.py:444: UserWarning: X has feature names, but SVC was fitted without feature names\n",
            "  f\"X has feature names, but {self.__class__.__name__} was fitted without\"\n"
          ]
        },
        {
          "output_type": "execute_result",
          "data": {
            "text/plain": [
              "array([4., 4., 4., 4., 4., 4., 4., 4., 4., 4., 4., 4., 4., 4., 4., 4., 4.,\n",
              "       4., 4., 4., 4., 4., 4., 4., 4., 4., 4., 4., 4., 4., 4., 4., 4., 4.,\n",
              "       4., 4., 4., 4., 4., 4., 4., 4., 4., 4., 4., 4., 4., 4., 4., 4., 4.,\n",
              "       4., 4., 4., 4., 4., 4., 4., 4., 4., 4., 4., 4., 4., 4., 4., 4., 4.,\n",
              "       4., 4., 4., 4., 4., 4., 4., 4., 4., 4., 4., 4., 4., 4., 4., 4., 4.,\n",
              "       4., 4., 4., 4., 4., 4., 4., 4., 4., 4., 4., 4., 4., 4., 4., 4., 4.,\n",
              "       4., 4., 4., 4., 4., 4., 4., 4., 4., 4., 4., 4., 4., 4., 4., 4., 4.,\n",
              "       4., 4., 4., 4., 4., 4., 4., 4., 4., 4., 4., 4., 4., 4., 4., 4., 4.,\n",
              "       4., 4., 4., 4., 4., 4., 4., 4., 4., 4., 4., 4., 4., 4., 4., 4., 4.,\n",
              "       4., 4., 4., 4., 4., 4., 4., 4., 4., 4., 4., 4., 4., 4., 4., 4., 4.,\n",
              "       4., 4., 4., 4., 4., 4., 4., 4., 4., 4., 4., 4., 4., 4., 4., 4., 4.,\n",
              "       4., 4., 4., 4., 4., 4., 4., 4., 4., 4., 4., 4., 4., 4., 4., 4., 4.,\n",
              "       4., 4., 4., 4., 4., 4., 4., 4., 4., 4., 4., 4., 4., 4., 4., 4., 4.,\n",
              "       4., 4., 4., 4., 4., 4., 4., 4., 4., 4., 4., 4., 4., 4., 4., 4., 4.,\n",
              "       4., 4., 4., 4., 4., 4., 4., 4., 4., 4., 4., 4., 4., 4., 4., 4., 4.,\n",
              "       4., 4., 4., 4., 4., 4., 4., 4., 4., 4., 4., 4., 4., 4., 4., 4., 4.,\n",
              "       4., 4., 4., 4., 4., 4., 4., 4., 4., 4., 4., 4., 4., 4., 4., 4., 4.,\n",
              "       4., 4., 4., 4., 4., 4., 4., 4., 4., 4., 4., 4., 4., 4., 4., 4., 4.,\n",
              "       4., 4., 4., 4., 4., 4., 4., 4., 4., 4., 4., 4., 4., 4., 4., 4., 4.,\n",
              "       4., 4., 4., 4., 4., 4., 4., 4., 4., 4., 4., 4., 4., 4., 4., 4., 4.,\n",
              "       4., 4., 4., 4., 4., 4., 4., 4., 4., 4., 4., 4., 4., 4., 4., 4., 4.,\n",
              "       4., 4., 4., 4., 4., 4., 4., 4., 4., 4., 4., 4., 4., 4., 4., 4., 4.,\n",
              "       4., 4., 4., 4., 4., 4., 4., 4., 4., 4., 4., 4., 4., 4., 4., 4., 4.,\n",
              "       4., 4., 4., 4., 4., 4., 4., 4., 4., 4., 4., 4., 4., 4., 4., 4., 4.,\n",
              "       4., 4., 4., 4., 4., 4., 4., 4., 4., 4., 4., 4., 4., 4., 4., 4., 4.,\n",
              "       4., 4., 4., 4., 4., 4., 4., 4., 4., 4., 4., 4., 4., 4., 4., 4., 4.,\n",
              "       4., 4., 4., 4., 4., 4., 4., 4., 4., 4., 4., 4., 4., 4., 4., 4., 4.,\n",
              "       4., 4., 4., 4., 4., 4., 4., 4., 4., 4., 4., 4., 4., 4., 4., 4., 4.,\n",
              "       4., 4., 4.])"
            ]
          },
          "metadata": {},
          "execution_count": 430
        }
      ],
      "source": [
        "# predict the test data\n",
        "y_pred= model_svm.predict(df_test)\n",
        "\n",
        "y_pred"
      ]
    },
    {
      "cell_type": "code",
      "execution_count": null,
      "metadata": {
        "colab": {
          "base_uri": "https://localhost:8080/"
        },
        "outputId": "f9c4dbd8-0729-42c9-ecda-061382326d7b",
        "id": "iP8F9Be_7uTt"
      },
      "outputs": [
        {
          "output_type": "stream",
          "name": "stdout",
          "text": [
            "y_pred_clf unique :  [4.] counts :  [479]\n"
          ]
        }
      ],
      "source": [
        "# Show value and count it in (y_pred) in testing data\n",
        "unique, counts = np.unique(y_pred , return_counts=True)\n",
        "print(\"y_pred_clf unique : \", unique, 'counts : ',  counts)"
      ]
    },
    {
      "cell_type": "code",
      "execution_count": null,
      "metadata": {
        "id": "xU2WZjPi7yPW"
      },
      "outputs": [],
      "source": [
        "# get the id index from the testing data\n",
        "index = df_test.index.get_level_values('id')\n",
        "\n",
        "# write the prediction data into csv file with the id index\n",
        "pred_df = pd.DataFrame(data={'id': np.asarray(index), 'rating': y_pred})\n",
        "\n",
        "pred_df.to_csv('pred_walkthrough_DT.csv', index=False)"
      ]
    },
    {
      "cell_type": "code",
      "execution_count": null,
      "metadata": {
        "id": "9q08Y4L7PHUH"
      },
      "outputs": [],
      "source": [
        ""
      ]
    },
    {
      "cell_type": "code",
      "execution_count": null,
      "metadata": {
        "id": "GYv7TdPJPHXD"
      },
      "outputs": [],
      "source": [
        ""
      ]
    },
    {
      "cell_type": "code",
      "source": [
        ""
      ],
      "metadata": {
        "id": "Jq8rXLgs7AyM"
      },
      "execution_count": null,
      "outputs": []
    },
    {
      "cell_type": "markdown",
      "source": [
        "When I tried the svm model with this hyperparameter tuning the accuracy of svm 72% \n",
        "\n",
        "So The Decision tree is the better model because the accauracy of svm is smaller than Decision tree"
      ],
      "metadata": {
        "id": "gbcNOF2y-nTp"
      }
    },
    {
      "cell_type": "code",
      "source": [
        ""
      ],
      "metadata": {
        "id": "lFcBSTlN7A1c"
      },
      "execution_count": null,
      "outputs": []
    },
    {
      "cell_type": "code",
      "source": [
        ""
      ],
      "metadata": {
        "id": "tLaKTXIf7A4b"
      },
      "execution_count": null,
      "outputs": []
    },
    {
      "cell_type": "markdown",
      "source": [
        "#### SVM Trial 2"
      ],
      "metadata": {
        "id": "vg_MZfXU_KjJ"
      }
    },
    {
      "cell_type": "markdown",
      "source": [
        "I think the accuarcy of svm will be the better because i use the data with scaler and C =1, and gamman=2 and kernel = rbf\n",
        "\n",
        "I expect the accuracy will be 78%\n",
        "\n"
      ],
      "metadata": {
        "id": "OaE3f4BDBSNJ"
      }
    },
    {
      "cell_type": "code",
      "execution_count": null,
      "metadata": {
        "id": "MLJxxDJo-rHD"
      },
      "outputs": [],
      "source": [
        "# for the make pipline\n",
        "from sklearn.pipeline import make_pipeline\n",
        "\n",
        "# create object svm with standardscaler\n",
        "clf = make_pipeline(StandardScaler(), SVC(kernel='rbf', C= 1, gamma= 2))"
      ]
    },
    {
      "cell_type": "code",
      "source": [
        "# training the model\n",
        "clf = clf.fit(x_train_scaled,y_train)"
      ],
      "metadata": {
        "colab": {
          "base_uri": "https://localhost:8080/"
        },
        "id": "jofCTV_mCdgG",
        "outputId": "832729a2-4b49-4759-ce71-bd8d1a39974b"
      },
      "execution_count": null,
      "outputs": [
        {
          "output_type": "stream",
          "name": "stderr",
          "text": [
            "/usr/local/lib/python3.7/dist-packages/sklearn/utils/validation.py:993: DataConversionWarning: A column-vector y was passed when a 1d array was expected. Please change the shape of y to (n_samples, ), for example using ravel().\n",
            "  y = column_or_1d(y, warn=True)\n"
          ]
        }
      ]
    },
    {
      "cell_type": "code",
      "execution_count": null,
      "metadata": {
        "id": "j15-pYQP-4i9",
        "colab": {
          "base_uri": "https://localhost:8080/"
        },
        "outputId": "861b1e2e-9e00-4def-fd07-03f960b3cc7a"
      },
      "outputs": [
        {
          "output_type": "stream",
          "name": "stdout",
          "text": [
            "              precision    recall  f1-score   support\n",
            "\n",
            "         1.0       1.00      1.00      1.00         1\n",
            "         2.0       0.00      0.00      0.00         2\n",
            "         3.0       0.86      0.25      0.39        24\n",
            "         4.0       0.80      1.00      0.89       167\n",
            "         5.0       1.00      0.08      0.15        25\n",
            "\n",
            "    accuracy                           0.80       219\n",
            "   macro avg       0.73      0.47      0.48       219\n",
            "weighted avg       0.82      0.80      0.74       219\n",
            "\n"
          ]
        },
        {
          "output_type": "stream",
          "name": "stderr",
          "text": [
            "/usr/local/lib/python3.7/dist-packages/sklearn/metrics/_classification.py:1318: UndefinedMetricWarning: Precision and F-score are ill-defined and being set to 0.0 in labels with no predicted samples. Use `zero_division` parameter to control this behavior.\n",
            "  _warn_prf(average, modifier, msg_start, len(result))\n",
            "/usr/local/lib/python3.7/dist-packages/sklearn/metrics/_classification.py:1318: UndefinedMetricWarning: Precision and F-score are ill-defined and being set to 0.0 in labels with no predicted samples. Use `zero_division` parameter to control this behavior.\n",
            "  _warn_prf(average, modifier, msg_start, len(result))\n",
            "/usr/local/lib/python3.7/dist-packages/sklearn/metrics/_classification.py:1318: UndefinedMetricWarning: Precision and F-score are ill-defined and being set to 0.0 in labels with no predicted samples. Use `zero_division` parameter to control this behavior.\n",
            "  _warn_prf(average, modifier, msg_start, len(result))\n"
          ]
        }
      ],
      "source": [
        "# prediction results\n",
        "y_pred_svm = clf.predict(x_test_scaled)\n",
        "\n",
        "# measure the quality of predictions from a classification algorithm\n",
        "classifer_report = classification_report(y_test, y_pred_svm)\n",
        "print(classifer_report)"
      ]
    },
    {
      "cell_type": "code",
      "execution_count": null,
      "metadata": {
        "colab": {
          "base_uri": "https://localhost:8080/"
        },
        "id": "pS5qsZg7-5Bt",
        "outputId": "164d540d-ea58-4856-8186-d8672e0b413c"
      },
      "outputs": [
        {
          "output_type": "stream",
          "name": "stdout",
          "text": [
            "accuracy_score on train dataset : \n",
            "0.971395881006865\n",
            "\n",
            " accuracy_score on test dataset : \n",
            "0.8036529680365296\n",
            "\n",
            "\n",
            "fscore 0.8036529680365295\n",
            "\n",
            "\n"
          ]
        }
      ],
      "source": [
        "# display the traing accuracy score\n",
        "print('accuracy_score on train dataset : ' )\n",
        "SVM_y_train_pred = prediction(y_train, x_train_scaled, clf)\n",
        "# display the tesing accuracy score\n",
        "print('\\n accuracy_score on test dataset : ' )\n",
        "SVM_y_test_pred = prediction(y_test, x_test_scaled, clf)\n",
        "\n",
        "# display fscore for our model\n",
        "print('\\n')\n",
        "precision_recall_f1(SVM_y_test_pred)\n",
        "print('\\n')"
      ]
    },
    {
      "cell_type": "code",
      "execution_count": null,
      "metadata": {
        "id": "xdlkrxR_-7Ss",
        "colab": {
          "base_uri": "https://localhost:8080/"
        },
        "outputId": "61321a1d-33f6-4935-a3e8-5b4577f0b144"
      },
      "outputs": [
        {
          "output_type": "stream",
          "name": "stdout",
          "text": [
            "y_pred unique :  [1. 3. 4. 5.] counts :  [  1   7 209   2]\n"
          ]
        }
      ],
      "source": [
        "# Show value and count it in (SVM_y_test_pred) in training data\n",
        "unique, counts = np.unique(SVM_y_test_pred , return_counts=True)\n",
        "print(\"y_pred unique : \", unique, 'counts : ',  counts)"
      ]
    },
    {
      "cell_type": "code",
      "execution_count": null,
      "metadata": {
        "id": "m77d32Jt__LJ",
        "colab": {
          "base_uri": "https://localhost:8080/"
        },
        "outputId": "90f9a9b0-8b95-47d9-85b7-ca60b5152854"
      },
      "outputs": [
        {
          "output_type": "stream",
          "name": "stdout",
          "text": [
            "y_pred unique :  [1. 2. 3. 4. 5.] counts :  [  1   2  24 167  25]\n"
          ]
        }
      ],
      "source": [
        "# Show value and count it in (y_test) in testing data\n",
        "unique, counts = np.unique(y_test , return_counts=True)\n",
        "print(\"y_pred unique : \", unique, 'counts : ',  counts)"
      ]
    },
    {
      "cell_type": "code",
      "execution_count": null,
      "metadata": {
        "id": "XHZdFFSj__Nn",
        "colab": {
          "base_uri": "https://localhost:8080/"
        },
        "outputId": "328a341c-e6c8-4cd4-eb3f-bd0f104fb264"
      },
      "outputs": [
        {
          "output_type": "stream",
          "name": "stderr",
          "text": [
            "/usr/local/lib/python3.7/dist-packages/sklearn/base.py:444: UserWarning: X has feature names, but StandardScaler was fitted without feature names\n",
            "  f\"X has feature names, but {self.__class__.__name__} was fitted without\"\n"
          ]
        },
        {
          "output_type": "execute_result",
          "data": {
            "text/plain": [
              "array([4., 4., 4., 4., 4., 4., 4., 4., 4., 4., 4., 4., 4., 4., 4., 4., 4.,\n",
              "       4., 4., 4., 4., 4., 4., 4., 4., 4., 4., 4., 4., 4., 4., 4., 4., 4.,\n",
              "       4., 4., 4., 4., 4., 4., 4., 4., 4., 4., 4., 4., 4., 4., 4., 4., 4.,\n",
              "       4., 4., 4., 4., 4., 4., 4., 4., 4., 4., 4., 4., 4., 4., 4., 4., 4.,\n",
              "       4., 4., 4., 4., 4., 4., 4., 4., 4., 4., 4., 4., 4., 4., 4., 4., 4.,\n",
              "       4., 4., 4., 4., 4., 4., 4., 4., 4., 4., 4., 4., 4., 4., 4., 4., 4.,\n",
              "       4., 4., 4., 4., 4., 4., 4., 4., 4., 4., 4., 4., 4., 4., 4., 4., 4.,\n",
              "       4., 4., 4., 4., 4., 4., 4., 4., 4., 4., 4., 4., 4., 4., 4., 4., 4.,\n",
              "       4., 4., 4., 4., 4., 4., 4., 4., 4., 4., 4., 4., 4., 4., 4., 4., 4.,\n",
              "       4., 4., 4., 4., 4., 4., 4., 4., 4., 4., 4., 4., 4., 4., 4., 4., 4.,\n",
              "       4., 4., 4., 4., 4., 4., 4., 4., 4., 4., 4., 4., 4., 4., 4., 4., 4.,\n",
              "       4., 4., 4., 4., 4., 4., 4., 4., 4., 4., 4., 4., 4., 4., 4., 4., 4.,\n",
              "       4., 4., 4., 4., 4., 4., 4., 4., 4., 4., 4., 4., 4., 4., 4., 4., 4.,\n",
              "       4., 4., 4., 4., 4., 4., 4., 4., 4., 4., 4., 4., 4., 4., 4., 4., 4.,\n",
              "       4., 4., 4., 4., 4., 4., 4., 4., 4., 4., 4., 4., 4., 4., 4., 4., 4.,\n",
              "       4., 4., 4., 4., 4., 4., 4., 4., 4., 4., 4., 4., 4., 4., 4., 4., 4.,\n",
              "       4., 4., 4., 4., 4., 4., 4., 4., 4., 4., 4., 4., 4., 4., 4., 4., 4.,\n",
              "       4., 4., 4., 4., 4., 4., 4., 4., 4., 4., 4., 4., 4., 4., 4., 4., 4.,\n",
              "       4., 4., 4., 4., 4., 4., 4., 4., 4., 4., 4., 4., 4., 4., 4., 4., 4.,\n",
              "       4., 4., 4., 4., 4., 4., 4., 4., 4., 4., 4., 4., 4., 4., 4., 4., 4.,\n",
              "       4., 4., 4., 4., 4., 4., 4., 4., 4., 4., 4., 4., 4., 4., 4., 4., 4.,\n",
              "       4., 4., 4., 4., 4., 4., 4., 4., 4., 4., 4., 4., 4., 4., 4., 4., 4.,\n",
              "       4., 4., 4., 4., 4., 4., 4., 4., 4., 4., 4., 4., 4., 4., 4., 4., 4.,\n",
              "       4., 4., 4., 4., 4., 4., 4., 4., 4., 4., 4., 4., 4., 4., 4., 4., 4.,\n",
              "       4., 4., 4., 4., 4., 4., 4., 4., 4., 4., 4., 4., 4., 4., 4., 4., 4.,\n",
              "       4., 4., 4., 4., 4., 4., 4., 4., 4., 4., 4., 4., 4., 4., 4., 4., 4.,\n",
              "       4., 4., 4., 4., 4., 4., 4., 4., 4., 4., 4., 4., 4., 4., 4., 4., 4.,\n",
              "       4., 4., 4., 4., 4., 4., 4., 4., 4., 4., 4., 4., 4., 4., 4., 4., 4.,\n",
              "       4., 4., 4.])"
            ]
          },
          "metadata": {},
          "execution_count": 439
        }
      ],
      "source": [
        "# predict the test data\n",
        "y_pred= clf.predict(df_test)\n",
        "\n",
        "y_pred"
      ]
    },
    {
      "cell_type": "code",
      "execution_count": null,
      "metadata": {
        "id": "q2nVrNhr__QR",
        "colab": {
          "base_uri": "https://localhost:8080/"
        },
        "outputId": "b0d7f608-a369-4e76-e6e6-22fa0dba2a5a"
      },
      "outputs": [
        {
          "output_type": "stream",
          "name": "stdout",
          "text": [
            "y_pred_clf unique :  [4.] counts :  [479]\n"
          ]
        }
      ],
      "source": [
        "# Show value and count it in (y_pred) in testing data\n",
        "unique, counts = np.unique(y_pred , return_counts=True)\n",
        "print(\"y_pred_clf unique : \", unique, 'counts : ',  counts)"
      ]
    },
    {
      "cell_type": "code",
      "execution_count": null,
      "metadata": {
        "id": "U0UOK0Jo__S0"
      },
      "outputs": [],
      "source": [
        "# get the id index from the testing data\n",
        "index = df_test.index.get_level_values('id')\n",
        "\n",
        "# write the prediction data into csv file with the id index\n",
        "pred_df = pd.DataFrame(data={'id': np.asarray(index), 'rating': y_pred})\n",
        "\n",
        "pred_df.to_csv('pred_walkthrough_SVM.csv', index=False)"
      ]
    },
    {
      "cell_type": "code",
      "execution_count": null,
      "metadata": {
        "id": "vpstghhX__VL"
      },
      "outputs": [],
      "source": [
        ""
      ]
    },
    {
      "cell_type": "code",
      "source": [
        ""
      ],
      "metadata": {
        "id": "-Kk7NHNnAEPU"
      },
      "execution_count": null,
      "outputs": []
    },
    {
      "cell_type": "code",
      "source": [
        ""
      ],
      "metadata": {
        "id": "-LXk4t_HAESD"
      },
      "execution_count": null,
      "outputs": []
    },
    {
      "cell_type": "code",
      "execution_count": null,
      "metadata": {
        "id": "a7tBBQBKM2EA"
      },
      "outputs": [],
      "source": [
        ""
      ]
    },
    {
      "cell_type": "markdown",
      "metadata": {
        "id": "b0dbQZVVXAL1"
      },
      "source": [
        "### Naive bayes"
      ]
    },
    {
      "cell_type": "markdown",
      "source": [
        "I expect the Naive Bayes model with hyperparameter is var_smoothing= 1e-3. the accuracy of Naive Bayes will be very small so it is 67%"
      ],
      "metadata": {
        "id": "lrc0i1XfGPpW"
      }
    },
    {
      "cell_type": "code",
      "execution_count": null,
      "metadata": {
        "id": "r_mm-KEeXl-j"
      },
      "outputs": [],
      "source": [
        "# Training the Naive Bayes model on the Training set\n",
        "classifier = GaussianNB(var_smoothing= 1e-3)"
      ]
    },
    {
      "cell_type": "code",
      "source": [
        "# training the model\n",
        "classifier=  classifier.fit(x_train, y_train)"
      ],
      "metadata": {
        "colab": {
          "base_uri": "https://localhost:8080/"
        },
        "id": "Ti3uyVVBHLf6",
        "outputId": "3824b9fa-483e-4159-e334-b3b43b39d290"
      },
      "execution_count": null,
      "outputs": [
        {
          "output_type": "stream",
          "name": "stderr",
          "text": [
            "/usr/local/lib/python3.7/dist-packages/sklearn/utils/validation.py:993: DataConversionWarning: A column-vector y was passed when a 1d array was expected. Please change the shape of y to (n_samples, ), for example using ravel().\n",
            "  y = column_or_1d(y, warn=True)\n"
          ]
        }
      ]
    },
    {
      "cell_type": "code",
      "execution_count": null,
      "metadata": {
        "id": "yRojA5z5ke-9"
      },
      "outputs": [],
      "source": [
        "# Predicting the Test set results\n",
        "y_pred  = classifier.predict(x_test)"
      ]
    },
    {
      "cell_type": "code",
      "execution_count": null,
      "metadata": {
        "id": "xtolDmYQkfDc",
        "colab": {
          "base_uri": "https://localhost:8080/"
        },
        "outputId": "289fe9c2-5f7a-4e0a-99e7-d5db028dd131"
      },
      "outputs": [
        {
          "output_type": "stream",
          "name": "stdout",
          "text": [
            "accuracy_score on train dataset : \n",
            "0.6887871853546911\n",
            "\n",
            " accuracy_score on test dataset : \n",
            "0.7397260273972602\n",
            "\n",
            "\n",
            "fscore 0.7397260273972603\n",
            "\n",
            "\n"
          ]
        }
      ],
      "source": [
        "print('accuracy_score on train dataset : ' )\n",
        "NB_y_train_pred = prediction(y_train, x_train, classifier)\n",
        "print('\\n accuracy_score on test dataset : ' )\n",
        "NB_y_test_pred = prediction(y_test, x_test, classifier)\n",
        "\n",
        "# display precision, recall, fscore for our model\n",
        "print('\\n')\n",
        "precision_recall_f1(NB_y_test_pred)\n",
        "print('\\n')"
      ]
    },
    {
      "cell_type": "code",
      "execution_count": null,
      "metadata": {
        "colab": {
          "base_uri": "https://localhost:8080/"
        },
        "outputId": "e565a943-a608-4014-c38d-6a7dca7bebc6",
        "id": "xaAn9hy_DSmb"
      },
      "outputs": [
        {
          "output_type": "stream",
          "name": "stdout",
          "text": [
            "y_pred unique :  [4. 5.] counts :  [214   5]\n"
          ]
        }
      ],
      "source": [
        "# Show value and count it in (NB_y_test_pred) in training data\n",
        "unique, counts = np.unique(NB_y_test_pred , return_counts=True)\n",
        "print(\"y_pred unique : \", unique, 'counts : ',  counts)"
      ]
    },
    {
      "cell_type": "code",
      "execution_count": null,
      "metadata": {
        "colab": {
          "base_uri": "https://localhost:8080/"
        },
        "outputId": "adac33e3-b7d6-4f36-917f-50e9792c2bd0",
        "id": "OdqCTfvGDY4i"
      },
      "outputs": [
        {
          "output_type": "stream",
          "name": "stdout",
          "text": [
            "y_pred unique :  [1. 2. 3. 4. 5.] counts :  [  1   2  24 167  25]\n"
          ]
        }
      ],
      "source": [
        "# Show value and count it in (y_test) in testing data\n",
        "unique, counts = np.unique(y_test , return_counts=True)\n",
        "print(\"y_pred unique : \", unique, 'counts : ',  counts)"
      ]
    },
    {
      "cell_type": "code",
      "execution_count": null,
      "metadata": {
        "colab": {
          "base_uri": "https://localhost:8080/"
        },
        "outputId": "e73a3bfc-73fe-4b3f-f816-a57e3f2df315",
        "id": "Uykd_HIjDc4u"
      },
      "outputs": [
        {
          "output_type": "execute_result",
          "data": {
            "text/plain": [
              "array([4., 4., 4., 4., 4., 4., 4., 4., 4., 4., 4., 4., 4., 4., 4., 4., 4.,\n",
              "       4., 4., 4., 5., 4., 4., 4., 4., 4., 4., 4., 4., 4., 4., 4., 4., 4.,\n",
              "       4., 4., 4., 4., 4., 4., 4., 4., 4., 4., 4., 4., 4., 4., 4., 4., 5.,\n",
              "       4., 4., 4., 4., 4., 4., 4., 4., 4., 4., 4., 4., 4., 4., 4., 4., 4.,\n",
              "       4., 4., 4., 4., 4., 4., 4., 4., 4., 4., 4., 4., 4., 4., 4., 4., 4.,\n",
              "       4., 4., 4., 4., 4., 4., 4., 4., 5., 4., 4., 4., 4., 4., 4., 4., 5.,\n",
              "       4., 4., 4., 4., 4., 4., 4., 4., 4., 4., 4., 4., 4., 4., 4., 4., 4.,\n",
              "       4., 4., 4., 4., 4., 4., 4., 4., 4., 4., 4., 4., 4., 4., 4., 4., 4.,\n",
              "       4., 4., 4., 4., 4., 4., 4., 4., 4., 4., 4., 4., 4., 4., 4., 4., 4.,\n",
              "       4., 4., 4., 4., 4., 4., 4., 4., 4., 4., 4., 4., 4., 4., 4., 4., 4.,\n",
              "       4., 4., 4., 4., 4., 4., 4., 4., 4., 4., 4., 4., 4., 4., 4., 4., 4.,\n",
              "       4., 4., 4., 4., 4., 4., 4., 4., 4., 4., 4., 4., 4., 4., 4., 4., 4.,\n",
              "       4., 4., 4., 4., 4., 4., 4., 4., 4., 4., 4., 4., 4., 4., 4., 4., 4.,\n",
              "       4., 4., 4., 4., 4., 4., 4., 4., 4., 4., 4., 4., 4., 4., 4., 4., 4.,\n",
              "       5., 4., 4., 4., 4., 4., 4., 4., 4., 4., 4., 4., 4., 4., 4., 4., 4.,\n",
              "       4., 4., 4., 4., 4., 4., 4., 4., 4., 4., 4., 4., 4., 4., 4., 4., 4.,\n",
              "       4., 4., 4., 4., 4., 4., 4., 4., 4., 4., 4., 4., 4., 4., 4., 4., 4.,\n",
              "       4., 4., 4., 4., 4., 4., 4., 4., 4., 4., 4., 4., 4., 4., 4., 5., 4.,\n",
              "       4., 4., 4., 4., 4., 4., 4., 4., 4., 4., 4., 4., 4., 4., 4., 4., 4.,\n",
              "       4., 4., 4., 4., 4., 4., 4., 4., 4., 4., 4., 4., 4., 4., 4., 4., 4.,\n",
              "       4., 4., 4., 4., 4., 4., 4., 4., 4., 4., 4., 4., 4., 4., 4., 4., 4.,\n",
              "       4., 4., 4., 4., 4., 4., 4., 4., 4., 4., 4., 4., 4., 4., 4., 4., 4.,\n",
              "       4., 4., 4., 4., 4., 4., 4., 4., 4., 4., 4., 4., 4., 4., 4., 4., 4.,\n",
              "       4., 4., 4., 4., 4., 4., 4., 4., 4., 4., 4., 4., 4., 4., 4., 4., 4.,\n",
              "       4., 4., 4., 4., 4., 4., 4., 4., 4., 4., 4., 4., 4., 4., 4., 4., 4.,\n",
              "       4., 4., 4., 4., 4., 4., 4., 5., 4., 4., 4., 4., 4., 4., 4., 4., 4.,\n",
              "       4., 4., 4., 4., 4., 4., 4., 4., 4., 4., 4., 4., 4., 4., 4., 5., 4.,\n",
              "       4., 4., 4., 4., 4., 4., 4., 4., 4., 4., 4., 4., 4., 4., 4., 4., 4.,\n",
              "       4., 4., 4.])"
            ]
          },
          "metadata": {},
          "execution_count": 448
        }
      ],
      "source": [
        "# predict the test data\n",
        "y_pred= classifier.predict(df_test)\n",
        "\n",
        "y_pred"
      ]
    },
    {
      "cell_type": "code",
      "execution_count": null,
      "metadata": {
        "colab": {
          "base_uri": "https://localhost:8080/"
        },
        "outputId": "e588aba2-2824-4bc1-af9e-8285fdc23370",
        "id": "CUJmaAa-DglM"
      },
      "outputs": [
        {
          "output_type": "stream",
          "name": "stdout",
          "text": [
            "y_pred_clf unique :  [4. 5.] counts :  [471   8]\n"
          ]
        }
      ],
      "source": [
        "# Show value and count it in (y_pred) in testing data\n",
        "unique, counts = np.unique(y_pred , return_counts=True)\n",
        "print(\"y_pred_clf unique : \", unique, 'counts : ',  counts)"
      ]
    },
    {
      "cell_type": "code",
      "execution_count": null,
      "metadata": {
        "id": "AwSI5zQTDj_I"
      },
      "outputs": [],
      "source": [
        "# get the id index from the testing data\n",
        "index = df_test.index.get_level_values('id')\n",
        "\n",
        "# write the prediction data into csv file with the id index\n",
        "pred_df = pd.DataFrame(data={'id': np.asarray(index), 'rating': y_pred})\n",
        "\n",
        "pred_df.to_csv('pred_walkthrough_NB.csv', index=False)"
      ]
    },
    {
      "cell_type": "code",
      "execution_count": null,
      "metadata": {
        "id": "Lssted0ikfLW"
      },
      "outputs": [],
      "source": [
        ""
      ]
    },
    {
      "cell_type": "code",
      "source": [
        ""
      ],
      "metadata": {
        "id": "B4u9TtP_DNXt"
      },
      "execution_count": null,
      "outputs": []
    },
    {
      "cell_type": "code",
      "source": [
        ""
      ],
      "metadata": {
        "id": "tB1gaokNDNbC"
      },
      "execution_count": null,
      "outputs": []
    },
    {
      "cell_type": "code",
      "source": [
        ""
      ],
      "metadata": {
        "id": "fvLEZ1EdDNdw"
      },
      "execution_count": null,
      "outputs": []
    },
    {
      "cell_type": "code",
      "source": [
        ""
      ],
      "metadata": {
        "id": "vcJaHvyjDNgq"
      },
      "execution_count": null,
      "outputs": []
    },
    {
      "cell_type": "code",
      "source": [
        ""
      ],
      "metadata": {
        "id": "BLRr5TNiDNjO"
      },
      "execution_count": null,
      "outputs": []
    },
    {
      "cell_type": "code",
      "source": [
        ""
      ],
      "metadata": {
        "id": "3g3lWdDnDNmz"
      },
      "execution_count": null,
      "outputs": []
    },
    {
      "cell_type": "code",
      "source": [
        ""
      ],
      "metadata": {
        "id": "KrEyMGjjDNsJ"
      },
      "execution_count": null,
      "outputs": []
    },
    {
      "cell_type": "code",
      "source": [
        ""
      ],
      "metadata": {
        "id": "8JtZvXFNDNxi"
      },
      "execution_count": null,
      "outputs": []
    },
    {
      "cell_type": "code",
      "source": [
        ""
      ],
      "metadata": {
        "id": "WjSXQIasDN1g"
      },
      "execution_count": null,
      "outputs": []
    }
  ],
  "metadata": {
    "colab": {
      "collapsed_sections": [
        "e5S_-797E99p",
        "YPUNLNn0IveK",
        "Uc9POM21NaLz",
        "Jz4fxYykT1VB",
        "kpiQuHl4mr6k",
        "P2iqep3xU7dT",
        "NqKkvXTPmXXa",
        "lFe7RxVUfbtr",
        "zL2USnK7gUU0",
        "wzdxPgnVMTli",
        "_cYmd_gdM59c",
        "yoSl80J9tm72",
        "shmYQwLat01B"
      ],
      "name": "DM_Assignment_Doc_1_Final.ipynb",
      "provenance": []
    },
    "kernelspec": {
      "display_name": "Python 3",
      "language": "python",
      "name": "python3"
    },
    "language_info": {
      "codemirror_mode": {
        "name": "ipython",
        "version": 3
      },
      "file_extension": ".py",
      "mimetype": "text/x-python",
      "name": "python",
      "nbconvert_exporter": "python",
      "pygments_lexer": "ipython3",
      "version": "3.7.0"
    }
  },
  "nbformat": 4,
  "nbformat_minor": 0
}